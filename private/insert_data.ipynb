{
 "cells": [
  {
   "cell_type": "code",
   "execution_count": 1,
   "id": "initial_id",
   "metadata": {
    "collapsed": true,
    "ExecuteTime": {
     "end_time": "2024-04-27T18:27:58.777127Z",
     "start_time": "2024-04-27T18:27:57.824486Z"
    }
   },
   "outputs": [],
   "source": [
    "import db\n",
    "import re\n",
    "import copy\n",
    "import zipfile\n",
    "import pandas as pd\n",
    "import data_preprocessing as dp\n",
    "from collections import defaultdict\n",
    "\n",
    "%load_ext autoreload\n",
    "%autoreload 2\n",
    "root_path = './data'\n",
    "db.create_tables()"
   ]
  },
  {
   "cell_type": "markdown",
   "source": [
    "# ROOT_ZIP 데이터 추가"
   ],
   "metadata": {
    "collapsed": false
   },
   "id": "76cb4472889d558b"
  },
  {
   "cell_type": "code",
   "outputs": [],
   "source": [
    "separate = {\n",
    "    '필기체': ['교원그룹', 'handwriting', '필기체'],\n",
    "    '인쇄체': ['print'],\n",
    "    '인쇄체(증강)': ['augmentation'],\n",
    "    '인쇄체(다양한 형태)': ['textinthewild', 'Training_인쇄체'],\n",
    "    '인쇄체(간판)': ['중심대학']\n",
    "}\n",
    "\n",
    "def find_key_by_value(input_string):\n",
    "    for k, values in separate.items():\n",
    "        if any(v in input_string for v in values):\n",
    "            return k\n",
    "\n",
    "zip_files = dp.find_file_paths(root_path, 'zip')\n",
    "zip_df = pd.DataFrame(data=zip_files, columns=['ZIP_PATH'])\n",
    "zip_df['KIND'] = zip_df['ZIP_PATH'].apply(find_key_by_value)\n",
    "zip_df = zip_df[~zip_df['ZIP_PATH'].str.contains('라벨')]\n",
    "db.insert_root(zip_df)"
   ],
   "metadata": {
    "collapsed": false,
    "ExecuteTime": {
     "end_time": "2024-04-27T18:27:58.883235Z",
     "start_time": "2024-04-27T18:27:58.778129Z"
    }
   },
   "id": "628d7c4c7b656729",
   "execution_count": 2
  },
  {
   "cell_type": "markdown",
   "source": [
    "# 이미지 경로 추가"
   ],
   "metadata": {
    "collapsed": false
   },
   "id": "a4758efd7915966a"
  },
  {
   "cell_type": "code",
   "outputs": [],
   "source": [
    "for zip_path in zip_df['ZIP_PATH']:\n",
    "    full_zip_path = f\"{root_path}/{zip_path}\"\n",
    "    with zipfile.ZipFile(full_zip_path, 'r') as zip_ref:\n",
    "        zip_contents = zip_ref.namelist()\n",
    "        image_files = [file for file in zip_contents if file.lower().endswith(('.png', '.jpg', '.jpeg', '.gif', '.bmp'))]\n",
    "        image_df = pd.DataFrame(image_files, columns=['IMAGE_PATH'])\n",
    "        image_df['ZIP_PATH'] = zip_path\n",
    "        db.insert_image_path(image_df)"
   ],
   "metadata": {
    "collapsed": false,
    "ExecuteTime": {
     "end_time": "2024-04-27T18:31:26.200866Z",
     "start_time": "2024-04-27T18:27:58.884235Z"
    }
   },
   "id": "d66779adc756f865",
   "execution_count": 3
  },
  {
   "cell_type": "markdown",
   "source": [
    "# 13.한국어글자체"
   ],
   "metadata": {
    "collapsed": false
   },
   "id": "30d97264047606f4"
  },
  {
   "cell_type": "code",
   "outputs": [],
   "source": [
    "search = '13.한국어글자체'\n",
    "json_paths = dp.find_file_paths(f\"{root_path}/{search}\", 'json')\n",
    "\n",
    "# {json 파일 경로: base_directory}\n",
    "base_directories = {path: path.split('/')[-2] for path in json_paths}\n",
    "json_infos = {path: dp.get_default_json(path) for path in json_paths}"
   ],
   "metadata": {
    "collapsed": false,
    "ExecuteTime": {
     "end_time": "2024-04-27T18:31:53.623318Z",
     "start_time": "2024-04-27T18:31:26.201882Z"
    }
   },
   "id": "536f54bb29ecfd36",
   "execution_count": 4
  },
  {
   "cell_type": "code",
   "outputs": [],
   "source": [
    "structure_paths = defaultdict(list)\n",
    "\n",
    "for path, json_info in json_infos.items():\n",
    "    key = dp.get_json_structure(json_info)\n",
    "    structure_paths[key].append(path)\n",
    "\n",
    "structure_features = [\n",
    "    ['FILE_NAME', 'TEXT', 'CLASS'], ['FILE_NAME', 'TEXT', 'CLASS'], ['FILE_NAME', 'TEXT', 'BOX', 'CLASS']\n",
    "]"
   ],
   "metadata": {
    "collapsed": false,
    "ExecuteTime": {
     "end_time": "2024-04-27T18:31:53.670138Z",
     "start_time": "2024-04-27T18:31:53.624318Z"
    }
   },
   "id": "c05af7db06987847",
   "execution_count": 5
  },
  {
   "cell_type": "code",
   "outputs": [],
   "source": [
    "df_list = []\n",
    "\n",
    "for i, (structure, json_paths) in enumerate(structure_paths.items()):\n",
    "    for path in json_paths:\n",
    "        kor_info = dp.kor_directory(json_infos[path], structure_features[i])\n",
    "                \n",
    "        image_list = db.select_image_by_zip_path(base_directories[path])\n",
    "        image_list = pd.DataFrame(image_list)\n",
    "        image_list['FILE_NAME'] = image_list['IMAGE_PATH'].str.split('/').str[-1]\n",
    "        \n",
    "        merged = image_list.merge(kor_info, on='FILE_NAME', how='inner', validate='1:m')\n",
    "        merged = merged.dropna()\n",
    "        \n",
    "        regular_type = \\\n",
    "            lambda x: 'augmentation' if re.match(r'^zip|^\\d+(-\\d+)*$', x.split('/')[-2]) else re.sub(r'^\\d+_', '', x.split('/')[-2])\n",
    "        merged['TYPE'] = merged['IMAGE_PATH'].apply(regular_type)\n",
    "\n",
    "        merged.rename(columns={'ID': 'IMAGE_ID'}, inplace=True)\n",
    "        \n",
    "        if 'BOX' in merged.columns:\n",
    "            image_info = copy.deepcopy(merged[['IMAGE_ID', 'TYPE']])\n",
    "            image_info = image_info.drop_duplicates()\n",
    "            db.insert_image_info(image_info)\n",
    "        \n",
    "        merged = merged[merged['TEXT'] != '']\n",
    "        \n",
    "        db.insert_info(merged, 'sum')"
   ],
   "metadata": {
    "collapsed": false,
    "ExecuteTime": {
     "end_time": "2024-04-27T18:37:18.854983Z",
     "start_time": "2024-04-27T18:31:53.671241Z"
    }
   },
   "id": "e0d4525fa9b434c7",
   "execution_count": 6
  },
  {
   "cell_type": "markdown",
   "source": [
    "# 다양한 형태의 한글 문자 OCR"
   ],
   "metadata": {
    "collapsed": false
   },
   "id": "5f9c374bbf0a562e"
  },
  {
   "cell_type": "code",
   "outputs": [
    {
     "name": "stderr",
     "output_type": "stream",
     "text": [
      "100%|██████████| 60000/60000 [02:33<00:00, 391.39it/s] \n",
      "100%|██████████| 276886/276886 [00:10<00:00, 26059.19it/s]\n",
      "100%|██████████| 605741/605741 [01:48<00:00, 5590.30it/s] \n"
     ]
    }
   ],
   "source": [
    "search = '다양한 형태의 한글 문자 OCR'\n",
    "\n",
    "\n",
    "zip_paths = [path for path in dp.find_file_paths(f'{root_path}/{search}', 'zip', False) if '라벨' in path]\n",
    "\n",
    "json_paths = []\n",
    "# zip 파일 안의 json 파일 경로 찾기\n",
    "for full_zip_path in zip_paths: \n",
    "    with zipfile.ZipFile(full_zip_path, 'r') as zip_ref:\n",
    "        zip_contents = zip_ref.namelist()\n",
    "        json_paths.extend([\n",
    "            file for file in zip_contents if file.lower().endswith('.json')\n",
    "        ])\n",
    "\n",
    "base_paths = defaultdict(list) # {base_directory: [json_path]]}\n",
    "structure_infos = defaultdict(list)\n",
    "\n",
    "for path in json_paths:    \n",
    "    base_path = path.encode('cp437').decode('cp949').split('/')[0]\n",
    "    base_paths[base_path].append(path)\n",
    "\n",
    "for base_path, json_paths in base_paths.items():\n",
    "    zip_prefix = f'{root_path}/{search}/Training/'\n",
    "    if base_path == 'form':\n",
    "        zip_path = f'{zip_prefix}[라벨]Training_인쇄체.zip'\n",
    "    else:\n",
    "        zip_path = f'{zip_prefix}[라벨]Training_필기체.zip'\n",
    "    json_infos = dp.get_zip_json(zip_path, json_paths)\n",
    "    for json_info in json_infos:\n",
    "        structure = dp.get_json_structure(json_info)\n",
    "        structure_infos[structure].append(json_info)    "
   ],
   "metadata": {
    "collapsed": false,
    "ExecuteTime": {
     "end_time": "2024-04-27T18:42:35.778794Z",
     "start_time": "2024-04-27T18:37:18.855984Z"
    }
   },
   "id": "efc696b80adec136",
   "execution_count": 7
  },
  {
   "cell_type": "code",
   "outputs": [],
   "source": [
    "search = '원천'\n",
    "\n",
    "image_paths = db.select_image_by_zip_path(search)\n",
    "image_paths = pd.DataFrame(image_paths)\n",
    "image_paths['FILE_NAME'] = image_paths['IMAGE_PATH'].str.split('/').str[-1]\n",
    "image_paths.rename(columns={'ID': 'IMAGE_ID'}, inplace=True)\n",
    "image_paths.set_index('FILE_NAME', inplace=True)"
   ],
   "metadata": {
    "collapsed": false,
    "ExecuteTime": {
     "end_time": "2024-04-27T18:43:01.020501Z",
     "start_time": "2024-04-27T18:42:35.786848Z"
    }
   },
   "id": "2e7e2c52880f1c33",
   "execution_count": 8
  },
  {
   "cell_type": "code",
   "outputs": [
    {
     "name": "stderr",
     "output_type": "stream",
     "text": [
      "100%|██████████| 60000/60000 [00:07<00:00, 7852.90it/s] \n",
      "100%|██████████| 276886/276886 [00:03<00:00, 89216.44it/s] \n",
      "100%|██████████| 605739/605739 [00:09<00:00, 65493.36it/s] \n",
      "100%|██████████| 1/1 [00:00<?, ?it/s]\n",
      "100%|██████████| 1/1 [00:00<?, ?it/s]\n"
     ]
    }
   ],
   "source": [
    "for structure, jsons_list in structure_infos.items():    \n",
    "    image_infos, infos = dp.variables_directory(jsons_list)\n",
    "    \n",
    "    if image_infos:\n",
    "        image_infos = pd.DataFrame(image_infos)\n",
    "        image_infos.drop_duplicates(inplace=True)\n",
    "        image_infos.set_index('FILE_NAME', inplace=True)\n",
    "        image_infos = image_infos.join(image_paths, how='inner')\n",
    "        image_infos = image_infos[['IMAGE_ID', 'TYPE']]\n",
    "        db.insert_image_info(image_infos)\n",
    "        \n",
    "    change_columns = {'wordbox': 'BOX', 'value': 'TEXT', 'charbox': 'BOX'}\n",
    "    infos = pd.DataFrame(infos).rename(columns=change_columns)\n",
    "\n",
    "    select_cols = ['IMAGE_ID', 'CLASS', 'TEXT']\n",
    "\n",
    "    if 'BOX' in infos.columns:\n",
    "        select_cols.append('BOX')\n",
    "    \n",
    "    if 'letter' in infos.columns:\n",
    "        letter_infos = []\n",
    "        def letter_process(row):\n",
    "            letters = row['letter']\n",
    "            for letter in letters:\n",
    "                letter.update({'FILE_NAME': row['FILE_NAME'], 'CLASS': '문자'})\n",
    "                letter_infos.append(letter)\n",
    "                \n",
    "        infos.apply(letter_process, axis=1)\n",
    "        \n",
    "        letter_infos = pd.DataFrame(letter_infos).rename(columns=change_columns)\n",
    "        letter_infos.set_index('FILE_NAME', inplace=True)\n",
    "        letter_infos = letter_infos.join(image_paths, how='inner')\n",
    "        letter_infos = letter_infos[select_cols]\n",
    "        letter_infos = letter_infos[letter_infos['TEXT'] != '']\n",
    "        letter_infos.dropna(inplace=True)\n",
    "        db.insert_info(letter_infos)   \n",
    "    \n",
    "    infos = infos[infos['TEXT'] != '']\n",
    "    infos.set_index('FILE_NAME', inplace=True)\n",
    "    infos = infos.join(image_paths, how='inner')\n",
    "        \n",
    "    infos = infos[select_cols]\n",
    "    infos.dropna(inplace=True)\n",
    "    \n",
    "    db.insert_info(infos)   "
   ],
   "metadata": {
    "collapsed": false,
    "ExecuteTime": {
     "end_time": "2024-04-27T18:59:05.254040Z",
     "start_time": "2024-04-27T18:43:01.022520Z"
    }
   },
   "id": "ca485a8d78c5f7c4",
   "execution_count": 9
  },
  {
   "cell_type": "markdown",
   "source": [
    "# 2023 교원그룹 AI OCR 챌린지, SW 중심대학 공동 AI 경진대회 <본선>"
   ],
   "metadata": {
    "collapsed": false
   },
   "id": "92d7e3e62b25c63c"
  },
  {
   "cell_type": "code",
   "outputs": [],
   "source": [
    "search_list = ['2023 교원그룹 AI OCR 챌린지.zip', 'SW 중심대학 공동 AI 경진대회.zip']\n",
    "_class = '단어'\n",
    "df_list = []\n",
    "\n",
    "change_columns = {'label': 'TEXT', 'text': 'TEXT'}\n",
    "path_select = ['IMAGE_PATH', 'ZIP_PATH']\n",
    "info_select = ['TEXT', 'CLASS', 'IMAGE_ID']\n",
    "\n",
    "\n",
    "for search in search_list:\n",
    "    df_list.append(dp.get_zip_csv(f'{root_path}/{search}', '.csv'))\n",
    "    \n",
    "for i, df in enumerate(df_list):\n",
    "    df['IMAGE_PATH'] = df['img_path'].str.replace('./', '')\n",
    "    df['ZIP_PATH'] = search_list[i]\n",
    "    df['CLASS'] = _class\n",
    "    df.rename(columns=change_columns, inplace=True)\n",
    "    db.insert_image_path(df[path_select])\n",
    "    image_path_df = pd.DataFrame((db.select_image_by_zip_path(search_list[i])))\n",
    "    image_path_df.rename(columns={'ID': 'IMAGE_ID'}, inplace=True)\n",
    "    df = df.merge(image_path_df, on='IMAGE_PATH')\n",
    "    db.insert_info(df[info_select])"
   ],
   "metadata": {
    "collapsed": false,
    "ExecuteTime": {
     "end_time": "2024-04-27T18:59:48.605777Z",
     "start_time": "2024-04-27T18:59:05.258066Z"
    }
   },
   "id": "d4779b0a163c320f",
   "execution_count": 10
  }
 ],
 "metadata": {
  "kernelspec": {
   "display_name": "Python 3",
   "language": "python",
   "name": "python3"
  },
  "language_info": {
   "codemirror_mode": {
    "name": "ipython",
    "version": 2
   },
   "file_extension": ".py",
   "mimetype": "text/x-python",
   "name": "python",
   "nbconvert_exporter": "python",
   "pygments_lexer": "ipython2",
   "version": "2.7.6"
  }
 },
 "nbformat": 4,
 "nbformat_minor": 5
}
