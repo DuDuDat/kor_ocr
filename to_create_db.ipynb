{
 "cells": [
  {
   "cell_type": "code",
   "execution_count": 8,
   "id": "initial_id",
   "metadata": {
    "collapsed": true,
    "ExecuteTime": {
     "end_time": "2024-04-26T06:29:57.384077Z",
     "start_time": "2024-04-26T06:29:56.466464Z"
    }
   },
   "outputs": [
    {
     "name": "stdout",
     "output_type": "stream",
     "text": [
      "The autoreload extension is already loaded. To reload it, use:\n",
      "  %reload_ext autoreload\n"
     ]
    }
   ],
   "source": [
    "import json\n",
    "\n",
    "import db\n",
    "import glob\n",
    "import zipfile\n",
    "import pandas as pd\n",
    "import re\n",
    "import copy\n",
    "from collections import defaultdict\n",
    "from functools import reduce\n",
    "\n",
    "%load_ext autoreload\n",
    "%autoreload 2\n",
    "root_path = './data/'\n",
    "db.create_tables()\n",
    "\n",
    "# 0번 디렉토리 13.한국어 글자체 json -> df 처리 함수\n",
    "def kor_directory(json_data, select_cols):\n",
    "    '''\n",
    "    :param json_data: json 정보\n",
    "    :param select_cols: 최종 선택 컬럼\n",
    "    :return:\n",
    "    '''\n",
    "    cols = ['images', 'annotations']\n",
    "    select_df = pd.json_normalize(json_data)\n",
    "\n",
    "    dfs = []\n",
    "    for col in cols:\n",
    "        tmp = []\n",
    "        for nested_json in select_df[col]:\n",
    "            tmp.append(pd.json_normalize(nested_json))\n",
    "        dfs.append(pd.concat(tmp))\n",
    "\n",
    "    merge_function = \\\n",
    "        lambda left, right: pd.merge(left, right, left_on='id', right_on='image_id', how='inner', validate=\"1:m\")\n",
    "\n",
    "    result = reduce(merge_function, dfs)\n",
    "\n",
    "    _class = 'attributes.type'\n",
    "\n",
    "    if 'attributes.class' in result.columns:\n",
    "        _class = 'attributes.class'\n",
    "\n",
    "    result.rename(columns={'file_name':'FILE_NAME', 'text': 'TEXT', 'bbox': 'BOX', _class: 'CLASS'}, inplace=True)\n",
    "\n",
    "    # '문장': '문장'\n",
    "    change_name = {\n",
    "        '글자(음절)': '문자', '단어(어절)': '단어', 'character': '문자', 'word': '단어'\n",
    "    }\n",
    "\n",
    "    result['CLASS'] = result['CLASS'].replace(change_name)\n",
    "\n",
    "    return result[select_cols]\n",
    "\n",
    "# JSON 데이터 가져오는 함수\n",
    "def get_json(file_path):\n",
    "    with open(file_path, 'r', encoding='utf-8') as file:\n",
    "        result = json.load(file)\n",
    "    return result\n",
    "\n",
    "# JSON 파일 경로 찾는 함수\n",
    "def find_json_paths(directory):\n",
    "    pattern = f\"{directory}/**/*.json\"\n",
    "    result = glob.glob(pattern, recursive=True)\n",
    "    result = [file.replace('\\\\', '/') for file in result]\n",
    "    return  result\n",
    "\n",
    "# json 데이터 구조 확인\n",
    "def get_json_structure(data, prefix=''):\n",
    "    '''\n",
    "    :param data: json 데이터\n",
    "    :param prefix: 이전\n",
    "    :return: json 구조를 나타내는 tuple\n",
    "    '''\n",
    "    result = []\n",
    "    if isinstance(data, dict):\n",
    "        for key, value in data.items():\n",
    "            current_prefix = f\"{prefix}.{key}\" if prefix else key\n",
    "            result.append(current_prefix)\n",
    "            if isinstance(value, (dict, list)):\n",
    "                result.extend(get_json_structure(data=value, prefix=current_prefix))\n",
    "    elif isinstance(data, list) and data:\n",
    "        result.append(f\"{prefix}[list]\")\n",
    "        result.extend(get_json_structure(data=data[0], prefix=prefix))\n",
    "    return tuple(result)"
   ]
  },
  {
   "cell_type": "code",
   "outputs": [],
   "source": [
    "# './data' 디렉토리와 모든 하위 폴더에서 zip 파일 리스트 가져오기\n",
    "def list_zip_files_glob(root):\n",
    "    result = glob.glob(f\"{root}**/*.zip\", recursive=True)\n",
    "    result = [file.replace('\\\\', '/').replace(root, '') for file in result]\n",
    "    return result\n",
    "\n",
    "separate = {\n",
    "    '필기체': ['open.zip', 'handwriting', '필기체'],\n",
    "    '인쇄체': ['print'],\n",
    "    '인쇄체(증강)': ['augmentation'],\n",
    "    '인쇄체(다양한 형태)': ['textinthewild', 'Training_인쇄체']\n",
    "}\n",
    "\n",
    "def find_key_by_value(input_string):\n",
    "    for k, values in separate.items():\n",
    "        if any(v in input_string for v in values):\n",
    "            return k\n",
    "\n",
    "zip_files = list_zip_files_glob(root_path)\n",
    "\n",
    "zip_df = pd.DataFrame(data=zip_files, columns=['ZIP_PATH'])\n",
    "zip_df['KIND'] = zip_df['ZIP_PATH'].apply(find_key_by_value)\n",
    "zip_df = zip_df[~zip_df['ZIP_PATH'].str.contains('라벨')]\n",
    "db.insert_root(zip_df)"
   ],
   "metadata": {
    "collapsed": false,
    "ExecuteTime": {
     "end_time": "2024-04-26T06:29:57.588022Z",
     "start_time": "2024-04-26T06:29:57.386078Z"
    }
   },
   "id": "628d7c4c7b656729",
   "execution_count": 9
  },
  {
   "cell_type": "code",
   "outputs": [],
   "source": [
    "for zip_path in zip_df['ZIP_PATH']:\n",
    "    full_zip_path = f\"{root_path}{zip_path}\"\n",
    "    with zipfile.ZipFile(full_zip_path, 'r') as zip_ref:\n",
    "        zip_contents = zip_ref.namelist()\n",
    "        image_files = [file for file in zip_contents if file.lower().endswith(('.png', '.jpg', '.jpeg', '.gif', '.bmp'))]\n",
    "        image_df = pd.DataFrame(image_files, columns=['IMAGE_PATH'])\n",
    "        image_df['ZIP_PATH'] = zip_path\n",
    "        db.insert_image_path(image_df)"
   ],
   "metadata": {
    "collapsed": false,
    "ExecuteTime": {
     "end_time": "2024-04-26T06:33:36.117895Z",
     "start_time": "2024-04-26T06:29:57.589022Z"
    }
   },
   "id": "d66779adc756f865",
   "execution_count": 10
  },
  {
   "cell_type": "markdown",
   "source": [
    "# 13.한국어글자체"
   ],
   "metadata": {
    "collapsed": false
   },
   "id": "30d97264047606f4"
  },
  {
   "cell_type": "code",
   "outputs": [],
   "source": [],
   "metadata": {
    "collapsed": false,
    "ExecuteTime": {
     "end_time": "2024-04-26T06:33:36.132940Z",
     "start_time": "2024-04-26T06:33:36.118896Z"
    }
   },
   "id": "994adf04fc84ed72",
   "execution_count": 10
  },
  {
   "cell_type": "code",
   "outputs": [],
   "source": [
    "search = '13.한국어글자체'\n",
    "json_paths = find_json_paths(f\"{root_path}{search}\")\n",
    "\n",
    "# {json 파일 경로: base_directory}\n",
    "base_directories = {path: path.split('/')[-2] for path in json_paths}\n",
    "json_infos = {path: get_json(path) for path in json_paths}"
   ],
   "metadata": {
    "collapsed": false,
    "ExecuteTime": {
     "end_time": "2024-04-26T06:36:57.324843Z",
     "start_time": "2024-04-26T06:33:36.134941Z"
    }
   },
   "id": "536f54bb29ecfd36",
   "execution_count": 11
  },
  {
   "cell_type": "code",
   "outputs": [],
   "source": [
    "structure_paths = defaultdict(list)\n",
    "\n",
    "for path, json_info in json_infos.items():\n",
    "    key = get_json_structure(json_info)\n",
    "    structure_paths[key].append(path)\n",
    "\n",
    "structure_features = [\n",
    "    ['FILE_NAME', 'TEXT', 'CLASS'], ['FILE_NAME', 'TEXT', 'CLASS'], ['FILE_NAME', 'TEXT', 'BOX', 'CLASS']\n",
    "]"
   ],
   "metadata": {
    "collapsed": false,
    "ExecuteTime": {
     "end_time": "2024-04-26T06:36:57.529958Z",
     "start_time": "2024-04-26T06:36:57.336899Z"
    }
   },
   "id": "c05af7db06987847",
   "execution_count": 12
  },
  {
   "cell_type": "code",
   "outputs": [],
   "source": [
    "df_list = []\n",
    "\n",
    "for i, (structure, json_paths) in enumerate(structure_paths.items()):\n",
    "    for path in json_paths:\n",
    "        kor_info = kor_directory(json_infos[path], structure_features[i])\n",
    "                \n",
    "        image_list = db.select_image(base_directories[path])\n",
    "        image_list = pd.DataFrame(image_list)\n",
    "        image_list['FILE_NAME'] = image_list['IMAGE_PATH'].str.split('/').str[-1]\n",
    "        \n",
    "        merged = image_list.merge(kor_info, on='FILE_NAME', how='inner', validate='1:m')\n",
    "        merged = merged.dropna()\n",
    "        \n",
    "        regular_type = \\\n",
    "            lambda x: 'augmentation' if re.match(r'^zip|^\\d+(-\\d+)*$', x.split('/')[-2]) else re.sub(r'^\\d+_', '', x.split('/')[-2])\n",
    "        merged['TYPE'] = merged['IMAGE_PATH'].apply(regular_type)\n",
    "\n",
    "        merged.rename(columns={'ID': 'IMAGE_ID'}, inplace=True)\n",
    "        \n",
    "        if 'BOX' in merged.columns:\n",
    "            image_info = copy.deepcopy(merged[['IMAGE_ID', 'TYPE']])\n",
    "            image_info = image_info.drop_duplicates()\n",
    "            db.insert_image_info(image_info)\n",
    "        \n",
    "        merged = merged[merged['TEXT'] != '']\n",
    "        \n",
    "        db.insert_info(merged, 'sum')"
   ],
   "metadata": {
    "collapsed": false,
    "ExecuteTime": {
     "end_time": "2024-04-26T06:42:22.259776Z",
     "start_time": "2024-04-26T06:36:57.531959Z"
    }
   },
   "id": "e0d4525fa9b434c7",
   "execution_count": 13
  },
  {
   "cell_type": "markdown",
   "source": [
    "# 다양한 형태의 한글 문자 OCR"
   ],
   "metadata": {
    "collapsed": false
   },
   "id": "5f9c374bbf0a562e"
  },
  {
   "cell_type": "code",
   "outputs": [
    {
     "name": "stderr",
     "output_type": "stream",
     "text": [
      "100%|██████████| 60000/60000 [10:36<00:00, 94.21it/s]  \n",
      "100%|██████████| 276886/276886 [00:11<00:00, 24620.30it/s]\n",
      "100%|██████████| 605741/605741 [00:28<00:00, 21331.39it/s]\n"
     ]
    }
   ],
   "source": [
    "from tqdm import tqdm\n",
    "\n",
    "search = '다양한 형태의 한글 문자 OCR'\n",
    "\n",
    "def find_zip_paths(directory):\n",
    "    pattern = f\"{directory}/**/*.zip\"\n",
    "    result = glob.glob(pattern, recursive=True)\n",
    "    result = [file.replace('\\\\', '/') for file in result]\n",
    "    return  result\n",
    "\n",
    "def get_zip_json(zip_path, paths):\n",
    "    result = []\n",
    "    with zipfile.ZipFile(zip_path, 'r') as z:\n",
    "        for path in tqdm(paths):\n",
    "            with z.open(path) as f:\n",
    "                json_file = json.load(f)\n",
    "                result.append(json_file)\n",
    "    return result\n",
    "\n",
    "zip_paths = [path for path in find_zip_paths(f'{root_path}{search}') if '라벨' in path]\n",
    "\n",
    "json_paths = []\n",
    "# zip 파일 안의 json 파일 경로 찾기\n",
    "for full_zip_path in zip_paths: \n",
    "    with zipfile.ZipFile(full_zip_path, 'r') as zip_ref:\n",
    "        zip_contents = zip_ref.namelist()\n",
    "        json_paths.extend([\n",
    "            file for file in zip_contents if file.lower().endswith('.json')\n",
    "        ])\n",
    "\n",
    "base_paths = defaultdict(list) # {base_directory: [json_path]]}\n",
    "structure_infos = defaultdict(list)\n",
    "\n",
    "for path in json_paths:    \n",
    "    base_path = path.encode('cp437').decode('cp949').split('/')[0]\n",
    "    base_paths[base_path].append(path)\n",
    "\n",
    "for base_path, json_paths in base_paths.items():\n",
    "    zip_prefix = f'{root_path}{search}/Training/'\n",
    "    if base_path == 'form':\n",
    "        zip_path = f'{zip_prefix}[라벨]Training_인쇄체.zip'\n",
    "    else:\n",
    "        zip_path = f'{zip_prefix}[라벨]Training_필기체.zip'\n",
    "    json_infos = get_zip_json(zip_path, json_paths)\n",
    "    for json_info in json_infos:\n",
    "        structure = get_json_structure(json_info)\n",
    "        structure_infos[structure].append(json_info)    "
   ],
   "metadata": {
    "collapsed": false,
    "ExecuteTime": {
     "end_time": "2024-04-26T06:55:39.491884Z",
     "start_time": "2024-04-26T06:42:22.261777Z"
    }
   },
   "id": "efc696b80adec136",
   "execution_count": 14
  },
  {
   "cell_type": "code",
   "outputs": [],
   "source": [
    "search = '원천'\n",
    "\n",
    "image_paths = db.select_image(search)\n",
    "image_paths = pd.DataFrame(image_paths)\n",
    "image_paths['FILE_NAME'] = image_paths['IMAGE_PATH'].str.split('/').str[-1]\n",
    "image_paths.rename(columns={'ID': 'IMAGE_ID'}, inplace=True)\n",
    "image_paths.set_index('FILE_NAME', inplace=True)"
   ],
   "metadata": {
    "collapsed": false,
    "ExecuteTime": {
     "end_time": "2024-04-26T07:04:07.513860Z",
     "start_time": "2024-04-26T06:55:39.501043Z"
    }
   },
   "id": "2e7e2c52880f1c33",
   "execution_count": 15
  },
  {
   "cell_type": "code",
   "outputs": [
    {
     "name": "stderr",
     "output_type": "stream",
     "text": [
      "100%|██████████| 60000/60000 [00:03<00:00, 18766.43it/s]\n",
      "100%|██████████| 276886/276886 [00:06<00:00, 45437.77it/s]\n",
      "100%|██████████| 605739/605739 [00:20<00:00, 28898.14it/s]\n",
      "100%|██████████| 1/1 [00:00<?, ?it/s]\n",
      "100%|██████████| 1/1 [00:00<00:00, 978.38it/s]\n"
     ]
    }
   ],
   "source": [
    "for structure, jsons_list in structure_infos.items():\n",
    "    image_infos = []    \n",
    "    infos = []\n",
    "\n",
    "    for json_info in tqdm(jsons_list):\n",
    "        image = json_info['image']\n",
    "        filename = image.get('file_name', image.get('file_fame', None))\n",
    "        \n",
    "        text = json_info['text']\n",
    "        if 'letter' in text.keys(): # 단일 값\n",
    "            _class = '문자'\n",
    "            value = text['letter']['value'] # 텍스트 값\n",
    "            infos.append({\n",
    "                'FILE_NAME': filename,\n",
    "                'CLASS': _class,\n",
    "                'TEXT': value\n",
    "            })            \n",
    "            continue\n",
    "\n",
    "        word = text['word']\n",
    "        \n",
    "        _type = 'form' # 인쇄체\n",
    "        _class = '단어'\n",
    "        if 'output' in text.keys(): # 필기체 좌표\n",
    "            _type = 'cursive'\n",
    "            _class = '문자'\n",
    "        \n",
    "        for item in word:\n",
    "            item.update({'FILE_NAME': filename, 'CLASS': _class})\n",
    "\n",
    "        image_infos.append({'FILE_NAME': filename, 'TYPE': _type})\n",
    "        infos.extend(word)\n",
    "    \n",
    "    if image_infos:\n",
    "        image_infos = pd.DataFrame(image_infos)\n",
    "        image_infos.drop_duplicates(inplace=True)\n",
    "        image_infos.set_index('FILE_NAME', inplace=True)\n",
    "        image_infos = image_infos.join(image_paths, how='inner')\n",
    "        image_infos = image_infos[['IMAGE_ID', 'TYPE']]\n",
    "        db.insert_image_info(image_infos)\n",
    "        \n",
    "    change_columns = {'wordbox': 'BOX', 'value': 'TEXT', 'charbox': 'BOX'}\n",
    "    infos = pd.DataFrame(infos).rename(columns=change_columns)\n",
    "\n",
    "    select_cols = ['IMAGE_ID', 'CLASS', 'TEXT']\n",
    "\n",
    "    if 'BOX' in infos.columns:\n",
    "        select_cols.append('BOX')\n",
    "    \n",
    "    if 'letter' in infos.columns:\n",
    "        letter_infos = []\n",
    "        def letter_process(row):\n",
    "            letters = row['letter']\n",
    "            for letter in letters:\n",
    "                letter.update({'FILE_NAME': row['FILE_NAME'], 'CLASS': '문자'})\n",
    "                letter_infos.append(letter)\n",
    "                \n",
    "        infos.apply(letter_process, axis=1)\n",
    "        \n",
    "        letter_infos = pd.DataFrame(letter_infos).rename(columns=change_columns)\n",
    "        letter_infos.set_index('FILE_NAME', inplace=True)\n",
    "        letter_infos = letter_infos.join(image_paths, how='inner')\n",
    "        letter_infos = letter_infos[select_cols]\n",
    "        letter_infos = letter_infos[letter_infos['TEXT'] != '']\n",
    "        letter_infos.dropna(inplace=True)\n",
    "        db.insert_info(letter_infos)   \n",
    "    \n",
    "    infos = infos[infos['TEXT'] != '']\n",
    "    infos.set_index('FILE_NAME', inplace=True)\n",
    "    infos = infos.join(image_paths, how='inner')\n",
    "        \n",
    "    infos = infos[select_cols]\n",
    "    infos.dropna(inplace=True)\n",
    "    \n",
    "    db.insert_info(infos)   \n",
    "    "
   ],
   "metadata": {
    "collapsed": false,
    "ExecuteTime": {
     "end_time": "2024-04-26T07:27:41.348147Z",
     "start_time": "2024-04-26T07:07:00.901657Z"
    }
   },
   "id": "ca485a8d78c5f7c4",
   "execution_count": 17
  },
  {
   "cell_type": "code",
   "outputs": [],
   "source": [
    "# 저아"
   ],
   "metadata": {
    "collapsed": false,
    "ExecuteTime": {
     "start_time": "2024-04-26T07:04:18.064419Z"
    }
   },
   "id": "9eba580a32bccc7b"
  }
 ],
 "metadata": {
  "kernelspec": {
   "display_name": "Python 3",
   "language": "python",
   "name": "python3"
  },
  "language_info": {
   "codemirror_mode": {
    "name": "ipython",
    "version": 2
   },
   "file_extension": ".py",
   "mimetype": "text/x-python",
   "name": "python",
   "nbconvert_exporter": "python",
   "pygments_lexer": "ipython2",
   "version": "2.7.6"
  }
 },
 "nbformat": 4,
 "nbformat_minor": 5
}
