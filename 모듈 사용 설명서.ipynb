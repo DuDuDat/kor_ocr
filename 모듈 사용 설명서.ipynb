{
 "cells": [
  {
   "cell_type": "code",
   "execution_count": 1,
   "id": "initial_id",
   "metadata": {
    "collapsed": true,
    "ExecuteTime": {
     "end_time": "2024-04-28T00:10:27.446075Z",
     "start_time": "2024-04-28T00:10:27.020992Z"
    }
   },
   "outputs": [
    {
     "data": {
      "text/plain": "' zip 폴더가 압축폴더일 경우 ZIP_PATH 와 IMAGE_PATH 가 나뉘어 출력 '"
     },
     "execution_count": 1,
     "metadata": {},
     "output_type": "execute_result"
    }
   ],
   "source": [
    "import common_db as db\n",
    "\n",
    "%load_ext autoreload\n",
    "%autoreload 2\n",
    "\n",
    "# 경로에 root_dir 가 자동으로 추가됩니다.\n",
    "root_dir = './data/' # 데이터가 들어가 있는 경로\n",
    "\n",
    "\"\"\" zip 폴더가 압축을 해제한 폴더일 경우 \"\"\"\n",
    "mysql = db.DataSelector(root_dir) # 기본 30만개 가져오기\n",
    "# mysql = db.DataSelector(root_dir, 300) # 300개만 가져오기\n",
    "\n",
    "\"\"\" zip 폴더가 압축폴더일 경우 ZIP_PATH 와 IMAGE_PATH 가 나뉘어 출력 \"\"\"\n",
    "# mysql = db.DataSelector(root_dir, is_zip=True) # 기본 30만개 가져오기\n",
    "# mysql = db.DataSelector(root_dir, 300, is_zip=True) # 300개만 가져오기"
   ]
  },
  {
   "cell_type": "code",
   "outputs": [
    {
     "data": {
      "text/plain": "                                               IMAGE_PATH  \\\n0       ./data/13.한국어글자체/01.손글씨/01_handwriting_sentenc...   \n1       ./data/13.한국어글자체/01.손글씨/01_handwriting_sentenc...   \n2       ./data/13.한국어글자체/01.손글씨/01_handwriting_sentenc...   \n3       ./data/13.한국어글자체/01.손글씨/01_handwriting_sentenc...   \n4       ./data/13.한국어글자체/01.손글씨/01_handwriting_sentenc...   \n...                                                   ...   \n299995  ./data/13.한국어글자체/01.손글씨/01_handwriting_word_im...   \n299996  ./data/13.한국어글자체/01.손글씨/01_handwriting_word_im...   \n299997  ./data/13.한국어글자체/01.손글씨/01_handwriting_word_im...   \n299998  ./data/13.한국어글자체/01.손글씨/01_handwriting_word_im...   \n299999  ./data/13.한국어글자체/01.손글씨/01_handwriting_word_im...   \n\n                                          TEXT CLASS  \n0        대변인을 맡아 투쟁을 이끌었다. 김 위원장은 7일 내일신문과 통화에    문장  \n1                                   기상정보였습니다.\"    문장  \n2          과실의 경중과 평가 결과에 미친 영향을 고려해 평가결과와 성과급    문장  \n3       지급률 수정 등 적절한 조치를 취하라\"고 통보하고, 수공 사장에게 \"    문장  \n4                            줬다. 대구 최세호 장병호 기자    문장  \n...                                        ...   ...  \n299995                                    분리하다    단어  \n299996                                    분명하다    단어  \n299997                                     분홍색    단어  \n299998                                      불과    단어  \n299999                                    불과하다    단어  \n\n[300000 rows x 3 columns]",
      "text/html": "<div>\n<style scoped>\n    .dataframe tbody tr th:only-of-type {\n        vertical-align: middle;\n    }\n\n    .dataframe tbody tr th {\n        vertical-align: top;\n    }\n\n    .dataframe thead th {\n        text-align: right;\n    }\n</style>\n<table border=\"1\" class=\"dataframe\">\n  <thead>\n    <tr style=\"text-align: right;\">\n      <th></th>\n      <th>IMAGE_PATH</th>\n      <th>TEXT</th>\n      <th>CLASS</th>\n    </tr>\n  </thead>\n  <tbody>\n    <tr>\n      <th>0</th>\n      <td>./data/13.한국어글자체/01.손글씨/01_handwriting_sentenc...</td>\n      <td>대변인을 맡아 투쟁을 이끌었다. 김 위원장은 7일 내일신문과 통화에</td>\n      <td>문장</td>\n    </tr>\n    <tr>\n      <th>1</th>\n      <td>./data/13.한국어글자체/01.손글씨/01_handwriting_sentenc...</td>\n      <td>기상정보였습니다.\"</td>\n      <td>문장</td>\n    </tr>\n    <tr>\n      <th>2</th>\n      <td>./data/13.한국어글자체/01.손글씨/01_handwriting_sentenc...</td>\n      <td>과실의 경중과 평가 결과에 미친 영향을 고려해 평가결과와 성과급</td>\n      <td>문장</td>\n    </tr>\n    <tr>\n      <th>3</th>\n      <td>./data/13.한국어글자체/01.손글씨/01_handwriting_sentenc...</td>\n      <td>지급률 수정 등 적절한 조치를 취하라\"고 통보하고, 수공 사장에게 \"</td>\n      <td>문장</td>\n    </tr>\n    <tr>\n      <th>4</th>\n      <td>./data/13.한국어글자체/01.손글씨/01_handwriting_sentenc...</td>\n      <td>줬다. 대구 최세호 장병호 기자</td>\n      <td>문장</td>\n    </tr>\n    <tr>\n      <th>...</th>\n      <td>...</td>\n      <td>...</td>\n      <td>...</td>\n    </tr>\n    <tr>\n      <th>299995</th>\n      <td>./data/13.한국어글자체/01.손글씨/01_handwriting_word_im...</td>\n      <td>분리하다</td>\n      <td>단어</td>\n    </tr>\n    <tr>\n      <th>299996</th>\n      <td>./data/13.한국어글자체/01.손글씨/01_handwriting_word_im...</td>\n      <td>분명하다</td>\n      <td>단어</td>\n    </tr>\n    <tr>\n      <th>299997</th>\n      <td>./data/13.한국어글자체/01.손글씨/01_handwriting_word_im...</td>\n      <td>분홍색</td>\n      <td>단어</td>\n    </tr>\n    <tr>\n      <th>299998</th>\n      <td>./data/13.한국어글자체/01.손글씨/01_handwriting_word_im...</td>\n      <td>불과</td>\n      <td>단어</td>\n    </tr>\n    <tr>\n      <th>299999</th>\n      <td>./data/13.한국어글자체/01.손글씨/01_handwriting_word_im...</td>\n      <td>불과하다</td>\n      <td>단어</td>\n    </tr>\n  </tbody>\n</table>\n<p>300000 rows × 3 columns</p>\n</div>"
     },
     "execution_count": 2,
     "metadata": {},
     "output_type": "execute_result"
    }
   ],
   "source": [
    "# 이미지 종류 고르기\n",
    "\"\"\" '필기체', '인쇄체', '인쇄체(증강)' '인쇄체(간판)' 중 하나 고르기 \"\"\"\n",
    "mysql.search_basic_by_kind('필기체') # 필기체 전체\n",
    "# mysql.search_basic_by_kind('필기체', '단어') # '문장', '단어', '문자' 중 하나 선택 가능"
   ],
   "metadata": {
    "collapsed": false,
    "ExecuteTime": {
     "end_time": "2024-04-28T00:10:31.634533Z",
     "start_time": "2024-04-28T00:10:27.447579Z"
    }
   },
   "id": "88ac624b9788b7c8",
   "execution_count": 2
  },
  {
   "cell_type": "code",
   "outputs": [
    {
     "data": {
      "text/plain": "                                               IMAGE_PATH TEXT CLASS\n0       ./data/다양한 형태의 한글 문자 OCR/Training/[원천]Training...    가    문자\n1       ./data/다양한 형태의 한글 문자 OCR/Training/[원천]Training...    각    문자\n2       ./data/다양한 형태의 한글 문자 OCR/Training/[원천]Training...    간    문자\n3       ./data/다양한 형태의 한글 문자 OCR/Training/[원천]Training...    갇    문자\n4       ./data/다양한 형태의 한글 문자 OCR/Training/[원천]Training...    갈    문자\n...                                                   ...  ...   ...\n276881  ./data/다양한 형태의 한글 문자 OCR/Training/[원천]Training...    힐    문자\n276882  ./data/다양한 형태의 한글 문자 OCR/Training/[원천]Training...    힘    문자\n276883  ./data/다양한 형태의 한글 문자 OCR/Training/[원천]Training...    힙    문자\n276884  ./data/다양한 형태의 한글 문자 OCR/Training/[원천]Training...    힛    문자\n276885  ./data/다양한 형태의 한글 문자 OCR/Training/[원천]Training...    힝    문자\n\n[276886 rows x 3 columns]",
      "text/html": "<div>\n<style scoped>\n    .dataframe tbody tr th:only-of-type {\n        vertical-align: middle;\n    }\n\n    .dataframe tbody tr th {\n        vertical-align: top;\n    }\n\n    .dataframe thead th {\n        text-align: right;\n    }\n</style>\n<table border=\"1\" class=\"dataframe\">\n  <thead>\n    <tr style=\"text-align: right;\">\n      <th></th>\n      <th>IMAGE_PATH</th>\n      <th>TEXT</th>\n      <th>CLASS</th>\n    </tr>\n  </thead>\n  <tbody>\n    <tr>\n      <th>0</th>\n      <td>./data/다양한 형태의 한글 문자 OCR/Training/[원천]Training...</td>\n      <td>가</td>\n      <td>문자</td>\n    </tr>\n    <tr>\n      <th>1</th>\n      <td>./data/다양한 형태의 한글 문자 OCR/Training/[원천]Training...</td>\n      <td>각</td>\n      <td>문자</td>\n    </tr>\n    <tr>\n      <th>2</th>\n      <td>./data/다양한 형태의 한글 문자 OCR/Training/[원천]Training...</td>\n      <td>간</td>\n      <td>문자</td>\n    </tr>\n    <tr>\n      <th>3</th>\n      <td>./data/다양한 형태의 한글 문자 OCR/Training/[원천]Training...</td>\n      <td>갇</td>\n      <td>문자</td>\n    </tr>\n    <tr>\n      <th>4</th>\n      <td>./data/다양한 형태의 한글 문자 OCR/Training/[원천]Training...</td>\n      <td>갈</td>\n      <td>문자</td>\n    </tr>\n    <tr>\n      <th>...</th>\n      <td>...</td>\n      <td>...</td>\n      <td>...</td>\n    </tr>\n    <tr>\n      <th>276881</th>\n      <td>./data/다양한 형태의 한글 문자 OCR/Training/[원천]Training...</td>\n      <td>힐</td>\n      <td>문자</td>\n    </tr>\n    <tr>\n      <th>276882</th>\n      <td>./data/다양한 형태의 한글 문자 OCR/Training/[원천]Training...</td>\n      <td>힘</td>\n      <td>문자</td>\n    </tr>\n    <tr>\n      <th>276883</th>\n      <td>./data/다양한 형태의 한글 문자 OCR/Training/[원천]Training...</td>\n      <td>힙</td>\n      <td>문자</td>\n    </tr>\n    <tr>\n      <th>276884</th>\n      <td>./data/다양한 형태의 한글 문자 OCR/Training/[원천]Training...</td>\n      <td>힛</td>\n      <td>문자</td>\n    </tr>\n    <tr>\n      <th>276885</th>\n      <td>./data/다양한 형태의 한글 문자 OCR/Training/[원천]Training...</td>\n      <td>힝</td>\n      <td>문자</td>\n    </tr>\n  </tbody>\n</table>\n<p>276886 rows × 3 columns</p>\n</div>"
     },
     "execution_count": 3,
     "metadata": {},
     "output_type": "execute_result"
    }
   ],
   "source": [
    "# 경로 검색\n",
    "\"\"\"\n",
    "zip 폴더 내부 경로 검색은 너무 느려서 zip 폴더까지의 경로만 검색 가능하도록 했습니다.\n",
    "zip 폴더 까지의 경로에 포함되는 단어 검색입니다\n",
    "\"\"\"\n",
    "# mysql.search_basic_by_path('Training') # 단어, 문자 둘 다\n",
    "mysql.search_basic_by_path('Training', '문자') # '단어', '문자' 중 하나 선택 가능"
   ],
   "metadata": {
    "collapsed": false,
    "ExecuteTime": {
     "end_time": "2024-04-28T00:10:44.302037Z",
     "start_time": "2024-04-28T00:10:31.636533Z"
    }
   },
   "id": "d3fe60eacba383d5",
   "execution_count": 3
  },
  {
   "cell_type": "code",
   "outputs": [
    {
     "data": {
      "text/plain": "                                               IMAGE_PATH TEXT CLASS\n0       ./data/다양한 형태의 한글 문자 OCR/Training/[원천]Training...    가    문자\n1       ./data/다양한 형태의 한글 문자 OCR/Training/[원천]Training...    각    문자\n2       ./data/다양한 형태의 한글 문자 OCR/Training/[원천]Training...    간    문자\n3       ./data/다양한 형태의 한글 문자 OCR/Training/[원천]Training...    갇    문자\n4       ./data/다양한 형태의 한글 문자 OCR/Training/[원천]Training...    갈    문자\n...                                                   ...  ...   ...\n276881  ./data/다양한 형태의 한글 문자 OCR/Training/[원천]Training...    힐    문자\n276882  ./data/다양한 형태의 한글 문자 OCR/Training/[원천]Training...    힘    문자\n276883  ./data/다양한 형태의 한글 문자 OCR/Training/[원천]Training...    힙    문자\n276884  ./data/다양한 형태의 한글 문자 OCR/Training/[원천]Training...    힛    문자\n276885  ./data/다양한 형태의 한글 문자 OCR/Training/[원천]Training...    힝    문자\n\n[276886 rows x 3 columns]",
      "text/html": "<div>\n<style scoped>\n    .dataframe tbody tr th:only-of-type {\n        vertical-align: middle;\n    }\n\n    .dataframe tbody tr th {\n        vertical-align: top;\n    }\n\n    .dataframe thead th {\n        text-align: right;\n    }\n</style>\n<table border=\"1\" class=\"dataframe\">\n  <thead>\n    <tr style=\"text-align: right;\">\n      <th></th>\n      <th>IMAGE_PATH</th>\n      <th>TEXT</th>\n      <th>CLASS</th>\n    </tr>\n  </thead>\n  <tbody>\n    <tr>\n      <th>0</th>\n      <td>./data/다양한 형태의 한글 문자 OCR/Training/[원천]Training...</td>\n      <td>가</td>\n      <td>문자</td>\n    </tr>\n    <tr>\n      <th>1</th>\n      <td>./data/다양한 형태의 한글 문자 OCR/Training/[원천]Training...</td>\n      <td>각</td>\n      <td>문자</td>\n    </tr>\n    <tr>\n      <th>2</th>\n      <td>./data/다양한 형태의 한글 문자 OCR/Training/[원천]Training...</td>\n      <td>간</td>\n      <td>문자</td>\n    </tr>\n    <tr>\n      <th>3</th>\n      <td>./data/다양한 형태의 한글 문자 OCR/Training/[원천]Training...</td>\n      <td>갇</td>\n      <td>문자</td>\n    </tr>\n    <tr>\n      <th>4</th>\n      <td>./data/다양한 형태의 한글 문자 OCR/Training/[원천]Training...</td>\n      <td>갈</td>\n      <td>문자</td>\n    </tr>\n    <tr>\n      <th>...</th>\n      <td>...</td>\n      <td>...</td>\n      <td>...</td>\n    </tr>\n    <tr>\n      <th>276881</th>\n      <td>./data/다양한 형태의 한글 문자 OCR/Training/[원천]Training...</td>\n      <td>힐</td>\n      <td>문자</td>\n    </tr>\n    <tr>\n      <th>276882</th>\n      <td>./data/다양한 형태의 한글 문자 OCR/Training/[원천]Training...</td>\n      <td>힘</td>\n      <td>문자</td>\n    </tr>\n    <tr>\n      <th>276883</th>\n      <td>./data/다양한 형태의 한글 문자 OCR/Training/[원천]Training...</td>\n      <td>힙</td>\n      <td>문자</td>\n    </tr>\n    <tr>\n      <th>276884</th>\n      <td>./data/다양한 형태의 한글 문자 OCR/Training/[원천]Training...</td>\n      <td>힛</td>\n      <td>문자</td>\n    </tr>\n    <tr>\n      <th>276885</th>\n      <td>./data/다양한 형태의 한글 문자 OCR/Training/[원천]Training...</td>\n      <td>힝</td>\n      <td>문자</td>\n    </tr>\n  </tbody>\n</table>\n<p>276886 rows × 3 columns</p>\n</div>"
     },
     "execution_count": 4,
     "metadata": {},
     "output_type": "execute_result"
    }
   ],
   "source": [
    "# 이미지 종류와 경로 동시에 고르기\n",
    "# mysql.search_basic_by_kind_and_path('필기체', 'Training')  # 단어, 문자 둘 다\n",
    "mysql.search_basic_by_kind_and_path('필기체', 'Training', '문자') # '단어', '문자' 중 하나 선택 가능"
   ],
   "metadata": {
    "collapsed": false,
    "ExecuteTime": {
     "end_time": "2024-04-28T00:10:57.715865Z",
     "start_time": "2024-04-28T00:10:44.303111Z"
    }
   },
   "id": "f97bb05c0bc22a51",
   "execution_count": 4
  },
  {
   "cell_type": "code",
   "outputs": [],
   "source": [],
   "metadata": {
    "collapsed": false,
    "ExecuteTime": {
     "end_time": "2024-04-28T00:10:57.731981Z",
     "start_time": "2024-04-28T00:10:57.716865Z"
    }
   },
   "id": "edf5b0b36556491",
   "execution_count": 4
  }
 ],
 "metadata": {
  "kernelspec": {
   "display_name": "Python 3",
   "language": "python",
   "name": "python3"
  },
  "language_info": {
   "codemirror_mode": {
    "name": "ipython",
    "version": 2
   },
   "file_extension": ".py",
   "mimetype": "text/x-python",
   "name": "python",
   "nbconvert_exporter": "python",
   "pygments_lexer": "ipython2",
   "version": "2.7.6"
  }
 },
 "nbformat": 4,
 "nbformat_minor": 5
}
