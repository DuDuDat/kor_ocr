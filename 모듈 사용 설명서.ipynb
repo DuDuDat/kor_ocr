{
 "cells": [
  {
   "cell_type": "markdown",
   "source": [
    "\n",
    "# 데이터셋 확인\n",
    "[데이터 출처 확인 링크](https://dududat.github.io/project/003-%ED%95%9C%EA%B8%80OCR/)\n",
    "\n",
    "<br />\n",
    "\n",
    "페이지 맨 하단 데이터 출처에 나와있는 데이터셋은 전부 RDS 에 저장되어 있습니다. 글자색이 검은색이지만 링크 걸어놓은 것이니 참고하시면 될 거 같습니다.\n"
   ],
   "metadata": {
    "collapsed": false
   },
   "id": "c3d800e67a0c8ccc"
  },
  {
   "cell_type": "code",
   "outputs": [
    {
     "name": "stdout",
     "output_type": "stream",
     "text": [
      "The autoreload extension is already loaded. To reload it, use:\n",
      "  %reload_ext autoreload\n"
     ]
    }
   ],
   "source": [
    "import common_db as db\n",
    "\n",
    "%load_ext autoreload\n",
    "%autoreload 2\n",
    "\n",
    "# 경로에 root_dir 가 자동으로 추가됩니다.\n",
    "root_dir = './data/' # 데이터가 들어가 있는 경로"
   ],
   "metadata": {
    "collapsed": false,
    "ExecuteTime": {
     "end_time": "2024-04-28T10:32:14.433772Z",
     "start_time": "2024-04-28T10:32:14.378547Z"
    }
   },
   "id": "67bb244356906edb",
   "execution_count": 5
  },
  {
   "cell_type": "markdown",
   "source": [
    "# 클래스 객체 기본 설정\n",
    "데이터가 너무 많아 메모리 에러가 발생하는 경우가 있어 개수 설정하시고 사용하시면 됩니다.\n",
    "기본 30만개로 설정해두었으며 500만개까지는 큰 무리없이 데이터를 가져오지만 1000만 단위가 넘어가면 에러가 발생합니다. 이는 툴 세팅 문제이거나 컴퓨터 성능 문제일 수도 있습니다."
   ],
   "metadata": {
    "collapsed": false
   },
   "id": "f2fe77296115b5e0"
  },
  {
   "cell_type": "code",
   "outputs": [],
   "source": [
    "\"\"\" zip 폴더가 압축을 해제한 폴더일 경우 폴더 이름에 .zip을 반드시 붙여 주세요 \"\"\"\n",
    "# mysql = db.DataSelector(root_dir) # 기본 30만개 가져오기\n",
    "# mysql = db.DataSelector(root_dir, 30) # 30개만 가져오기\n",
    "\n",
    "\"\"\" zip 폴더가 압축폴더일 경우 ZIP_PATH 와 IMAGE_PATH 가 나뉘어 출력 \"\"\"\n",
    "# mysql = db.DataSelector(root_dir, is_zip=True) # 기본 30만개 가져오기\n",
    "# mysql = db.DataSelector(root_dir, 300, is_zip=True) # 300개만 가져오기\n",
    "\n",
    "mysql = db.DataSelector(root_dir, 30)"
   ],
   "metadata": {
    "collapsed": false,
    "ExecuteTime": {
     "end_time": "2024-04-28T10:32:14.494617Z",
     "start_time": "2024-04-28T10:32:14.448458Z"
    }
   },
   "id": "4d52cc7c9a6f6902",
   "execution_count": 6
  },
  {
   "cell_type": "markdown",
   "source": [
    "# zip 폴더까지의 경로 확인\n",
    "\n",
    "<br />\n",
    "\n",
    "ZIP_PATH는 ZIP 폴더까지의 경로입니다 몇 개 안되니깐 직접 확인하시고 경로 맞추시면 될 거 같습니다.\n",
    "\n",
    "<br />\n",
    "\n",
    "AI HUB는 전체 다운로드 기준이고 데이콘에서 설치했던 데이터는 이름이 전부 open.zip이라 2023 교원그룹 AI OCR 챌린지.zip과 SW 중심대학 공동 AI 경진대회.zip 으로 수정했습니다. 그 외엔 이름이나 경로를 수정한 것이 없습니다.\n",
    "\n",
    "압축 해제시 폴더이름에 반드시 .zip을 붙여주세요 "
   ],
   "metadata": {
    "collapsed": false
   },
   "id": "6164a7aa597654d6"
  },
  {
   "cell_type": "code",
   "outputs": [
    {
     "data": {
      "text/plain": "                                             ZIP_PATH         KIND\n0   13.한국어글자체/01.손글씨/01_handwriting_sentence_image...          필기체\n1   13.한국어글자체/01.손글씨/01_handwriting_syllable_image...          필기체\n2     13.한국어글자체/01.손글씨/01_handwriting_word_images.zip          필기체\n3   13.한국어글자체/01.손글씨/02_handwriting_sentence_image...          필기체\n4   13.한국어글자체/01.손글씨/02_handwriting_syllable_image...          필기체\n5   13.한국어글자체/02.인쇄체_230721_add/01_printed_sentenc...          인쇄체\n6   13.한국어글자체/02.인쇄체_230721_add/01_printed_syllabl...          인쇄체\n7   13.한국어글자체/02.인쇄체_230721_add/01_printed_word_im...          인쇄체\n8       13.한국어글자체/03.인쇄체 증강데이터/augmentation_data1.zip      인쇄체(증강)\n9      13.한국어글자체/03.인쇄체 증강데이터/augmentation_data10.zip      인쇄체(증강)\n10     13.한국어글자체/03.인쇄체 증강데이터/augmentation_data11.zip      인쇄체(증강)\n11     13.한국어글자체/03.인쇄체 증강데이터/augmentation_data12.zip      인쇄체(증강)\n12      13.한국어글자체/03.인쇄체 증강데이터/augmentation_data2.zip      인쇄체(증강)\n13      13.한국어글자체/03.인쇄체 증강데이터/augmentation_data3.zip      인쇄체(증강)\n14      13.한국어글자체/03.인쇄체 증강데이터/augmentation_data4.zip      인쇄체(증강)\n15      13.한국어글자체/03.인쇄체 증강데이터/augmentation_data5.zip      인쇄체(증강)\n16      13.한국어글자체/03.인쇄체 증강데이터/augmentation_data6.zip      인쇄체(증강)\n17      13.한국어글자체/03.인쇄체 증강데이터/augmentation_data7.zip      인쇄체(증강)\n18      13.한국어글자체/03.인쇄체 증강데이터/augmentation_data8.zip      인쇄체(증강)\n19      13.한국어글자체/03.인쇄체 증강데이터/augmentation_data9.zip      인쇄체(증강)\n20  13.한국어글자체/04. Text in the wild_230209_add/01_t...  인쇄체(다양한 형태)\n21  13.한국어글자체/04. Text in the wild_230209_add/01_t...  인쇄체(다양한 형태)\n22  13.한국어글자체/04. Text in the wild_230209_add/01_t...  인쇄체(다양한 형태)\n23  13.한국어글자체/04. Text in the wild_230209_add/01_t...  인쇄체(다양한 형태)\n24                           2023 교원그룹 AI OCR 챌린지.zip          필기체\n25                             SW 중심대학 공동 AI 경진대회.zip      인쇄체(간판)\n26    다양한 형태의 한글 문자 OCR/Training/[원천]Training_인쇄체.zip  인쇄체(다양한 형태)\n27    다양한 형태의 한글 문자 OCR/Training/[원천]Training_필기체.zip          필기체",
      "text/html": "<div>\n<style scoped>\n    .dataframe tbody tr th:only-of-type {\n        vertical-align: middle;\n    }\n\n    .dataframe tbody tr th {\n        vertical-align: top;\n    }\n\n    .dataframe thead th {\n        text-align: right;\n    }\n</style>\n<table border=\"1\" class=\"dataframe\">\n  <thead>\n    <tr style=\"text-align: right;\">\n      <th></th>\n      <th>ZIP_PATH</th>\n      <th>KIND</th>\n    </tr>\n  </thead>\n  <tbody>\n    <tr>\n      <th>0</th>\n      <td>13.한국어글자체/01.손글씨/01_handwriting_sentence_image...</td>\n      <td>필기체</td>\n    </tr>\n    <tr>\n      <th>1</th>\n      <td>13.한국어글자체/01.손글씨/01_handwriting_syllable_image...</td>\n      <td>필기체</td>\n    </tr>\n    <tr>\n      <th>2</th>\n      <td>13.한국어글자체/01.손글씨/01_handwriting_word_images.zip</td>\n      <td>필기체</td>\n    </tr>\n    <tr>\n      <th>3</th>\n      <td>13.한국어글자체/01.손글씨/02_handwriting_sentence_image...</td>\n      <td>필기체</td>\n    </tr>\n    <tr>\n      <th>4</th>\n      <td>13.한국어글자체/01.손글씨/02_handwriting_syllable_image...</td>\n      <td>필기체</td>\n    </tr>\n    <tr>\n      <th>5</th>\n      <td>13.한국어글자체/02.인쇄체_230721_add/01_printed_sentenc...</td>\n      <td>인쇄체</td>\n    </tr>\n    <tr>\n      <th>6</th>\n      <td>13.한국어글자체/02.인쇄체_230721_add/01_printed_syllabl...</td>\n      <td>인쇄체</td>\n    </tr>\n    <tr>\n      <th>7</th>\n      <td>13.한국어글자체/02.인쇄체_230721_add/01_printed_word_im...</td>\n      <td>인쇄체</td>\n    </tr>\n    <tr>\n      <th>8</th>\n      <td>13.한국어글자체/03.인쇄체 증강데이터/augmentation_data1.zip</td>\n      <td>인쇄체(증강)</td>\n    </tr>\n    <tr>\n      <th>9</th>\n      <td>13.한국어글자체/03.인쇄체 증강데이터/augmentation_data10.zip</td>\n      <td>인쇄체(증강)</td>\n    </tr>\n    <tr>\n      <th>10</th>\n      <td>13.한국어글자체/03.인쇄체 증강데이터/augmentation_data11.zip</td>\n      <td>인쇄체(증강)</td>\n    </tr>\n    <tr>\n      <th>11</th>\n      <td>13.한국어글자체/03.인쇄체 증강데이터/augmentation_data12.zip</td>\n      <td>인쇄체(증강)</td>\n    </tr>\n    <tr>\n      <th>12</th>\n      <td>13.한국어글자체/03.인쇄체 증강데이터/augmentation_data2.zip</td>\n      <td>인쇄체(증강)</td>\n    </tr>\n    <tr>\n      <th>13</th>\n      <td>13.한국어글자체/03.인쇄체 증강데이터/augmentation_data3.zip</td>\n      <td>인쇄체(증강)</td>\n    </tr>\n    <tr>\n      <th>14</th>\n      <td>13.한국어글자체/03.인쇄체 증강데이터/augmentation_data4.zip</td>\n      <td>인쇄체(증강)</td>\n    </tr>\n    <tr>\n      <th>15</th>\n      <td>13.한국어글자체/03.인쇄체 증강데이터/augmentation_data5.zip</td>\n      <td>인쇄체(증강)</td>\n    </tr>\n    <tr>\n      <th>16</th>\n      <td>13.한국어글자체/03.인쇄체 증강데이터/augmentation_data6.zip</td>\n      <td>인쇄체(증강)</td>\n    </tr>\n    <tr>\n      <th>17</th>\n      <td>13.한국어글자체/03.인쇄체 증강데이터/augmentation_data7.zip</td>\n      <td>인쇄체(증강)</td>\n    </tr>\n    <tr>\n      <th>18</th>\n      <td>13.한국어글자체/03.인쇄체 증강데이터/augmentation_data8.zip</td>\n      <td>인쇄체(증강)</td>\n    </tr>\n    <tr>\n      <th>19</th>\n      <td>13.한국어글자체/03.인쇄체 증강데이터/augmentation_data9.zip</td>\n      <td>인쇄체(증강)</td>\n    </tr>\n    <tr>\n      <th>20</th>\n      <td>13.한국어글자체/04. Text in the wild_230209_add/01_t...</td>\n      <td>인쇄체(다양한 형태)</td>\n    </tr>\n    <tr>\n      <th>21</th>\n      <td>13.한국어글자체/04. Text in the wild_230209_add/01_t...</td>\n      <td>인쇄체(다양한 형태)</td>\n    </tr>\n    <tr>\n      <th>22</th>\n      <td>13.한국어글자체/04. Text in the wild_230209_add/01_t...</td>\n      <td>인쇄체(다양한 형태)</td>\n    </tr>\n    <tr>\n      <th>23</th>\n      <td>13.한국어글자체/04. Text in the wild_230209_add/01_t...</td>\n      <td>인쇄체(다양한 형태)</td>\n    </tr>\n    <tr>\n      <th>24</th>\n      <td>2023 교원그룹 AI OCR 챌린지.zip</td>\n      <td>필기체</td>\n    </tr>\n    <tr>\n      <th>25</th>\n      <td>SW 중심대학 공동 AI 경진대회.zip</td>\n      <td>인쇄체(간판)</td>\n    </tr>\n    <tr>\n      <th>26</th>\n      <td>다양한 형태의 한글 문자 OCR/Training/[원천]Training_인쇄체.zip</td>\n      <td>인쇄체(다양한 형태)</td>\n    </tr>\n    <tr>\n      <th>27</th>\n      <td>다양한 형태의 한글 문자 OCR/Training/[원천]Training_필기체.zip</td>\n      <td>필기체</td>\n    </tr>\n  </tbody>\n</table>\n</div>"
     },
     "execution_count": 7,
     "metadata": {},
     "output_type": "execute_result"
    }
   ],
   "source": [
    "# zip 폴더까지의 경로 확인\n",
    "mysql.to_check_zip_path()"
   ],
   "metadata": {
    "collapsed": false,
    "ExecuteTime": {
     "end_time": "2024-04-28T10:32:14.664614Z",
     "start_time": "2024-04-28T10:32:14.496617Z"
    }
   },
   "id": "aee069569da38b2d",
   "execution_count": 7
  },
  {
   "cell_type": "markdown",
   "source": [
    "# unique 값 확인\n",
    "좌표 있는 테이블은 데이터량이 많아 다소 시간이 걸립니다.\n",
    "<br/>\n",
    "\n",
    "KIND \n",
    "좌표 없는 테이블 : '필기체', '인쇄체', '인쇄체(증강)', '인쇄체(간판)'\n",
    "좌표 있는 테이블 : '인쇄체(다양한 형태)', '필기체'\n",
    "\n",
    "CLASS\n",
    "좌표 없는 테이블 : '단어', '문자', '문장'\n",
    "좌표 있는 테이블 : '단어', '문자'\n",
    "\n",
    "TYPE\n",
    "좌표 있는 테이블 : 'book', 'Goods', 'Signboard', 'Traffic_Sign', 'form', 'cursive'"
   ],
   "metadata": {
    "collapsed": false
   },
   "id": "b1fcf2ea63c8f2cc"
  },
  {
   "cell_type": "code",
   "outputs": [
    {
     "data": {
      "text/plain": "[{'KIND': '인쇄체(다양한 형태)'}, {'KIND': '필기체'}]"
     },
     "execution_count": 8,
     "metadata": {},
     "output_type": "execute_result"
    }
   ],
   "source": [
    "# KIND 확인\n",
    "# mysql.to_check_kind_unique('BASIC_INFO') # 좌표 없는 테이블\n",
    "mysql.to_check_kind_unique('COORD_TEXT_INFO') # 좌표 있는 테이블"
   ],
   "metadata": {
    "collapsed": false,
    "ExecuteTime": {
     "end_time": "2024-04-28T10:33:07.739007Z",
     "start_time": "2024-04-28T10:32:14.667689Z"
    }
   },
   "id": "f0b3c4ace2da79bd",
   "execution_count": 8
  },
  {
   "cell_type": "code",
   "outputs": [
    {
     "data": {
      "text/plain": "[{'CLASS': '단어'}, {'CLASS': '문자'}]"
     },
     "execution_count": 9,
     "metadata": {},
     "output_type": "execute_result"
    }
   ],
   "source": [
    "# 클래스 확인\n",
    "# mysql.to_check_unique('BASIC_INFO') # 좌표 없는 테이블\n",
    "mysql.to_check_unique('COORD_TEXT_INFO') # 좌표 있는 테이블"
   ],
   "metadata": {
    "collapsed": false,
    "ExecuteTime": {
     "end_time": "2024-04-28T10:35:09.808716Z",
     "start_time": "2024-04-28T10:33:07.740007Z"
    }
   },
   "id": "9e79476ac4f24b3",
   "execution_count": 9
  },
  {
   "cell_type": "code",
   "outputs": [
    {
     "data": {
      "text/plain": "[{'TYPE': 'book'},\n {'TYPE': 'Goods'},\n {'TYPE': 'Signboard'},\n {'TYPE': 'Traffic_Sign'},\n {'TYPE': 'form'},\n {'TYPE': 'cursive'}]"
     },
     "execution_count": 10,
     "metadata": {},
     "output_type": "execute_result"
    }
   ],
   "source": [
    "# 타입 확인 좌표 없는 테이블 한정\n",
    "mysql.to_check_unique(what='TYPE')"
   ],
   "metadata": {
    "collapsed": false,
    "ExecuteTime": {
     "end_time": "2024-04-28T10:35:10.462145Z",
     "start_time": "2024-04-28T10:35:09.809716Z"
    }
   },
   "id": "d46cadbb93c0a49d",
   "execution_count": 10
  },
  {
   "cell_type": "markdown",
   "source": [
    "# 좌표 없는 데이터 선택"
   ],
   "metadata": {
    "collapsed": false
   },
   "id": "4d9c2ce9ab3b25ba"
  },
  {
   "cell_type": "code",
   "outputs": [
    {
     "data": {
      "text/plain": "                                           IMAGE_PATH  \\\n0   ./data/13.한국어글자체/01.손글씨/01_handwriting_sentenc...   \n1   ./data/13.한국어글자체/01.손글씨/01_handwriting_sentenc...   \n2   ./data/13.한국어글자체/01.손글씨/01_handwriting_sentenc...   \n3   ./data/13.한국어글자체/01.손글씨/01_handwriting_sentenc...   \n4   ./data/13.한국어글자체/01.손글씨/01_handwriting_sentenc...   \n5   ./data/13.한국어글자체/01.손글씨/01_handwriting_sentenc...   \n6   ./data/13.한국어글자체/01.손글씨/01_handwriting_sentenc...   \n7   ./data/13.한국어글자체/01.손글씨/01_handwriting_sentenc...   \n8   ./data/13.한국어글자체/01.손글씨/01_handwriting_sentenc...   \n9   ./data/13.한국어글자체/01.손글씨/01_handwriting_sentenc...   \n10  ./data/13.한국어글자체/01.손글씨/01_handwriting_sentenc...   \n11  ./data/13.한국어글자체/01.손글씨/01_handwriting_sentenc...   \n12  ./data/13.한국어글자체/01.손글씨/01_handwriting_sentenc...   \n13  ./data/13.한국어글자체/01.손글씨/01_handwriting_sentenc...   \n14  ./data/13.한국어글자체/01.손글씨/01_handwriting_sentenc...   \n15  ./data/13.한국어글자체/01.손글씨/01_handwriting_sentenc...   \n16  ./data/13.한국어글자체/01.손글씨/01_handwriting_sentenc...   \n17  ./data/13.한국어글자체/01.손글씨/01_handwriting_sentenc...   \n18  ./data/13.한국어글자체/01.손글씨/01_handwriting_sentenc...   \n19  ./data/13.한국어글자체/01.손글씨/01_handwriting_sentenc...   \n20  ./data/13.한국어글자체/01.손글씨/01_handwriting_sentenc...   \n21  ./data/13.한국어글자체/01.손글씨/01_handwriting_sentenc...   \n22  ./data/13.한국어글자체/01.손글씨/01_handwriting_sentenc...   \n23  ./data/13.한국어글자체/01.손글씨/01_handwriting_sentenc...   \n24  ./data/13.한국어글자체/01.손글씨/01_handwriting_sentenc...   \n25  ./data/13.한국어글자체/01.손글씨/01_handwriting_sentenc...   \n26  ./data/13.한국어글자체/01.손글씨/01_handwriting_sentenc...   \n27  ./data/13.한국어글자체/01.손글씨/01_handwriting_sentenc...   \n28  ./data/13.한국어글자체/01.손글씨/01_handwriting_sentenc...   \n29  ./data/13.한국어글자체/01.손글씨/01_handwriting_sentenc...   \n\n                                        TEXT CLASS  \n0      대변인을 맡아 투쟁을 이끌었다. 김 위원장은 7일 내일신문과 통화에    문장  \n1                                 기상정보였습니다.\"    문장  \n2        과실의 경중과 평가 결과에 미친 영향을 고려해 평가결과와 성과급    문장  \n3     지급률 수정 등 적절한 조치를 취하라\"고 통보하고, 수공 사장에게 \"    문장  \n4                          줬다. 대구 최세호 장병호 기자    문장  \n5     혔다. C검사는 \"아들이 각종 의혹들로 인해 시달리고 있어 사표를 냈    문장  \n6      따르면 지난해 12월까지 주 40시간제를 법정시행일보다 앞당겨 시행    문장  \n7       한다고 신고한 중소기업이 74개사에 달했으나 이 가운데 정규직을새    문장  \n8        비 부담을 덜어주기 위해 주40시간제를앞당겨 시행하면서 정규직을    문장  \n9        단축에 따른 중소기업의 부담을 덜어주기 위해지원사업을 펴고 있으    문장  \n10      대안으로 마련한 것으로 4대강사업을 반대해 온 김두관 지사에 대한    문장  \n11     맞는 이 축제는 공음면 학원농장의 보리밭에서 5월 8일까지 열린다.    문장  \n12      있는 반딧불이를 주제로 한 문화관광 우수축제인 '제15회 무주반딧    문장  \n13    월부터 2015년 6월까지 3년 동안 고객들이 차병원에서 결제한 금액    문장  \n14       대한 재검토와 향후대책을 논의하는 등 비상 대기상태에 들어갔다.    문장  \n15    념이 충분히 반영돼 있다고 본다\"고 주장했다. 또 \"외통위를 통과해서    문장  \n16     주민의 민생 문제도 그대로 반영된다\"고 덧붙였다. 이처럼 여야가 북    문장  \n17     \"오늘은 날이 참 따뜻했죠? 온화한 남서풍이 불면서 기온이 크게 올    문장  \n18      나타났습니다. 내일은 전국에 봄비가 내리면서 기온도 제자리를 되찾    문장  \n19   에서 30mm의 비가 예상됩니다. 기온이 낮은 강원 산지에는 최고 7c    문장  \n20  21일 오후 5시 10분께 충북 영동군 양산면 가곡리 이모(57.농업)씨    문장  \n21    일부 보도에 대해 \"사실이 아니다\"라고 밝혔다. 김형곤은 14일 오후    문장  \n22    치내가 산 것으로 오해하고 있다\"고 말했다. 그는 \"동생이 섬을 사기    문장  \n23    고 거듭 밝혔다. 김형곤의 동생이 산 암태면 벌목도는 신안군내 753    문장  \n24       생활고에 시달리다 남편과 동반자살을 하기로 한 뒤 혼자남는 딸이    문장  \n25     의 정확한 판매량은 모르겠지만 1차분은 모두 판매된 것으로 알고 있    문장  \n26     주 고등법원 순국장소인 뤼순 감옥 등 중국, 러시아의 안중근 의사가    문장  \n27    4년차 이상 실무자로 6개월 간 현지 문화와 언어를 익히고 시장 조사    문장  \n28    등도 수행하게 되며, 이 과정을 마치면 해외 주재원의 자격을 얻게 된    문장  \n29     개국 8개 법인에 파견하기로 했다. 이외에도 대한통운은 다양한 사내    문장  ",
      "text/html": "<div>\n<style scoped>\n    .dataframe tbody tr th:only-of-type {\n        vertical-align: middle;\n    }\n\n    .dataframe tbody tr th {\n        vertical-align: top;\n    }\n\n    .dataframe thead th {\n        text-align: right;\n    }\n</style>\n<table border=\"1\" class=\"dataframe\">\n  <thead>\n    <tr style=\"text-align: right;\">\n      <th></th>\n      <th>IMAGE_PATH</th>\n      <th>TEXT</th>\n      <th>CLASS</th>\n    </tr>\n  </thead>\n  <tbody>\n    <tr>\n      <th>0</th>\n      <td>./data/13.한국어글자체/01.손글씨/01_handwriting_sentenc...</td>\n      <td>대변인을 맡아 투쟁을 이끌었다. 김 위원장은 7일 내일신문과 통화에</td>\n      <td>문장</td>\n    </tr>\n    <tr>\n      <th>1</th>\n      <td>./data/13.한국어글자체/01.손글씨/01_handwriting_sentenc...</td>\n      <td>기상정보였습니다.\"</td>\n      <td>문장</td>\n    </tr>\n    <tr>\n      <th>2</th>\n      <td>./data/13.한국어글자체/01.손글씨/01_handwriting_sentenc...</td>\n      <td>과실의 경중과 평가 결과에 미친 영향을 고려해 평가결과와 성과급</td>\n      <td>문장</td>\n    </tr>\n    <tr>\n      <th>3</th>\n      <td>./data/13.한국어글자체/01.손글씨/01_handwriting_sentenc...</td>\n      <td>지급률 수정 등 적절한 조치를 취하라\"고 통보하고, 수공 사장에게 \"</td>\n      <td>문장</td>\n    </tr>\n    <tr>\n      <th>4</th>\n      <td>./data/13.한국어글자체/01.손글씨/01_handwriting_sentenc...</td>\n      <td>줬다. 대구 최세호 장병호 기자</td>\n      <td>문장</td>\n    </tr>\n    <tr>\n      <th>5</th>\n      <td>./data/13.한국어글자체/01.손글씨/01_handwriting_sentenc...</td>\n      <td>혔다. C검사는 \"아들이 각종 의혹들로 인해 시달리고 있어 사표를 냈</td>\n      <td>문장</td>\n    </tr>\n    <tr>\n      <th>6</th>\n      <td>./data/13.한국어글자체/01.손글씨/01_handwriting_sentenc...</td>\n      <td>따르면 지난해 12월까지 주 40시간제를 법정시행일보다 앞당겨 시행</td>\n      <td>문장</td>\n    </tr>\n    <tr>\n      <th>7</th>\n      <td>./data/13.한국어글자체/01.손글씨/01_handwriting_sentenc...</td>\n      <td>한다고 신고한 중소기업이 74개사에 달했으나 이 가운데 정규직을새</td>\n      <td>문장</td>\n    </tr>\n    <tr>\n      <th>8</th>\n      <td>./data/13.한국어글자체/01.손글씨/01_handwriting_sentenc...</td>\n      <td>비 부담을 덜어주기 위해 주40시간제를앞당겨 시행하면서 정규직을</td>\n      <td>문장</td>\n    </tr>\n    <tr>\n      <th>9</th>\n      <td>./data/13.한국어글자체/01.손글씨/01_handwriting_sentenc...</td>\n      <td>단축에 따른 중소기업의 부담을 덜어주기 위해지원사업을 펴고 있으</td>\n      <td>문장</td>\n    </tr>\n    <tr>\n      <th>10</th>\n      <td>./data/13.한국어글자체/01.손글씨/01_handwriting_sentenc...</td>\n      <td>대안으로 마련한 것으로 4대강사업을 반대해 온 김두관 지사에 대한</td>\n      <td>문장</td>\n    </tr>\n    <tr>\n      <th>11</th>\n      <td>./data/13.한국어글자체/01.손글씨/01_handwriting_sentenc...</td>\n      <td>맞는 이 축제는 공음면 학원농장의 보리밭에서 5월 8일까지 열린다.</td>\n      <td>문장</td>\n    </tr>\n    <tr>\n      <th>12</th>\n      <td>./data/13.한국어글자체/01.손글씨/01_handwriting_sentenc...</td>\n      <td>있는 반딧불이를 주제로 한 문화관광 우수축제인 '제15회 무주반딧</td>\n      <td>문장</td>\n    </tr>\n    <tr>\n      <th>13</th>\n      <td>./data/13.한국어글자체/01.손글씨/01_handwriting_sentenc...</td>\n      <td>월부터 2015년 6월까지 3년 동안 고객들이 차병원에서 결제한 금액</td>\n      <td>문장</td>\n    </tr>\n    <tr>\n      <th>14</th>\n      <td>./data/13.한국어글자체/01.손글씨/01_handwriting_sentenc...</td>\n      <td>대한 재검토와 향후대책을 논의하는 등 비상 대기상태에 들어갔다.</td>\n      <td>문장</td>\n    </tr>\n    <tr>\n      <th>15</th>\n      <td>./data/13.한국어글자체/01.손글씨/01_handwriting_sentenc...</td>\n      <td>념이 충분히 반영돼 있다고 본다\"고 주장했다. 또 \"외통위를 통과해서</td>\n      <td>문장</td>\n    </tr>\n    <tr>\n      <th>16</th>\n      <td>./data/13.한국어글자체/01.손글씨/01_handwriting_sentenc...</td>\n      <td>주민의 민생 문제도 그대로 반영된다\"고 덧붙였다. 이처럼 여야가 북</td>\n      <td>문장</td>\n    </tr>\n    <tr>\n      <th>17</th>\n      <td>./data/13.한국어글자체/01.손글씨/01_handwriting_sentenc...</td>\n      <td>\"오늘은 날이 참 따뜻했죠? 온화한 남서풍이 불면서 기온이 크게 올</td>\n      <td>문장</td>\n    </tr>\n    <tr>\n      <th>18</th>\n      <td>./data/13.한국어글자체/01.손글씨/01_handwriting_sentenc...</td>\n      <td>나타났습니다. 내일은 전국에 봄비가 내리면서 기온도 제자리를 되찾</td>\n      <td>문장</td>\n    </tr>\n    <tr>\n      <th>19</th>\n      <td>./data/13.한국어글자체/01.손글씨/01_handwriting_sentenc...</td>\n      <td>에서 30mm의 비가 예상됩니다. 기온이 낮은 강원 산지에는 최고 7c</td>\n      <td>문장</td>\n    </tr>\n    <tr>\n      <th>20</th>\n      <td>./data/13.한국어글자체/01.손글씨/01_handwriting_sentenc...</td>\n      <td>21일 오후 5시 10분께 충북 영동군 양산면 가곡리 이모(57.농업)씨</td>\n      <td>문장</td>\n    </tr>\n    <tr>\n      <th>21</th>\n      <td>./data/13.한국어글자체/01.손글씨/01_handwriting_sentenc...</td>\n      <td>일부 보도에 대해 \"사실이 아니다\"라고 밝혔다. 김형곤은 14일 오후</td>\n      <td>문장</td>\n    </tr>\n    <tr>\n      <th>22</th>\n      <td>./data/13.한국어글자체/01.손글씨/01_handwriting_sentenc...</td>\n      <td>치내가 산 것으로 오해하고 있다\"고 말했다. 그는 \"동생이 섬을 사기</td>\n      <td>문장</td>\n    </tr>\n    <tr>\n      <th>23</th>\n      <td>./data/13.한국어글자체/01.손글씨/01_handwriting_sentenc...</td>\n      <td>고 거듭 밝혔다. 김형곤의 동생이 산 암태면 벌목도는 신안군내 753</td>\n      <td>문장</td>\n    </tr>\n    <tr>\n      <th>24</th>\n      <td>./data/13.한국어글자체/01.손글씨/01_handwriting_sentenc...</td>\n      <td>생활고에 시달리다 남편과 동반자살을 하기로 한 뒤 혼자남는 딸이</td>\n      <td>문장</td>\n    </tr>\n    <tr>\n      <th>25</th>\n      <td>./data/13.한국어글자체/01.손글씨/01_handwriting_sentenc...</td>\n      <td>의 정확한 판매량은 모르겠지만 1차분은 모두 판매된 것으로 알고 있</td>\n      <td>문장</td>\n    </tr>\n    <tr>\n      <th>26</th>\n      <td>./data/13.한국어글자체/01.손글씨/01_handwriting_sentenc...</td>\n      <td>주 고등법원 순국장소인 뤼순 감옥 등 중국, 러시아의 안중근 의사가</td>\n      <td>문장</td>\n    </tr>\n    <tr>\n      <th>27</th>\n      <td>./data/13.한국어글자체/01.손글씨/01_handwriting_sentenc...</td>\n      <td>4년차 이상 실무자로 6개월 간 현지 문화와 언어를 익히고 시장 조사</td>\n      <td>문장</td>\n    </tr>\n    <tr>\n      <th>28</th>\n      <td>./data/13.한국어글자체/01.손글씨/01_handwriting_sentenc...</td>\n      <td>등도 수행하게 되며, 이 과정을 마치면 해외 주재원의 자격을 얻게 된</td>\n      <td>문장</td>\n    </tr>\n    <tr>\n      <th>29</th>\n      <td>./data/13.한국어글자체/01.손글씨/01_handwriting_sentenc...</td>\n      <td>개국 8개 법인에 파견하기로 했다. 이외에도 대한통운은 다양한 사내</td>\n      <td>문장</td>\n    </tr>\n  </tbody>\n</table>\n</div>"
     },
     "execution_count": 11,
     "metadata": {},
     "output_type": "execute_result"
    }
   ],
   "source": [
    "# 이미지 종류 고르기\n",
    "\"\"\" '필기체', '인쇄체', '인쇄체(증강)' '인쇄체(간판)' 중 하나 고르기 \"\"\"\n",
    "mysql.search_basic_by_kind('필기체')\n",
    "# mysql.search_basic_by_kind('필기체', '단어') # '문장', '단어', '문자' 중 하나 선택 가능"
   ],
   "metadata": {
    "collapsed": false,
    "ExecuteTime": {
     "end_time": "2024-04-28T10:35:10.602662Z",
     "start_time": "2024-04-28T10:35:10.463617Z"
    }
   },
   "id": "88ac624b9788b7c8",
   "execution_count": 11
  },
  {
   "cell_type": "code",
   "outputs": [
    {
     "data": {
      "text/plain": "                                           IMAGE_PATH TEXT CLASS\n0   ./data/다양한 형태의 한글 문자 OCR/Training/[원천]Training...    가    문자\n1   ./data/다양한 형태의 한글 문자 OCR/Training/[원천]Training...    각    문자\n2   ./data/다양한 형태의 한글 문자 OCR/Training/[원천]Training...    간    문자\n3   ./data/다양한 형태의 한글 문자 OCR/Training/[원천]Training...    갇    문자\n4   ./data/다양한 형태의 한글 문자 OCR/Training/[원천]Training...    갈    문자\n5   ./data/다양한 형태의 한글 문자 OCR/Training/[원천]Training...    갉    문자\n6   ./data/다양한 형태의 한글 문자 OCR/Training/[원천]Training...    갊    문자\n7   ./data/다양한 형태의 한글 문자 OCR/Training/[원천]Training...    감    문자\n8   ./data/다양한 형태의 한글 문자 OCR/Training/[원천]Training...    갑    문자\n9   ./data/다양한 형태의 한글 문자 OCR/Training/[원천]Training...    값    문자\n10  ./data/다양한 형태의 한글 문자 OCR/Training/[원천]Training...    갓    문자\n11  ./data/다양한 형태의 한글 문자 OCR/Training/[원천]Training...    갔    문자\n12  ./data/다양한 형태의 한글 문자 OCR/Training/[원천]Training...    강    문자\n13  ./data/다양한 형태의 한글 문자 OCR/Training/[원천]Training...    갖    문자\n14  ./data/다양한 형태의 한글 문자 OCR/Training/[원천]Training...    갗    문자\n15  ./data/다양한 형태의 한글 문자 OCR/Training/[원천]Training...    같    문자\n16  ./data/다양한 형태의 한글 문자 OCR/Training/[원천]Training...    갚    문자\n17  ./data/다양한 형태의 한글 문자 OCR/Training/[원천]Training...    갛    문자\n18  ./data/다양한 형태의 한글 문자 OCR/Training/[원천]Training...    개    문자\n19  ./data/다양한 형태의 한글 문자 OCR/Training/[원천]Training...    객    문자\n20  ./data/다양한 형태의 한글 문자 OCR/Training/[원천]Training...    갠    문자\n21  ./data/다양한 형태의 한글 문자 OCR/Training/[원천]Training...    갤    문자\n22  ./data/다양한 형태의 한글 문자 OCR/Training/[원천]Training...    갬    문자\n23  ./data/다양한 형태의 한글 문자 OCR/Training/[원천]Training...    갭    문자\n24  ./data/다양한 형태의 한글 문자 OCR/Training/[원천]Training...    갯    문자\n25  ./data/다양한 형태의 한글 문자 OCR/Training/[원천]Training...    갰    문자\n26  ./data/다양한 형태의 한글 문자 OCR/Training/[원천]Training...    갱    문자\n27  ./data/다양한 형태의 한글 문자 OCR/Training/[원천]Training...    갸    문자\n28  ./data/다양한 형태의 한글 문자 OCR/Training/[원천]Training...    갹    문자\n29  ./data/다양한 형태의 한글 문자 OCR/Training/[원천]Training...    갼    문자",
      "text/html": "<div>\n<style scoped>\n    .dataframe tbody tr th:only-of-type {\n        vertical-align: middle;\n    }\n\n    .dataframe tbody tr th {\n        vertical-align: top;\n    }\n\n    .dataframe thead th {\n        text-align: right;\n    }\n</style>\n<table border=\"1\" class=\"dataframe\">\n  <thead>\n    <tr style=\"text-align: right;\">\n      <th></th>\n      <th>IMAGE_PATH</th>\n      <th>TEXT</th>\n      <th>CLASS</th>\n    </tr>\n  </thead>\n  <tbody>\n    <tr>\n      <th>0</th>\n      <td>./data/다양한 형태의 한글 문자 OCR/Training/[원천]Training...</td>\n      <td>가</td>\n      <td>문자</td>\n    </tr>\n    <tr>\n      <th>1</th>\n      <td>./data/다양한 형태의 한글 문자 OCR/Training/[원천]Training...</td>\n      <td>각</td>\n      <td>문자</td>\n    </tr>\n    <tr>\n      <th>2</th>\n      <td>./data/다양한 형태의 한글 문자 OCR/Training/[원천]Training...</td>\n      <td>간</td>\n      <td>문자</td>\n    </tr>\n    <tr>\n      <th>3</th>\n      <td>./data/다양한 형태의 한글 문자 OCR/Training/[원천]Training...</td>\n      <td>갇</td>\n      <td>문자</td>\n    </tr>\n    <tr>\n      <th>4</th>\n      <td>./data/다양한 형태의 한글 문자 OCR/Training/[원천]Training...</td>\n      <td>갈</td>\n      <td>문자</td>\n    </tr>\n    <tr>\n      <th>5</th>\n      <td>./data/다양한 형태의 한글 문자 OCR/Training/[원천]Training...</td>\n      <td>갉</td>\n      <td>문자</td>\n    </tr>\n    <tr>\n      <th>6</th>\n      <td>./data/다양한 형태의 한글 문자 OCR/Training/[원천]Training...</td>\n      <td>갊</td>\n      <td>문자</td>\n    </tr>\n    <tr>\n      <th>7</th>\n      <td>./data/다양한 형태의 한글 문자 OCR/Training/[원천]Training...</td>\n      <td>감</td>\n      <td>문자</td>\n    </tr>\n    <tr>\n      <th>8</th>\n      <td>./data/다양한 형태의 한글 문자 OCR/Training/[원천]Training...</td>\n      <td>갑</td>\n      <td>문자</td>\n    </tr>\n    <tr>\n      <th>9</th>\n      <td>./data/다양한 형태의 한글 문자 OCR/Training/[원천]Training...</td>\n      <td>값</td>\n      <td>문자</td>\n    </tr>\n    <tr>\n      <th>10</th>\n      <td>./data/다양한 형태의 한글 문자 OCR/Training/[원천]Training...</td>\n      <td>갓</td>\n      <td>문자</td>\n    </tr>\n    <tr>\n      <th>11</th>\n      <td>./data/다양한 형태의 한글 문자 OCR/Training/[원천]Training...</td>\n      <td>갔</td>\n      <td>문자</td>\n    </tr>\n    <tr>\n      <th>12</th>\n      <td>./data/다양한 형태의 한글 문자 OCR/Training/[원천]Training...</td>\n      <td>강</td>\n      <td>문자</td>\n    </tr>\n    <tr>\n      <th>13</th>\n      <td>./data/다양한 형태의 한글 문자 OCR/Training/[원천]Training...</td>\n      <td>갖</td>\n      <td>문자</td>\n    </tr>\n    <tr>\n      <th>14</th>\n      <td>./data/다양한 형태의 한글 문자 OCR/Training/[원천]Training...</td>\n      <td>갗</td>\n      <td>문자</td>\n    </tr>\n    <tr>\n      <th>15</th>\n      <td>./data/다양한 형태의 한글 문자 OCR/Training/[원천]Training...</td>\n      <td>같</td>\n      <td>문자</td>\n    </tr>\n    <tr>\n      <th>16</th>\n      <td>./data/다양한 형태의 한글 문자 OCR/Training/[원천]Training...</td>\n      <td>갚</td>\n      <td>문자</td>\n    </tr>\n    <tr>\n      <th>17</th>\n      <td>./data/다양한 형태의 한글 문자 OCR/Training/[원천]Training...</td>\n      <td>갛</td>\n      <td>문자</td>\n    </tr>\n    <tr>\n      <th>18</th>\n      <td>./data/다양한 형태의 한글 문자 OCR/Training/[원천]Training...</td>\n      <td>개</td>\n      <td>문자</td>\n    </tr>\n    <tr>\n      <th>19</th>\n      <td>./data/다양한 형태의 한글 문자 OCR/Training/[원천]Training...</td>\n      <td>객</td>\n      <td>문자</td>\n    </tr>\n    <tr>\n      <th>20</th>\n      <td>./data/다양한 형태의 한글 문자 OCR/Training/[원천]Training...</td>\n      <td>갠</td>\n      <td>문자</td>\n    </tr>\n    <tr>\n      <th>21</th>\n      <td>./data/다양한 형태의 한글 문자 OCR/Training/[원천]Training...</td>\n      <td>갤</td>\n      <td>문자</td>\n    </tr>\n    <tr>\n      <th>22</th>\n      <td>./data/다양한 형태의 한글 문자 OCR/Training/[원천]Training...</td>\n      <td>갬</td>\n      <td>문자</td>\n    </tr>\n    <tr>\n      <th>23</th>\n      <td>./data/다양한 형태의 한글 문자 OCR/Training/[원천]Training...</td>\n      <td>갭</td>\n      <td>문자</td>\n    </tr>\n    <tr>\n      <th>24</th>\n      <td>./data/다양한 형태의 한글 문자 OCR/Training/[원천]Training...</td>\n      <td>갯</td>\n      <td>문자</td>\n    </tr>\n    <tr>\n      <th>25</th>\n      <td>./data/다양한 형태의 한글 문자 OCR/Training/[원천]Training...</td>\n      <td>갰</td>\n      <td>문자</td>\n    </tr>\n    <tr>\n      <th>26</th>\n      <td>./data/다양한 형태의 한글 문자 OCR/Training/[원천]Training...</td>\n      <td>갱</td>\n      <td>문자</td>\n    </tr>\n    <tr>\n      <th>27</th>\n      <td>./data/다양한 형태의 한글 문자 OCR/Training/[원천]Training...</td>\n      <td>갸</td>\n      <td>문자</td>\n    </tr>\n    <tr>\n      <th>28</th>\n      <td>./data/다양한 형태의 한글 문자 OCR/Training/[원천]Training...</td>\n      <td>갹</td>\n      <td>문자</td>\n    </tr>\n    <tr>\n      <th>29</th>\n      <td>./data/다양한 형태의 한글 문자 OCR/Training/[원천]Training...</td>\n      <td>갼</td>\n      <td>문자</td>\n    </tr>\n  </tbody>\n</table>\n</div>"
     },
     "execution_count": 12,
     "metadata": {},
     "output_type": "execute_result"
    }
   ],
   "source": [
    "# 경로 검색\n",
    "\"\"\"\n",
    "zip 폴더 내부 경로 검색은 너무 느려서 zip 폴더까지의 경로만 검색 가능하도록 했습니다.\n",
    "zip 폴더 까지의 경로에 포함되는 단어 검색입니다\n",
    "\"\"\"\n",
    "mysql.search_basic_by_path('Training')\n",
    "# mysql.search_basic_by_path('Training', '문자') # '문장', '단어', '문자' 중 하나 선택 가능"
   ],
   "metadata": {
    "collapsed": false,
    "ExecuteTime": {
     "end_time": "2024-04-28T10:35:11.290114Z",
     "start_time": "2024-04-28T10:35:10.603664Z"
    }
   },
   "id": "d3fe60eacba383d5",
   "execution_count": 12
  },
  {
   "cell_type": "code",
   "outputs": [
    {
     "data": {
      "text/plain": "                                           IMAGE_PATH TEXT CLASS\n0   ./data/다양한 형태의 한글 문자 OCR/Training/[원천]Training...    가    문자\n1   ./data/다양한 형태의 한글 문자 OCR/Training/[원천]Training...    각    문자\n2   ./data/다양한 형태의 한글 문자 OCR/Training/[원천]Training...    간    문자\n3   ./data/다양한 형태의 한글 문자 OCR/Training/[원천]Training...    갇    문자\n4   ./data/다양한 형태의 한글 문자 OCR/Training/[원천]Training...    갈    문자\n5   ./data/다양한 형태의 한글 문자 OCR/Training/[원천]Training...    갉    문자\n6   ./data/다양한 형태의 한글 문자 OCR/Training/[원천]Training...    갊    문자\n7   ./data/다양한 형태의 한글 문자 OCR/Training/[원천]Training...    감    문자\n8   ./data/다양한 형태의 한글 문자 OCR/Training/[원천]Training...    갑    문자\n9   ./data/다양한 형태의 한글 문자 OCR/Training/[원천]Training...    값    문자\n10  ./data/다양한 형태의 한글 문자 OCR/Training/[원천]Training...    갓    문자\n11  ./data/다양한 형태의 한글 문자 OCR/Training/[원천]Training...    갔    문자\n12  ./data/다양한 형태의 한글 문자 OCR/Training/[원천]Training...    강    문자\n13  ./data/다양한 형태의 한글 문자 OCR/Training/[원천]Training...    갖    문자\n14  ./data/다양한 형태의 한글 문자 OCR/Training/[원천]Training...    갗    문자\n15  ./data/다양한 형태의 한글 문자 OCR/Training/[원천]Training...    같    문자\n16  ./data/다양한 형태의 한글 문자 OCR/Training/[원천]Training...    갚    문자\n17  ./data/다양한 형태의 한글 문자 OCR/Training/[원천]Training...    갛    문자\n18  ./data/다양한 형태의 한글 문자 OCR/Training/[원천]Training...    개    문자\n19  ./data/다양한 형태의 한글 문자 OCR/Training/[원천]Training...    객    문자\n20  ./data/다양한 형태의 한글 문자 OCR/Training/[원천]Training...    갠    문자\n21  ./data/다양한 형태의 한글 문자 OCR/Training/[원천]Training...    갤    문자\n22  ./data/다양한 형태의 한글 문자 OCR/Training/[원천]Training...    갬    문자\n23  ./data/다양한 형태의 한글 문자 OCR/Training/[원천]Training...    갭    문자\n24  ./data/다양한 형태의 한글 문자 OCR/Training/[원천]Training...    갯    문자\n25  ./data/다양한 형태의 한글 문자 OCR/Training/[원천]Training...    갰    문자\n26  ./data/다양한 형태의 한글 문자 OCR/Training/[원천]Training...    갱    문자\n27  ./data/다양한 형태의 한글 문자 OCR/Training/[원천]Training...    갸    문자\n28  ./data/다양한 형태의 한글 문자 OCR/Training/[원천]Training...    갹    문자\n29  ./data/다양한 형태의 한글 문자 OCR/Training/[원천]Training...    갼    문자",
      "text/html": "<div>\n<style scoped>\n    .dataframe tbody tr th:only-of-type {\n        vertical-align: middle;\n    }\n\n    .dataframe tbody tr th {\n        vertical-align: top;\n    }\n\n    .dataframe thead th {\n        text-align: right;\n    }\n</style>\n<table border=\"1\" class=\"dataframe\">\n  <thead>\n    <tr style=\"text-align: right;\">\n      <th></th>\n      <th>IMAGE_PATH</th>\n      <th>TEXT</th>\n      <th>CLASS</th>\n    </tr>\n  </thead>\n  <tbody>\n    <tr>\n      <th>0</th>\n      <td>./data/다양한 형태의 한글 문자 OCR/Training/[원천]Training...</td>\n      <td>가</td>\n      <td>문자</td>\n    </tr>\n    <tr>\n      <th>1</th>\n      <td>./data/다양한 형태의 한글 문자 OCR/Training/[원천]Training...</td>\n      <td>각</td>\n      <td>문자</td>\n    </tr>\n    <tr>\n      <th>2</th>\n      <td>./data/다양한 형태의 한글 문자 OCR/Training/[원천]Training...</td>\n      <td>간</td>\n      <td>문자</td>\n    </tr>\n    <tr>\n      <th>3</th>\n      <td>./data/다양한 형태의 한글 문자 OCR/Training/[원천]Training...</td>\n      <td>갇</td>\n      <td>문자</td>\n    </tr>\n    <tr>\n      <th>4</th>\n      <td>./data/다양한 형태의 한글 문자 OCR/Training/[원천]Training...</td>\n      <td>갈</td>\n      <td>문자</td>\n    </tr>\n    <tr>\n      <th>5</th>\n      <td>./data/다양한 형태의 한글 문자 OCR/Training/[원천]Training...</td>\n      <td>갉</td>\n      <td>문자</td>\n    </tr>\n    <tr>\n      <th>6</th>\n      <td>./data/다양한 형태의 한글 문자 OCR/Training/[원천]Training...</td>\n      <td>갊</td>\n      <td>문자</td>\n    </tr>\n    <tr>\n      <th>7</th>\n      <td>./data/다양한 형태의 한글 문자 OCR/Training/[원천]Training...</td>\n      <td>감</td>\n      <td>문자</td>\n    </tr>\n    <tr>\n      <th>8</th>\n      <td>./data/다양한 형태의 한글 문자 OCR/Training/[원천]Training...</td>\n      <td>갑</td>\n      <td>문자</td>\n    </tr>\n    <tr>\n      <th>9</th>\n      <td>./data/다양한 형태의 한글 문자 OCR/Training/[원천]Training...</td>\n      <td>값</td>\n      <td>문자</td>\n    </tr>\n    <tr>\n      <th>10</th>\n      <td>./data/다양한 형태의 한글 문자 OCR/Training/[원천]Training...</td>\n      <td>갓</td>\n      <td>문자</td>\n    </tr>\n    <tr>\n      <th>11</th>\n      <td>./data/다양한 형태의 한글 문자 OCR/Training/[원천]Training...</td>\n      <td>갔</td>\n      <td>문자</td>\n    </tr>\n    <tr>\n      <th>12</th>\n      <td>./data/다양한 형태의 한글 문자 OCR/Training/[원천]Training...</td>\n      <td>강</td>\n      <td>문자</td>\n    </tr>\n    <tr>\n      <th>13</th>\n      <td>./data/다양한 형태의 한글 문자 OCR/Training/[원천]Training...</td>\n      <td>갖</td>\n      <td>문자</td>\n    </tr>\n    <tr>\n      <th>14</th>\n      <td>./data/다양한 형태의 한글 문자 OCR/Training/[원천]Training...</td>\n      <td>갗</td>\n      <td>문자</td>\n    </tr>\n    <tr>\n      <th>15</th>\n      <td>./data/다양한 형태의 한글 문자 OCR/Training/[원천]Training...</td>\n      <td>같</td>\n      <td>문자</td>\n    </tr>\n    <tr>\n      <th>16</th>\n      <td>./data/다양한 형태의 한글 문자 OCR/Training/[원천]Training...</td>\n      <td>갚</td>\n      <td>문자</td>\n    </tr>\n    <tr>\n      <th>17</th>\n      <td>./data/다양한 형태의 한글 문자 OCR/Training/[원천]Training...</td>\n      <td>갛</td>\n      <td>문자</td>\n    </tr>\n    <tr>\n      <th>18</th>\n      <td>./data/다양한 형태의 한글 문자 OCR/Training/[원천]Training...</td>\n      <td>개</td>\n      <td>문자</td>\n    </tr>\n    <tr>\n      <th>19</th>\n      <td>./data/다양한 형태의 한글 문자 OCR/Training/[원천]Training...</td>\n      <td>객</td>\n      <td>문자</td>\n    </tr>\n    <tr>\n      <th>20</th>\n      <td>./data/다양한 형태의 한글 문자 OCR/Training/[원천]Training...</td>\n      <td>갠</td>\n      <td>문자</td>\n    </tr>\n    <tr>\n      <th>21</th>\n      <td>./data/다양한 형태의 한글 문자 OCR/Training/[원천]Training...</td>\n      <td>갤</td>\n      <td>문자</td>\n    </tr>\n    <tr>\n      <th>22</th>\n      <td>./data/다양한 형태의 한글 문자 OCR/Training/[원천]Training...</td>\n      <td>갬</td>\n      <td>문자</td>\n    </tr>\n    <tr>\n      <th>23</th>\n      <td>./data/다양한 형태의 한글 문자 OCR/Training/[원천]Training...</td>\n      <td>갭</td>\n      <td>문자</td>\n    </tr>\n    <tr>\n      <th>24</th>\n      <td>./data/다양한 형태의 한글 문자 OCR/Training/[원천]Training...</td>\n      <td>갯</td>\n      <td>문자</td>\n    </tr>\n    <tr>\n      <th>25</th>\n      <td>./data/다양한 형태의 한글 문자 OCR/Training/[원천]Training...</td>\n      <td>갰</td>\n      <td>문자</td>\n    </tr>\n    <tr>\n      <th>26</th>\n      <td>./data/다양한 형태의 한글 문자 OCR/Training/[원천]Training...</td>\n      <td>갱</td>\n      <td>문자</td>\n    </tr>\n    <tr>\n      <th>27</th>\n      <td>./data/다양한 형태의 한글 문자 OCR/Training/[원천]Training...</td>\n      <td>갸</td>\n      <td>문자</td>\n    </tr>\n    <tr>\n      <th>28</th>\n      <td>./data/다양한 형태의 한글 문자 OCR/Training/[원천]Training...</td>\n      <td>갹</td>\n      <td>문자</td>\n    </tr>\n    <tr>\n      <th>29</th>\n      <td>./data/다양한 형태의 한글 문자 OCR/Training/[원천]Training...</td>\n      <td>갼</td>\n      <td>문자</td>\n    </tr>\n  </tbody>\n</table>\n</div>"
     },
     "execution_count": 13,
     "metadata": {},
     "output_type": "execute_result"
    }
   ],
   "source": [
    "# 이미지 종류와 경로 동시에 고르기\n",
    "mysql.search_basic_by_kind_and_path('필기체', 'Training')\n",
    "# mysql.search_basic_by_kind_and_path('필기체', 'Training', '문자') # '문장', '단어', '문자' 중 하나 선택 가능"
   ],
   "metadata": {
    "collapsed": false,
    "ExecuteTime": {
     "end_time": "2024-04-28T10:35:11.430215Z",
     "start_time": "2024-04-28T10:35:11.291114Z"
    }
   },
   "id": "f97bb05c0bc22a51",
   "execution_count": 13
  },
  {
   "cell_type": "markdown",
   "source": [
    "# 좌표 있는 데이터 선택"
   ],
   "metadata": {
    "collapsed": false
   },
   "id": "75031d2c9b0852f5"
  },
  {
   "cell_type": "code",
   "outputs": [
    {
     "data": {
      "text/plain": "                                           IMAGE_PATH   TEXT CLASS  TYPE  \\\n0   ./data/13.한국어글자체/04. Text in the wild_230209_a...  3분딥러닝    단어  book   \n1   ./data/13.한국어글자체/04. Text in the wild_230209_a...  3분딥러닝    단어  book   \n2   ./data/13.한국어글자체/04. Text in the wild_230209_a...  3분딥러닝    단어  book   \n3   ./data/13.한국어글자체/04. Text in the wild_230209_a...  3분딥러닝    단어  book   \n4   ./data/13.한국어글자체/04. Text in the wild_230209_a...  3분딥러닝    단어  book   \n5   ./data/13.한국어글자체/04. Text in the wild_230209_a...  3분딥러닝    단어  book   \n6   ./data/13.한국어글자체/04. Text in the wild_230209_a...  3분딥러닝    단어  book   \n7   ./data/13.한국어글자체/04. Text in the wild_230209_a...  3분딥러닝    단어  book   \n8   ./data/13.한국어글자체/04. Text in the wild_230209_a...  3분딥러닝    단어  book   \n9   ./data/13.한국어글자체/04. Text in the wild_230209_a...  3분딥러닝    단어  book   \n10  ./data/13.한국어글자체/04. Text in the wild_230209_a...  3분딥러닝    단어  book   \n11  ./data/13.한국어글자체/04. Text in the wild_230209_a...  3분딥러닝    단어  book   \n12  ./data/13.한국어글자체/04. Text in the wild_230209_a...  3분딥러닝    단어  book   \n13  ./data/13.한국어글자체/04. Text in the wild_230209_a...  3분딥러닝    단어  book   \n14  ./data/13.한국어글자체/04. Text in the wild_230209_a...  3분딥러닝    단어  book   \n15  ./data/13.한국어글자체/04. Text in the wild_230209_a...  3분딥러닝    단어  book   \n16  ./data/13.한국어글자체/04. Text in the wild_230209_a...  3분딥러닝    단어  book   \n17  ./data/13.한국어글자체/04. Text in the wild_230209_a...  3분딥러닝    단어  book   \n18  ./data/13.한국어글자체/04. Text in the wild_230209_a...  3분딥러닝    단어  book   \n19  ./data/13.한국어글자체/04. Text in the wild_230209_a...  3분딥러닝    단어  book   \n20  ./data/13.한국어글자체/04. Text in the wild_230209_a...  3분딥러닝    단어  book   \n21  ./data/13.한국어글자체/04. Text in the wild_230209_a...  3분딥러닝    단어  book   \n22  ./data/13.한국어글자체/04. Text in the wild_230209_a...  3분딥러닝    단어  book   \n23  ./data/13.한국어글자체/04. Text in the wild_230209_a...  3분딥러닝    단어  book   \n24  ./data/13.한국어글자체/04. Text in the wild_230209_a...  3분딥러닝    단어  book   \n25  ./data/13.한국어글자체/04. Text in the wild_230209_a...  3분딥러닝    단어  book   \n26  ./data/13.한국어글자체/04. Text in the wild_230209_a...  3분딥러닝    단어  book   \n27  ./data/13.한국어글자체/04. Text in the wild_230209_a...  3분딥러닝    단어  book   \n28  ./data/13.한국어글자체/04. Text in the wild_230209_a...  3분딥러닝    단어  book   \n29  ./data/13.한국어글자체/04. Text in the wild_230209_a...  3분딥러닝    단어  book   \n\n                     COORD  \n0   (1693, 252, 1798, 357)  \n1   (1693, 252, 1798, 357)  \n2   (1693, 252, 1798, 357)  \n3   (1693, 252, 1798, 357)  \n4   (1693, 252, 1798, 357)  \n5   (1693, 252, 1798, 357)  \n6   (1693, 252, 1798, 357)  \n7   (1693, 252, 1798, 357)  \n8   (1693, 252, 1798, 357)  \n9   (1693, 252, 1798, 357)  \n10  (1693, 252, 1798, 357)  \n11  (1693, 252, 1798, 357)  \n12  (1693, 252, 1798, 357)  \n13  (1693, 252, 1798, 357)  \n14  (1693, 252, 1798, 357)  \n15  (1693, 252, 1798, 357)  \n16  (1693, 252, 1798, 357)  \n17  (1693, 252, 1798, 357)  \n18  (1693, 252, 1798, 357)  \n19  (1693, 252, 1798, 357)  \n20  (1693, 252, 1798, 357)  \n21  (1693, 252, 1798, 357)  \n22  (1693, 252, 1798, 357)  \n23  (1693, 252, 1798, 357)  \n24  (1693, 252, 1798, 357)  \n25  (1693, 252, 1798, 357)  \n26  (1693, 252, 1798, 357)  \n27  (1693, 252, 1798, 357)  \n28  (1693, 252, 1798, 357)  \n29  (1693, 252, 1798, 357)  ",
      "text/html": "<div>\n<style scoped>\n    .dataframe tbody tr th:only-of-type {\n        vertical-align: middle;\n    }\n\n    .dataframe tbody tr th {\n        vertical-align: top;\n    }\n\n    .dataframe thead th {\n        text-align: right;\n    }\n</style>\n<table border=\"1\" class=\"dataframe\">\n  <thead>\n    <tr style=\"text-align: right;\">\n      <th></th>\n      <th>IMAGE_PATH</th>\n      <th>TEXT</th>\n      <th>CLASS</th>\n      <th>TYPE</th>\n      <th>COORD</th>\n    </tr>\n  </thead>\n  <tbody>\n    <tr>\n      <th>0</th>\n      <td>./data/13.한국어글자체/04. Text in the wild_230209_a...</td>\n      <td>3분딥러닝</td>\n      <td>단어</td>\n      <td>book</td>\n      <td>(1693, 252, 1798, 357)</td>\n    </tr>\n    <tr>\n      <th>1</th>\n      <td>./data/13.한국어글자체/04. Text in the wild_230209_a...</td>\n      <td>3분딥러닝</td>\n      <td>단어</td>\n      <td>book</td>\n      <td>(1693, 252, 1798, 357)</td>\n    </tr>\n    <tr>\n      <th>2</th>\n      <td>./data/13.한국어글자체/04. Text in the wild_230209_a...</td>\n      <td>3분딥러닝</td>\n      <td>단어</td>\n      <td>book</td>\n      <td>(1693, 252, 1798, 357)</td>\n    </tr>\n    <tr>\n      <th>3</th>\n      <td>./data/13.한국어글자체/04. Text in the wild_230209_a...</td>\n      <td>3분딥러닝</td>\n      <td>단어</td>\n      <td>book</td>\n      <td>(1693, 252, 1798, 357)</td>\n    </tr>\n    <tr>\n      <th>4</th>\n      <td>./data/13.한국어글자체/04. Text in the wild_230209_a...</td>\n      <td>3분딥러닝</td>\n      <td>단어</td>\n      <td>book</td>\n      <td>(1693, 252, 1798, 357)</td>\n    </tr>\n    <tr>\n      <th>5</th>\n      <td>./data/13.한국어글자체/04. Text in the wild_230209_a...</td>\n      <td>3분딥러닝</td>\n      <td>단어</td>\n      <td>book</td>\n      <td>(1693, 252, 1798, 357)</td>\n    </tr>\n    <tr>\n      <th>6</th>\n      <td>./data/13.한국어글자체/04. Text in the wild_230209_a...</td>\n      <td>3분딥러닝</td>\n      <td>단어</td>\n      <td>book</td>\n      <td>(1693, 252, 1798, 357)</td>\n    </tr>\n    <tr>\n      <th>7</th>\n      <td>./data/13.한국어글자체/04. Text in the wild_230209_a...</td>\n      <td>3분딥러닝</td>\n      <td>단어</td>\n      <td>book</td>\n      <td>(1693, 252, 1798, 357)</td>\n    </tr>\n    <tr>\n      <th>8</th>\n      <td>./data/13.한국어글자체/04. Text in the wild_230209_a...</td>\n      <td>3분딥러닝</td>\n      <td>단어</td>\n      <td>book</td>\n      <td>(1693, 252, 1798, 357)</td>\n    </tr>\n    <tr>\n      <th>9</th>\n      <td>./data/13.한국어글자체/04. Text in the wild_230209_a...</td>\n      <td>3분딥러닝</td>\n      <td>단어</td>\n      <td>book</td>\n      <td>(1693, 252, 1798, 357)</td>\n    </tr>\n    <tr>\n      <th>10</th>\n      <td>./data/13.한국어글자체/04. Text in the wild_230209_a...</td>\n      <td>3분딥러닝</td>\n      <td>단어</td>\n      <td>book</td>\n      <td>(1693, 252, 1798, 357)</td>\n    </tr>\n    <tr>\n      <th>11</th>\n      <td>./data/13.한국어글자체/04. Text in the wild_230209_a...</td>\n      <td>3분딥러닝</td>\n      <td>단어</td>\n      <td>book</td>\n      <td>(1693, 252, 1798, 357)</td>\n    </tr>\n    <tr>\n      <th>12</th>\n      <td>./data/13.한국어글자체/04. Text in the wild_230209_a...</td>\n      <td>3분딥러닝</td>\n      <td>단어</td>\n      <td>book</td>\n      <td>(1693, 252, 1798, 357)</td>\n    </tr>\n    <tr>\n      <th>13</th>\n      <td>./data/13.한국어글자체/04. Text in the wild_230209_a...</td>\n      <td>3분딥러닝</td>\n      <td>단어</td>\n      <td>book</td>\n      <td>(1693, 252, 1798, 357)</td>\n    </tr>\n    <tr>\n      <th>14</th>\n      <td>./data/13.한국어글자체/04. Text in the wild_230209_a...</td>\n      <td>3분딥러닝</td>\n      <td>단어</td>\n      <td>book</td>\n      <td>(1693, 252, 1798, 357)</td>\n    </tr>\n    <tr>\n      <th>15</th>\n      <td>./data/13.한국어글자체/04. Text in the wild_230209_a...</td>\n      <td>3분딥러닝</td>\n      <td>단어</td>\n      <td>book</td>\n      <td>(1693, 252, 1798, 357)</td>\n    </tr>\n    <tr>\n      <th>16</th>\n      <td>./data/13.한국어글자체/04. Text in the wild_230209_a...</td>\n      <td>3분딥러닝</td>\n      <td>단어</td>\n      <td>book</td>\n      <td>(1693, 252, 1798, 357)</td>\n    </tr>\n    <tr>\n      <th>17</th>\n      <td>./data/13.한국어글자체/04. Text in the wild_230209_a...</td>\n      <td>3분딥러닝</td>\n      <td>단어</td>\n      <td>book</td>\n      <td>(1693, 252, 1798, 357)</td>\n    </tr>\n    <tr>\n      <th>18</th>\n      <td>./data/13.한국어글자체/04. Text in the wild_230209_a...</td>\n      <td>3분딥러닝</td>\n      <td>단어</td>\n      <td>book</td>\n      <td>(1693, 252, 1798, 357)</td>\n    </tr>\n    <tr>\n      <th>19</th>\n      <td>./data/13.한국어글자체/04. Text in the wild_230209_a...</td>\n      <td>3분딥러닝</td>\n      <td>단어</td>\n      <td>book</td>\n      <td>(1693, 252, 1798, 357)</td>\n    </tr>\n    <tr>\n      <th>20</th>\n      <td>./data/13.한국어글자체/04. Text in the wild_230209_a...</td>\n      <td>3분딥러닝</td>\n      <td>단어</td>\n      <td>book</td>\n      <td>(1693, 252, 1798, 357)</td>\n    </tr>\n    <tr>\n      <th>21</th>\n      <td>./data/13.한국어글자체/04. Text in the wild_230209_a...</td>\n      <td>3분딥러닝</td>\n      <td>단어</td>\n      <td>book</td>\n      <td>(1693, 252, 1798, 357)</td>\n    </tr>\n    <tr>\n      <th>22</th>\n      <td>./data/13.한국어글자체/04. Text in the wild_230209_a...</td>\n      <td>3분딥러닝</td>\n      <td>단어</td>\n      <td>book</td>\n      <td>(1693, 252, 1798, 357)</td>\n    </tr>\n    <tr>\n      <th>23</th>\n      <td>./data/13.한국어글자체/04. Text in the wild_230209_a...</td>\n      <td>3분딥러닝</td>\n      <td>단어</td>\n      <td>book</td>\n      <td>(1693, 252, 1798, 357)</td>\n    </tr>\n    <tr>\n      <th>24</th>\n      <td>./data/13.한국어글자체/04. Text in the wild_230209_a...</td>\n      <td>3분딥러닝</td>\n      <td>단어</td>\n      <td>book</td>\n      <td>(1693, 252, 1798, 357)</td>\n    </tr>\n    <tr>\n      <th>25</th>\n      <td>./data/13.한국어글자체/04. Text in the wild_230209_a...</td>\n      <td>3분딥러닝</td>\n      <td>단어</td>\n      <td>book</td>\n      <td>(1693, 252, 1798, 357)</td>\n    </tr>\n    <tr>\n      <th>26</th>\n      <td>./data/13.한국어글자체/04. Text in the wild_230209_a...</td>\n      <td>3분딥러닝</td>\n      <td>단어</td>\n      <td>book</td>\n      <td>(1693, 252, 1798, 357)</td>\n    </tr>\n    <tr>\n      <th>27</th>\n      <td>./data/13.한국어글자체/04. Text in the wild_230209_a...</td>\n      <td>3분딥러닝</td>\n      <td>단어</td>\n      <td>book</td>\n      <td>(1693, 252, 1798, 357)</td>\n    </tr>\n    <tr>\n      <th>28</th>\n      <td>./data/13.한국어글자체/04. Text in the wild_230209_a...</td>\n      <td>3분딥러닝</td>\n      <td>단어</td>\n      <td>book</td>\n      <td>(1693, 252, 1798, 357)</td>\n    </tr>\n    <tr>\n      <th>29</th>\n      <td>./data/13.한국어글자체/04. Text in the wild_230209_a...</td>\n      <td>3분딥러닝</td>\n      <td>단어</td>\n      <td>book</td>\n      <td>(1693, 252, 1798, 357)</td>\n    </tr>\n  </tbody>\n</table>\n</div>"
     },
     "execution_count": 14,
     "metadata": {},
     "output_type": "execute_result"
    }
   ],
   "source": [
    "# 이미지 종류 고르기\n",
    "\"\"\" '필기체', '인쇄체(다양한 형태)' 중 하나 고르기 \"\"\"\n",
    "mysql.search_coord_by_kind('인쇄체(다양한 형태)') \n",
    "# mysql.search_coord_by_kind('인쇄체(다양한 형태)', '단어') # 단어, 문자 중 하나 선택 가능"
   ],
   "metadata": {
    "collapsed": false,
    "ExecuteTime": {
     "end_time": "2024-04-28T10:35:11.586100Z",
     "start_time": "2024-04-28T10:35:11.431845Z"
    }
   },
   "id": "edf5b0b36556491",
   "execution_count": 14
  },
  {
   "cell_type": "code",
   "outputs": [
    {
     "data": {
      "text/plain": "                                           IMAGE_PATH TEXT CLASS  TYPE  \\\n0   ./data/다양한 형태의 한글 문자 OCR/Training/[원천]Training...    ■    문자  form   \n1   ./data/다양한 형태의 한글 문자 OCR/Training/[원천]Training...    【    문자  form   \n2   ./data/다양한 형태의 한글 문자 OCR/Training/[원천]Training...    서    문자  form   \n3   ./data/다양한 형태의 한글 문자 OCR/Training/[원천]Training...    식    문자  form   \n4   ./data/다양한 형태의 한글 문자 OCR/Training/[원천]Training...    8    문자  form   \n5   ./data/다양한 형태의 한글 문자 OCR/Training/[원천]Training...    3    문자  form   \n6   ./data/다양한 형태의 한글 문자 OCR/Training/[원천]Training...    】    문자  form   \n7   ./data/다양한 형태의 한글 문자 OCR/Training/[원천]Training...    「    문자  form   \n8   ./data/다양한 형태의 한글 문자 OCR/Training/[원천]Training...    국    문자  form   \n9   ./data/다양한 형태의 한글 문자 OCR/Training/[원천]Training...    가    문자  form   \n10  ./data/다양한 형태의 한글 문자 OCR/Training/[원천]Training...    기    문자  form   \n11  ./data/다양한 형태의 한글 문자 OCR/Training/[원천]Training...    술    문자  form   \n12  ./data/다양한 형태의 한글 문자 OCR/Training/[원천]Training...    자    문자  form   \n13  ./data/다양한 형태의 한글 문자 OCR/Training/[원천]Training...    격    문자  form   \n14  ./data/다양한 형태의 한글 문자 OCR/Training/[원천]Training...    법    문자  form   \n15  ./data/다양한 형태의 한글 문자 OCR/Training/[원천]Training...    [    문자  form   \n16  ./data/다양한 형태의 한글 문자 OCR/Training/[원천]Training...    별    문자  form   \n17  ./data/다양한 형태의 한글 문자 OCR/Training/[원천]Training...    지    문자  form   \n18  ./data/다양한 형태의 한글 문자 OCR/Training/[원천]Training...    시    문자  form   \n19  ./data/다양한 형태의 한글 문자 OCR/Training/[원천]Training...    행    문자  form   \n20  ./data/다양한 형태의 한글 문자 OCR/Training/[원천]Training...    규    문자  form   \n21  ./data/다양한 형태의 한글 문자 OCR/Training/[원천]Training...    칙    문자  form   \n22  ./data/다양한 형태의 한글 문자 OCR/Training/[원천]Training...    」    문자  form   \n23  ./data/다양한 형태의 한글 문자 OCR/Training/[원천]Training...    제    문자  form   \n24  ./data/다양한 형태의 한글 문자 OCR/Training/[원천]Training...    1    문자  form   \n25  ./data/다양한 형태의 한글 문자 OCR/Training/[원천]Training...    6    문자  form   \n26  ./data/다양한 형태의 한글 문자 OCR/Training/[원천]Training...    호    문자  form   \n27  ./data/다양한 형태의 한글 문자 OCR/Training/[원천]Training...    의    문자  form   \n28  ./data/다양한 형태의 한글 문자 OCR/Training/[원천]Training...    2    문자  form   \n29  ./data/다양한 형태의 한글 문자 OCR/Training/[원천]Training...    서    문자  form   \n\n                     COORD  \n0     (559, 253, 590, 310)  \n1     (286, 254, 308, 309)  \n2     (309, 254, 359, 308)  \n3     (363, 254, 413, 308)  \n4     (444, 255, 475, 306)  \n5     (475, 255, 507, 306)  \n6     (508, 254, 530, 309)  \n7     (620, 270, 634, 303)  \n8     (633, 272, 665, 304)  \n9     (663, 271, 695, 304)  \n10    (694, 272, 720, 303)  \n11    (723, 272, 753, 304)  \n12    (753, 272, 785, 303)  \n13    (784, 273, 811, 304)  \n14    (813, 271, 841, 304)  \n15  (1025, 271, 1035, 305)  \n16  (1038, 272, 1065, 304)  \n17  (1067, 273, 1095, 305)  \n18    (858, 271, 886, 303)  \n19    (887, 272, 916, 303)  \n20    (918, 273, 948, 304)  \n21    (949, 273, 976, 305)  \n22    (977, 273, 992, 305)  \n23  (1112, 272, 1140, 304)  \n24  (1144, 276, 1155, 302)  \n25  (1160, 275, 1178, 302)  \n26  (1179, 273, 1208, 302)  \n27  (1208, 273, 1234, 304)  \n28  (1237, 275, 1255, 302)  \n29  (1255, 272, 1283, 303)  ",
      "text/html": "<div>\n<style scoped>\n    .dataframe tbody tr th:only-of-type {\n        vertical-align: middle;\n    }\n\n    .dataframe tbody tr th {\n        vertical-align: top;\n    }\n\n    .dataframe thead th {\n        text-align: right;\n    }\n</style>\n<table border=\"1\" class=\"dataframe\">\n  <thead>\n    <tr style=\"text-align: right;\">\n      <th></th>\n      <th>IMAGE_PATH</th>\n      <th>TEXT</th>\n      <th>CLASS</th>\n      <th>TYPE</th>\n      <th>COORD</th>\n    </tr>\n  </thead>\n  <tbody>\n    <tr>\n      <th>0</th>\n      <td>./data/다양한 형태의 한글 문자 OCR/Training/[원천]Training...</td>\n      <td>■</td>\n      <td>문자</td>\n      <td>form</td>\n      <td>(559, 253, 590, 310)</td>\n    </tr>\n    <tr>\n      <th>1</th>\n      <td>./data/다양한 형태의 한글 문자 OCR/Training/[원천]Training...</td>\n      <td>【</td>\n      <td>문자</td>\n      <td>form</td>\n      <td>(286, 254, 308, 309)</td>\n    </tr>\n    <tr>\n      <th>2</th>\n      <td>./data/다양한 형태의 한글 문자 OCR/Training/[원천]Training...</td>\n      <td>서</td>\n      <td>문자</td>\n      <td>form</td>\n      <td>(309, 254, 359, 308)</td>\n    </tr>\n    <tr>\n      <th>3</th>\n      <td>./data/다양한 형태의 한글 문자 OCR/Training/[원천]Training...</td>\n      <td>식</td>\n      <td>문자</td>\n      <td>form</td>\n      <td>(363, 254, 413, 308)</td>\n    </tr>\n    <tr>\n      <th>4</th>\n      <td>./data/다양한 형태의 한글 문자 OCR/Training/[원천]Training...</td>\n      <td>8</td>\n      <td>문자</td>\n      <td>form</td>\n      <td>(444, 255, 475, 306)</td>\n    </tr>\n    <tr>\n      <th>5</th>\n      <td>./data/다양한 형태의 한글 문자 OCR/Training/[원천]Training...</td>\n      <td>3</td>\n      <td>문자</td>\n      <td>form</td>\n      <td>(475, 255, 507, 306)</td>\n    </tr>\n    <tr>\n      <th>6</th>\n      <td>./data/다양한 형태의 한글 문자 OCR/Training/[원천]Training...</td>\n      <td>】</td>\n      <td>문자</td>\n      <td>form</td>\n      <td>(508, 254, 530, 309)</td>\n    </tr>\n    <tr>\n      <th>7</th>\n      <td>./data/다양한 형태의 한글 문자 OCR/Training/[원천]Training...</td>\n      <td>「</td>\n      <td>문자</td>\n      <td>form</td>\n      <td>(620, 270, 634, 303)</td>\n    </tr>\n    <tr>\n      <th>8</th>\n      <td>./data/다양한 형태의 한글 문자 OCR/Training/[원천]Training...</td>\n      <td>국</td>\n      <td>문자</td>\n      <td>form</td>\n      <td>(633, 272, 665, 304)</td>\n    </tr>\n    <tr>\n      <th>9</th>\n      <td>./data/다양한 형태의 한글 문자 OCR/Training/[원천]Training...</td>\n      <td>가</td>\n      <td>문자</td>\n      <td>form</td>\n      <td>(663, 271, 695, 304)</td>\n    </tr>\n    <tr>\n      <th>10</th>\n      <td>./data/다양한 형태의 한글 문자 OCR/Training/[원천]Training...</td>\n      <td>기</td>\n      <td>문자</td>\n      <td>form</td>\n      <td>(694, 272, 720, 303)</td>\n    </tr>\n    <tr>\n      <th>11</th>\n      <td>./data/다양한 형태의 한글 문자 OCR/Training/[원천]Training...</td>\n      <td>술</td>\n      <td>문자</td>\n      <td>form</td>\n      <td>(723, 272, 753, 304)</td>\n    </tr>\n    <tr>\n      <th>12</th>\n      <td>./data/다양한 형태의 한글 문자 OCR/Training/[원천]Training...</td>\n      <td>자</td>\n      <td>문자</td>\n      <td>form</td>\n      <td>(753, 272, 785, 303)</td>\n    </tr>\n    <tr>\n      <th>13</th>\n      <td>./data/다양한 형태의 한글 문자 OCR/Training/[원천]Training...</td>\n      <td>격</td>\n      <td>문자</td>\n      <td>form</td>\n      <td>(784, 273, 811, 304)</td>\n    </tr>\n    <tr>\n      <th>14</th>\n      <td>./data/다양한 형태의 한글 문자 OCR/Training/[원천]Training...</td>\n      <td>법</td>\n      <td>문자</td>\n      <td>form</td>\n      <td>(813, 271, 841, 304)</td>\n    </tr>\n    <tr>\n      <th>15</th>\n      <td>./data/다양한 형태의 한글 문자 OCR/Training/[원천]Training...</td>\n      <td>[</td>\n      <td>문자</td>\n      <td>form</td>\n      <td>(1025, 271, 1035, 305)</td>\n    </tr>\n    <tr>\n      <th>16</th>\n      <td>./data/다양한 형태의 한글 문자 OCR/Training/[원천]Training...</td>\n      <td>별</td>\n      <td>문자</td>\n      <td>form</td>\n      <td>(1038, 272, 1065, 304)</td>\n    </tr>\n    <tr>\n      <th>17</th>\n      <td>./data/다양한 형태의 한글 문자 OCR/Training/[원천]Training...</td>\n      <td>지</td>\n      <td>문자</td>\n      <td>form</td>\n      <td>(1067, 273, 1095, 305)</td>\n    </tr>\n    <tr>\n      <th>18</th>\n      <td>./data/다양한 형태의 한글 문자 OCR/Training/[원천]Training...</td>\n      <td>시</td>\n      <td>문자</td>\n      <td>form</td>\n      <td>(858, 271, 886, 303)</td>\n    </tr>\n    <tr>\n      <th>19</th>\n      <td>./data/다양한 형태의 한글 문자 OCR/Training/[원천]Training...</td>\n      <td>행</td>\n      <td>문자</td>\n      <td>form</td>\n      <td>(887, 272, 916, 303)</td>\n    </tr>\n    <tr>\n      <th>20</th>\n      <td>./data/다양한 형태의 한글 문자 OCR/Training/[원천]Training...</td>\n      <td>규</td>\n      <td>문자</td>\n      <td>form</td>\n      <td>(918, 273, 948, 304)</td>\n    </tr>\n    <tr>\n      <th>21</th>\n      <td>./data/다양한 형태의 한글 문자 OCR/Training/[원천]Training...</td>\n      <td>칙</td>\n      <td>문자</td>\n      <td>form</td>\n      <td>(949, 273, 976, 305)</td>\n    </tr>\n    <tr>\n      <th>22</th>\n      <td>./data/다양한 형태의 한글 문자 OCR/Training/[원천]Training...</td>\n      <td>」</td>\n      <td>문자</td>\n      <td>form</td>\n      <td>(977, 273, 992, 305)</td>\n    </tr>\n    <tr>\n      <th>23</th>\n      <td>./data/다양한 형태의 한글 문자 OCR/Training/[원천]Training...</td>\n      <td>제</td>\n      <td>문자</td>\n      <td>form</td>\n      <td>(1112, 272, 1140, 304)</td>\n    </tr>\n    <tr>\n      <th>24</th>\n      <td>./data/다양한 형태의 한글 문자 OCR/Training/[원천]Training...</td>\n      <td>1</td>\n      <td>문자</td>\n      <td>form</td>\n      <td>(1144, 276, 1155, 302)</td>\n    </tr>\n    <tr>\n      <th>25</th>\n      <td>./data/다양한 형태의 한글 문자 OCR/Training/[원천]Training...</td>\n      <td>6</td>\n      <td>문자</td>\n      <td>form</td>\n      <td>(1160, 275, 1178, 302)</td>\n    </tr>\n    <tr>\n      <th>26</th>\n      <td>./data/다양한 형태의 한글 문자 OCR/Training/[원천]Training...</td>\n      <td>호</td>\n      <td>문자</td>\n      <td>form</td>\n      <td>(1179, 273, 1208, 302)</td>\n    </tr>\n    <tr>\n      <th>27</th>\n      <td>./data/다양한 형태의 한글 문자 OCR/Training/[원천]Training...</td>\n      <td>의</td>\n      <td>문자</td>\n      <td>form</td>\n      <td>(1208, 273, 1234, 304)</td>\n    </tr>\n    <tr>\n      <th>28</th>\n      <td>./data/다양한 형태의 한글 문자 OCR/Training/[원천]Training...</td>\n      <td>2</td>\n      <td>문자</td>\n      <td>form</td>\n      <td>(1237, 275, 1255, 302)</td>\n    </tr>\n    <tr>\n      <th>29</th>\n      <td>./data/다양한 형태의 한글 문자 OCR/Training/[원천]Training...</td>\n      <td>서</td>\n      <td>문자</td>\n      <td>form</td>\n      <td>(1255, 272, 1283, 303)</td>\n    </tr>\n  </tbody>\n</table>\n</div>"
     },
     "execution_count": 15,
     "metadata": {},
     "output_type": "execute_result"
    }
   ],
   "source": [
    "# 경로 검색\n",
    "mysql.search_coord_by_path('Training')\n",
    "# mysql.search_coord_by_path('Training', '단어') # '단어', '문자' 중 하나 선택 가능"
   ],
   "metadata": {
    "collapsed": false,
    "ExecuteTime": {
     "end_time": "2024-04-28T10:35:11.741113Z",
     "start_time": "2024-04-28T10:35:11.586842Z"
    }
   },
   "id": "bea62e0772bed21f",
   "execution_count": 15
  },
  {
   "cell_type": "code",
   "outputs": [
    {
     "data": {
      "text/plain": "                                           IMAGE_PATH TEXT CLASS     TYPE  \\\n0   ./data/다양한 형태의 한글 문자 OCR/Training/[원천]Training...    가    문자  cursive   \n1   ./data/다양한 형태의 한글 문자 OCR/Training/[원천]Training...    게    문자  cursive   \n2   ./data/다양한 형태의 한글 문자 OCR/Training/[원천]Training...    가    문자  cursive   \n3   ./data/다양한 형태의 한글 문자 OCR/Training/[원천]Training...    격    문자  cursive   \n4   ./data/다양한 형태의 한글 문자 OCR/Training/[원천]Training...    가    문자  cursive   \n5   ./data/다양한 형태의 한글 문자 OCR/Training/[원천]Training...    구    문자  cursive   \n6   ./data/다양한 형태의 한글 문자 OCR/Training/[원천]Training...    가    문자  cursive   \n7   ./data/다양한 형태의 한글 문자 OCR/Training/[원천]Training...    끔    문자  cursive   \n8   ./data/다양한 형태의 한글 문자 OCR/Training/[원천]Training...    가    문자  cursive   \n9   ./data/다양한 형태의 한글 문자 OCR/Training/[원천]Training...    난    문자  cursive   \n10  ./data/다양한 형태의 한글 문자 OCR/Training/[원천]Training...    가    문자  cursive   \n11  ./data/다양한 형태의 한글 문자 OCR/Training/[원천]Training...    능    문자  cursive   \n12  ./data/다양한 형태의 한글 문자 OCR/Training/[원천]Training...    가    문자  cursive   \n13  ./data/다양한 형태의 한글 문자 OCR/Training/[원천]Training...    다    문자  cursive   \n14  ./data/다양한 형태의 한글 문자 OCR/Training/[원천]Training...    가    문자  cursive   \n15  ./data/다양한 형태의 한글 문자 OCR/Training/[원천]Training...    득    문자  cursive   \n16  ./data/다양한 형태의 한글 문자 OCR/Training/[원천]Training...    가    문자  cursive   \n17  ./data/다양한 형태의 한글 문자 OCR/Training/[원천]Training...    령    문자  cursive   \n18  ./data/다양한 형태의 한글 문자 OCR/Training/[원천]Training...    가    문자  cursive   \n19  ./data/다양한 형태의 한글 문자 OCR/Training/[원천]Training...    로    문자  cursive   \n20  ./data/다양한 형태의 한글 문자 OCR/Training/[원천]Training...    가    문자  cursive   \n21  ./data/다양한 형태의 한글 문자 OCR/Training/[원천]Training...    루    문자  cursive   \n22  ./data/다양한 형태의 한글 문자 OCR/Training/[원천]Training...    가    문자  cursive   \n23  ./data/다양한 형태의 한글 문자 OCR/Training/[원천]Training...    만    문자  cursive   \n24  ./data/다양한 형태의 한글 문자 OCR/Training/[원천]Training...    가    문자  cursive   \n25  ./data/다양한 형태의 한글 문자 OCR/Training/[원천]Training...    뭄    문자  cursive   \n26  ./data/다양한 형태의 한글 문자 OCR/Training/[원천]Training...    가    문자  cursive   \n27  ./data/다양한 형태의 한글 문자 OCR/Training/[원천]Training...    방    문자  cursive   \n28  ./data/다양한 형태의 한글 문자 OCR/Training/[원천]Training...    가    문자  cursive   \n29  ./data/다양한 형태의 한글 문자 OCR/Training/[원천]Training...    사    문자  cursive   \n\n                  COORD  \n0     (68, 17, 107, 89)  \n1    (113, 25, 171, 91)  \n2     (62, 20, 113, 93)  \n3    (119, 26, 168, 95)  \n4      (38, 22, 87, 88)  \n5     (95, 29, 145, 88)  \n6      (32, 32, 85, 89)  \n7     (91, 28, 143, 94)  \n8     (63, 24, 112, 79)  \n9    (120, 22, 171, 87)  \n10     (39, 22, 95, 66)  \n11   (104, 16, 149, 81)  \n12     (32, 23, 95, 75)  \n13   (102, 19, 158, 77)  \n14     (36, 31, 89, 83)  \n15    (99, 25, 143, 97)  \n16    (60, 24, 110, 88)  \n17   (126, 25, 183, 91)  \n18    (55, 25, 110, 87)  \n19   (129, 28, 179, 79)  \n20    (48, 20, 110, 74)  \n21   (118, 15, 170, 90)  \n22    (37, 22, 104, 87)  \n23   (112, 14, 177, 87)  \n24    (61, 12, 126, 79)  \n25   (132, 17, 175, 91)  \n26     (16, 17, 84, 85)  \n27   (91, 19, 157, 104)  \n28   (51, 35, 111, 101)  \n29  (125, 34, 178, 104)  ",
      "text/html": "<div>\n<style scoped>\n    .dataframe tbody tr th:only-of-type {\n        vertical-align: middle;\n    }\n\n    .dataframe tbody tr th {\n        vertical-align: top;\n    }\n\n    .dataframe thead th {\n        text-align: right;\n    }\n</style>\n<table border=\"1\" class=\"dataframe\">\n  <thead>\n    <tr style=\"text-align: right;\">\n      <th></th>\n      <th>IMAGE_PATH</th>\n      <th>TEXT</th>\n      <th>CLASS</th>\n      <th>TYPE</th>\n      <th>COORD</th>\n    </tr>\n  </thead>\n  <tbody>\n    <tr>\n      <th>0</th>\n      <td>./data/다양한 형태의 한글 문자 OCR/Training/[원천]Training...</td>\n      <td>가</td>\n      <td>문자</td>\n      <td>cursive</td>\n      <td>(68, 17, 107, 89)</td>\n    </tr>\n    <tr>\n      <th>1</th>\n      <td>./data/다양한 형태의 한글 문자 OCR/Training/[원천]Training...</td>\n      <td>게</td>\n      <td>문자</td>\n      <td>cursive</td>\n      <td>(113, 25, 171, 91)</td>\n    </tr>\n    <tr>\n      <th>2</th>\n      <td>./data/다양한 형태의 한글 문자 OCR/Training/[원천]Training...</td>\n      <td>가</td>\n      <td>문자</td>\n      <td>cursive</td>\n      <td>(62, 20, 113, 93)</td>\n    </tr>\n    <tr>\n      <th>3</th>\n      <td>./data/다양한 형태의 한글 문자 OCR/Training/[원천]Training...</td>\n      <td>격</td>\n      <td>문자</td>\n      <td>cursive</td>\n      <td>(119, 26, 168, 95)</td>\n    </tr>\n    <tr>\n      <th>4</th>\n      <td>./data/다양한 형태의 한글 문자 OCR/Training/[원천]Training...</td>\n      <td>가</td>\n      <td>문자</td>\n      <td>cursive</td>\n      <td>(38, 22, 87, 88)</td>\n    </tr>\n    <tr>\n      <th>5</th>\n      <td>./data/다양한 형태의 한글 문자 OCR/Training/[원천]Training...</td>\n      <td>구</td>\n      <td>문자</td>\n      <td>cursive</td>\n      <td>(95, 29, 145, 88)</td>\n    </tr>\n    <tr>\n      <th>6</th>\n      <td>./data/다양한 형태의 한글 문자 OCR/Training/[원천]Training...</td>\n      <td>가</td>\n      <td>문자</td>\n      <td>cursive</td>\n      <td>(32, 32, 85, 89)</td>\n    </tr>\n    <tr>\n      <th>7</th>\n      <td>./data/다양한 형태의 한글 문자 OCR/Training/[원천]Training...</td>\n      <td>끔</td>\n      <td>문자</td>\n      <td>cursive</td>\n      <td>(91, 28, 143, 94)</td>\n    </tr>\n    <tr>\n      <th>8</th>\n      <td>./data/다양한 형태의 한글 문자 OCR/Training/[원천]Training...</td>\n      <td>가</td>\n      <td>문자</td>\n      <td>cursive</td>\n      <td>(63, 24, 112, 79)</td>\n    </tr>\n    <tr>\n      <th>9</th>\n      <td>./data/다양한 형태의 한글 문자 OCR/Training/[원천]Training...</td>\n      <td>난</td>\n      <td>문자</td>\n      <td>cursive</td>\n      <td>(120, 22, 171, 87)</td>\n    </tr>\n    <tr>\n      <th>10</th>\n      <td>./data/다양한 형태의 한글 문자 OCR/Training/[원천]Training...</td>\n      <td>가</td>\n      <td>문자</td>\n      <td>cursive</td>\n      <td>(39, 22, 95, 66)</td>\n    </tr>\n    <tr>\n      <th>11</th>\n      <td>./data/다양한 형태의 한글 문자 OCR/Training/[원천]Training...</td>\n      <td>능</td>\n      <td>문자</td>\n      <td>cursive</td>\n      <td>(104, 16, 149, 81)</td>\n    </tr>\n    <tr>\n      <th>12</th>\n      <td>./data/다양한 형태의 한글 문자 OCR/Training/[원천]Training...</td>\n      <td>가</td>\n      <td>문자</td>\n      <td>cursive</td>\n      <td>(32, 23, 95, 75)</td>\n    </tr>\n    <tr>\n      <th>13</th>\n      <td>./data/다양한 형태의 한글 문자 OCR/Training/[원천]Training...</td>\n      <td>다</td>\n      <td>문자</td>\n      <td>cursive</td>\n      <td>(102, 19, 158, 77)</td>\n    </tr>\n    <tr>\n      <th>14</th>\n      <td>./data/다양한 형태의 한글 문자 OCR/Training/[원천]Training...</td>\n      <td>가</td>\n      <td>문자</td>\n      <td>cursive</td>\n      <td>(36, 31, 89, 83)</td>\n    </tr>\n    <tr>\n      <th>15</th>\n      <td>./data/다양한 형태의 한글 문자 OCR/Training/[원천]Training...</td>\n      <td>득</td>\n      <td>문자</td>\n      <td>cursive</td>\n      <td>(99, 25, 143, 97)</td>\n    </tr>\n    <tr>\n      <th>16</th>\n      <td>./data/다양한 형태의 한글 문자 OCR/Training/[원천]Training...</td>\n      <td>가</td>\n      <td>문자</td>\n      <td>cursive</td>\n      <td>(60, 24, 110, 88)</td>\n    </tr>\n    <tr>\n      <th>17</th>\n      <td>./data/다양한 형태의 한글 문자 OCR/Training/[원천]Training...</td>\n      <td>령</td>\n      <td>문자</td>\n      <td>cursive</td>\n      <td>(126, 25, 183, 91)</td>\n    </tr>\n    <tr>\n      <th>18</th>\n      <td>./data/다양한 형태의 한글 문자 OCR/Training/[원천]Training...</td>\n      <td>가</td>\n      <td>문자</td>\n      <td>cursive</td>\n      <td>(55, 25, 110, 87)</td>\n    </tr>\n    <tr>\n      <th>19</th>\n      <td>./data/다양한 형태의 한글 문자 OCR/Training/[원천]Training...</td>\n      <td>로</td>\n      <td>문자</td>\n      <td>cursive</td>\n      <td>(129, 28, 179, 79)</td>\n    </tr>\n    <tr>\n      <th>20</th>\n      <td>./data/다양한 형태의 한글 문자 OCR/Training/[원천]Training...</td>\n      <td>가</td>\n      <td>문자</td>\n      <td>cursive</td>\n      <td>(48, 20, 110, 74)</td>\n    </tr>\n    <tr>\n      <th>21</th>\n      <td>./data/다양한 형태의 한글 문자 OCR/Training/[원천]Training...</td>\n      <td>루</td>\n      <td>문자</td>\n      <td>cursive</td>\n      <td>(118, 15, 170, 90)</td>\n    </tr>\n    <tr>\n      <th>22</th>\n      <td>./data/다양한 형태의 한글 문자 OCR/Training/[원천]Training...</td>\n      <td>가</td>\n      <td>문자</td>\n      <td>cursive</td>\n      <td>(37, 22, 104, 87)</td>\n    </tr>\n    <tr>\n      <th>23</th>\n      <td>./data/다양한 형태의 한글 문자 OCR/Training/[원천]Training...</td>\n      <td>만</td>\n      <td>문자</td>\n      <td>cursive</td>\n      <td>(112, 14, 177, 87)</td>\n    </tr>\n    <tr>\n      <th>24</th>\n      <td>./data/다양한 형태의 한글 문자 OCR/Training/[원천]Training...</td>\n      <td>가</td>\n      <td>문자</td>\n      <td>cursive</td>\n      <td>(61, 12, 126, 79)</td>\n    </tr>\n    <tr>\n      <th>25</th>\n      <td>./data/다양한 형태의 한글 문자 OCR/Training/[원천]Training...</td>\n      <td>뭄</td>\n      <td>문자</td>\n      <td>cursive</td>\n      <td>(132, 17, 175, 91)</td>\n    </tr>\n    <tr>\n      <th>26</th>\n      <td>./data/다양한 형태의 한글 문자 OCR/Training/[원천]Training...</td>\n      <td>가</td>\n      <td>문자</td>\n      <td>cursive</td>\n      <td>(16, 17, 84, 85)</td>\n    </tr>\n    <tr>\n      <th>27</th>\n      <td>./data/다양한 형태의 한글 문자 OCR/Training/[원천]Training...</td>\n      <td>방</td>\n      <td>문자</td>\n      <td>cursive</td>\n      <td>(91, 19, 157, 104)</td>\n    </tr>\n    <tr>\n      <th>28</th>\n      <td>./data/다양한 형태의 한글 문자 OCR/Training/[원천]Training...</td>\n      <td>가</td>\n      <td>문자</td>\n      <td>cursive</td>\n      <td>(51, 35, 111, 101)</td>\n    </tr>\n    <tr>\n      <th>29</th>\n      <td>./data/다양한 형태의 한글 문자 OCR/Training/[원천]Training...</td>\n      <td>사</td>\n      <td>문자</td>\n      <td>cursive</td>\n      <td>(125, 34, 178, 104)</td>\n    </tr>\n  </tbody>\n</table>\n</div>"
     },
     "execution_count": 16,
     "metadata": {},
     "output_type": "execute_result"
    }
   ],
   "source": [
    "# 이미지 종류와 경로 동시에 고르기\n",
    "# mysql.search_coord_by_kind_and_path('필기체', 'Training')\n",
    "mysql.search_coord_by_kind_and_path('필기체', 'Training', '문자') # '단어', '문자' 중 하나 선택 가능"
   ],
   "metadata": {
    "collapsed": false,
    "ExecuteTime": {
     "end_time": "2024-04-28T10:35:13.584484Z",
     "start_time": "2024-04-28T10:35:11.742616Z"
    }
   },
   "id": "3db804a9048944e4",
   "execution_count": 16
  },
  {
   "cell_type": "code",
   "outputs": [
    {
     "data": {
      "text/plain": "                                           IMAGE_PATH   TEXT CLASS  TYPE  \\\n0   ./data/13.한국어글자체/04. Text in the wild_230209_a...    우리가    단어  book   \n1   ./data/13.한국어글자체/04. Text in the wild_230209_a...     보낸    단어  book   \n2   ./data/13.한국어글자체/04. Text in the wild_230209_a...     가장    단어  book   \n3   ./data/13.한국어글자체/04. Text in the wild_230209_a...      긴    단어  book   \n4   ./data/13.한국어글자체/04. Text in the wild_230209_a...      밤    단어  book   \n5   ./data/13.한국어글자체/04. Text in the wild_230209_a...    이석원    단어  book   \n6   ./data/13.한국어글자체/04. Text in the wild_230209_a...     산문    단어  book   \n7   ./data/13.한국어글자체/04. Text in the wild_230209_a...  이대호처럼    단어  book   \n8   ./data/13.한국어글자체/04. Text in the wild_230209_a...    치고,    단어  book   \n9   ./data/13.한국어글자체/04. Text in the wild_230209_a...  류현진처럼    단어  book   \n10  ./data/13.한국어글자체/04. Text in the wild_230209_a...     던져    단어  book   \n11  ./data/13.한국어글자체/04. Text in the wild_230209_a...     달을    단어  book   \n12  ./data/13.한국어글자체/04. Text in the wild_230209_a...     쫓다    단어  book   \n13  ./data/13.한국어글자체/04. Text in the wild_230209_a...     달이    단어  book   \n14  ./data/13.한국어글자체/04. Text in the wild_230209_a...      된    단어  book   \n15  ./data/13.한국어글자체/04. Text in the wild_230209_a...     사람    단어  book   \n16  ./data/13.한국어글자체/04. Text in the wild_230209_a...   일급비밀    단어  book   \n17  ./data/13.한국어글자체/04. Text in the wild_230209_a...    김선형    단어  book   \n18  ./data/13.한국어글자체/04. Text in the wild_230209_a...     옮김    단어  book   \n19  ./data/13.한국어글자체/04. Text in the wild_230209_a...   츠바이크    단어  book   \n20  ./data/13.한국어글자체/04. Text in the wild_230209_a...    슈테판    단어  book   \n21  ./data/13.한국어글자체/04. Text in the wild_230209_a...   북노마드    단어  book   \n22  ./data/13.한국어글자체/04. Text in the wild_230209_a...     나,    단어  book   \n23  ./data/13.한국어글자체/04. Text in the wild_230209_a...     그대    단어  book   \n24  ./data/13.한국어글자체/04. Text in the wild_230209_a...   사이에,    단어  book   \n25  ./data/13.한국어글자체/04. Text in the wild_230209_a...     꽃이    단어  book   \n26  ./data/13.한국어글자체/04. Text in the wild_230209_a...      필    단어  book   \n27  ./data/13.한국어글자체/04. Text in the wild_230209_a...      때    단어  book   \n28  ./data/13.한국어글자체/04. Text in the wild_230209_a...  고마워요,    단어  book   \n29  ./data/13.한국어글자체/04. Text in the wild_230209_a...     엄마    단어  book   \n\n                       COORD  \n0      (998, 499, 1240, 584)  \n1      (993, 594, 1156, 675)  \n2     (1165, 591, 1345, 678)  \n3      (990, 684, 1090, 771)  \n4     (1100, 684, 1195, 775)  \n5      (985, 822, 1225, 922)  \n6     (982, 927, 1161, 1020)  \n7       (459, 363, 854, 495)  \n8       (574, 467, 792, 580)  \n9       (507, 559, 907, 715)  \n10      (583, 674, 786, 812)  \n11      (473, 309, 611, 410)  \n12      (614, 308, 759, 403)  \n13      (760, 308, 894, 402)  \n14      (912, 311, 975, 405)  \n15     (980, 307, 1129, 403)  \n16     (589, 721, 1066, 851)  \n17    (1046, 873, 1123, 903)  \n18    (1138, 873, 1189, 903)  \n19      (531, 654, 661, 690)  \n20      (427, 654, 514, 690)  \n21      (846, 241, 950, 291)  \n22  (1315, 1451, 1408, 1513)  \n23  (1139, 1459, 1269, 1515)  \n24   (854, 1462, 1088, 1522)  \n25    (678, 1468, 806, 1528)  \n26    (575, 1477, 625, 1530)  \n27    (472, 1478, 520, 1533)  \n28      (384, 327, 839, 470)  \n29     (854, 325, 1060, 462)  ",
      "text/html": "<div>\n<style scoped>\n    .dataframe tbody tr th:only-of-type {\n        vertical-align: middle;\n    }\n\n    .dataframe tbody tr th {\n        vertical-align: top;\n    }\n\n    .dataframe thead th {\n        text-align: right;\n    }\n</style>\n<table border=\"1\" class=\"dataframe\">\n  <thead>\n    <tr style=\"text-align: right;\">\n      <th></th>\n      <th>IMAGE_PATH</th>\n      <th>TEXT</th>\n      <th>CLASS</th>\n      <th>TYPE</th>\n      <th>COORD</th>\n    </tr>\n  </thead>\n  <tbody>\n    <tr>\n      <th>0</th>\n      <td>./data/13.한국어글자체/04. Text in the wild_230209_a...</td>\n      <td>우리가</td>\n      <td>단어</td>\n      <td>book</td>\n      <td>(998, 499, 1240, 584)</td>\n    </tr>\n    <tr>\n      <th>1</th>\n      <td>./data/13.한국어글자체/04. Text in the wild_230209_a...</td>\n      <td>보낸</td>\n      <td>단어</td>\n      <td>book</td>\n      <td>(993, 594, 1156, 675)</td>\n    </tr>\n    <tr>\n      <th>2</th>\n      <td>./data/13.한국어글자체/04. Text in the wild_230209_a...</td>\n      <td>가장</td>\n      <td>단어</td>\n      <td>book</td>\n      <td>(1165, 591, 1345, 678)</td>\n    </tr>\n    <tr>\n      <th>3</th>\n      <td>./data/13.한국어글자체/04. Text in the wild_230209_a...</td>\n      <td>긴</td>\n      <td>단어</td>\n      <td>book</td>\n      <td>(990, 684, 1090, 771)</td>\n    </tr>\n    <tr>\n      <th>4</th>\n      <td>./data/13.한국어글자체/04. Text in the wild_230209_a...</td>\n      <td>밤</td>\n      <td>단어</td>\n      <td>book</td>\n      <td>(1100, 684, 1195, 775)</td>\n    </tr>\n    <tr>\n      <th>5</th>\n      <td>./data/13.한국어글자체/04. Text in the wild_230209_a...</td>\n      <td>이석원</td>\n      <td>단어</td>\n      <td>book</td>\n      <td>(985, 822, 1225, 922)</td>\n    </tr>\n    <tr>\n      <th>6</th>\n      <td>./data/13.한국어글자체/04. Text in the wild_230209_a...</td>\n      <td>산문</td>\n      <td>단어</td>\n      <td>book</td>\n      <td>(982, 927, 1161, 1020)</td>\n    </tr>\n    <tr>\n      <th>7</th>\n      <td>./data/13.한국어글자체/04. Text in the wild_230209_a...</td>\n      <td>이대호처럼</td>\n      <td>단어</td>\n      <td>book</td>\n      <td>(459, 363, 854, 495)</td>\n    </tr>\n    <tr>\n      <th>8</th>\n      <td>./data/13.한국어글자체/04. Text in the wild_230209_a...</td>\n      <td>치고,</td>\n      <td>단어</td>\n      <td>book</td>\n      <td>(574, 467, 792, 580)</td>\n    </tr>\n    <tr>\n      <th>9</th>\n      <td>./data/13.한국어글자체/04. Text in the wild_230209_a...</td>\n      <td>류현진처럼</td>\n      <td>단어</td>\n      <td>book</td>\n      <td>(507, 559, 907, 715)</td>\n    </tr>\n    <tr>\n      <th>10</th>\n      <td>./data/13.한국어글자체/04. Text in the wild_230209_a...</td>\n      <td>던져</td>\n      <td>단어</td>\n      <td>book</td>\n      <td>(583, 674, 786, 812)</td>\n    </tr>\n    <tr>\n      <th>11</th>\n      <td>./data/13.한국어글자체/04. Text in the wild_230209_a...</td>\n      <td>달을</td>\n      <td>단어</td>\n      <td>book</td>\n      <td>(473, 309, 611, 410)</td>\n    </tr>\n    <tr>\n      <th>12</th>\n      <td>./data/13.한국어글자체/04. Text in the wild_230209_a...</td>\n      <td>쫓다</td>\n      <td>단어</td>\n      <td>book</td>\n      <td>(614, 308, 759, 403)</td>\n    </tr>\n    <tr>\n      <th>13</th>\n      <td>./data/13.한국어글자체/04. Text in the wild_230209_a...</td>\n      <td>달이</td>\n      <td>단어</td>\n      <td>book</td>\n      <td>(760, 308, 894, 402)</td>\n    </tr>\n    <tr>\n      <th>14</th>\n      <td>./data/13.한국어글자체/04. Text in the wild_230209_a...</td>\n      <td>된</td>\n      <td>단어</td>\n      <td>book</td>\n      <td>(912, 311, 975, 405)</td>\n    </tr>\n    <tr>\n      <th>15</th>\n      <td>./data/13.한국어글자체/04. Text in the wild_230209_a...</td>\n      <td>사람</td>\n      <td>단어</td>\n      <td>book</td>\n      <td>(980, 307, 1129, 403)</td>\n    </tr>\n    <tr>\n      <th>16</th>\n      <td>./data/13.한국어글자체/04. Text in the wild_230209_a...</td>\n      <td>일급비밀</td>\n      <td>단어</td>\n      <td>book</td>\n      <td>(589, 721, 1066, 851)</td>\n    </tr>\n    <tr>\n      <th>17</th>\n      <td>./data/13.한국어글자체/04. Text in the wild_230209_a...</td>\n      <td>김선형</td>\n      <td>단어</td>\n      <td>book</td>\n      <td>(1046, 873, 1123, 903)</td>\n    </tr>\n    <tr>\n      <th>18</th>\n      <td>./data/13.한국어글자체/04. Text in the wild_230209_a...</td>\n      <td>옮김</td>\n      <td>단어</td>\n      <td>book</td>\n      <td>(1138, 873, 1189, 903)</td>\n    </tr>\n    <tr>\n      <th>19</th>\n      <td>./data/13.한국어글자체/04. Text in the wild_230209_a...</td>\n      <td>츠바이크</td>\n      <td>단어</td>\n      <td>book</td>\n      <td>(531, 654, 661, 690)</td>\n    </tr>\n    <tr>\n      <th>20</th>\n      <td>./data/13.한국어글자체/04. Text in the wild_230209_a...</td>\n      <td>슈테판</td>\n      <td>단어</td>\n      <td>book</td>\n      <td>(427, 654, 514, 690)</td>\n    </tr>\n    <tr>\n      <th>21</th>\n      <td>./data/13.한국어글자체/04. Text in the wild_230209_a...</td>\n      <td>북노마드</td>\n      <td>단어</td>\n      <td>book</td>\n      <td>(846, 241, 950, 291)</td>\n    </tr>\n    <tr>\n      <th>22</th>\n      <td>./data/13.한국어글자체/04. Text in the wild_230209_a...</td>\n      <td>나,</td>\n      <td>단어</td>\n      <td>book</td>\n      <td>(1315, 1451, 1408, 1513)</td>\n    </tr>\n    <tr>\n      <th>23</th>\n      <td>./data/13.한국어글자체/04. Text in the wild_230209_a...</td>\n      <td>그대</td>\n      <td>단어</td>\n      <td>book</td>\n      <td>(1139, 1459, 1269, 1515)</td>\n    </tr>\n    <tr>\n      <th>24</th>\n      <td>./data/13.한국어글자체/04. Text in the wild_230209_a...</td>\n      <td>사이에,</td>\n      <td>단어</td>\n      <td>book</td>\n      <td>(854, 1462, 1088, 1522)</td>\n    </tr>\n    <tr>\n      <th>25</th>\n      <td>./data/13.한국어글자체/04. Text in the wild_230209_a...</td>\n      <td>꽃이</td>\n      <td>단어</td>\n      <td>book</td>\n      <td>(678, 1468, 806, 1528)</td>\n    </tr>\n    <tr>\n      <th>26</th>\n      <td>./data/13.한국어글자체/04. Text in the wild_230209_a...</td>\n      <td>필</td>\n      <td>단어</td>\n      <td>book</td>\n      <td>(575, 1477, 625, 1530)</td>\n    </tr>\n    <tr>\n      <th>27</th>\n      <td>./data/13.한국어글자체/04. Text in the wild_230209_a...</td>\n      <td>때</td>\n      <td>단어</td>\n      <td>book</td>\n      <td>(472, 1478, 520, 1533)</td>\n    </tr>\n    <tr>\n      <th>28</th>\n      <td>./data/13.한국어글자체/04. Text in the wild_230209_a...</td>\n      <td>고마워요,</td>\n      <td>단어</td>\n      <td>book</td>\n      <td>(384, 327, 839, 470)</td>\n    </tr>\n    <tr>\n      <th>29</th>\n      <td>./data/13.한국어글자체/04. Text in the wild_230209_a...</td>\n      <td>엄마</td>\n      <td>단어</td>\n      <td>book</td>\n      <td>(854, 325, 1060, 462)</td>\n    </tr>\n  </tbody>\n</table>\n</div>"
     },
     "execution_count": 17,
     "metadata": {},
     "output_type": "execute_result"
    }
   ],
   "source": [
    "# 타입 선택\n",
    "\"\"\"\n",
    "'book', 'Goods', 'Signboard', 'Traffic_Sign', 'form', 'cursive' 중 하나\n",
    "\"\"\"\n",
    "# mysql.search_coord_by_type('book')\n",
    "mysql.search_coord_by_type('book', '단어')"
   ],
   "metadata": {
    "collapsed": false,
    "ExecuteTime": {
     "end_time": "2024-04-28T10:35:55.899387Z",
     "start_time": "2024-04-28T10:35:13.585483Z"
    }
   },
   "id": "ac04b66e23001659",
   "execution_count": 17
  },
  {
   "cell_type": "code",
   "outputs": [
    {
     "name": "stdout",
     "output_type": "stream",
     "text": [
      "AND T.CLASS = %s ('%한국어글자체%', 'book', '단어')\n"
     ]
    },
    {
     "data": {
      "text/plain": "                                           IMAGE_PATH   TEXT CLASS  TYPE  \\\n0   ./data/13.한국어글자체/04. Text in the wild_230209_a...    우리가    단어  book   \n1   ./data/13.한국어글자체/04. Text in the wild_230209_a...     보낸    단어  book   \n2   ./data/13.한국어글자체/04. Text in the wild_230209_a...     가장    단어  book   \n3   ./data/13.한국어글자체/04. Text in the wild_230209_a...      긴    단어  book   \n4   ./data/13.한국어글자체/04. Text in the wild_230209_a...      밤    단어  book   \n5   ./data/13.한국어글자체/04. Text in the wild_230209_a...    이석원    단어  book   \n6   ./data/13.한국어글자체/04. Text in the wild_230209_a...     산문    단어  book   \n7   ./data/13.한국어글자체/04. Text in the wild_230209_a...  이대호처럼    단어  book   \n8   ./data/13.한국어글자체/04. Text in the wild_230209_a...    치고,    단어  book   \n9   ./data/13.한국어글자체/04. Text in the wild_230209_a...  류현진처럼    단어  book   \n10  ./data/13.한국어글자체/04. Text in the wild_230209_a...     던져    단어  book   \n11  ./data/13.한국어글자체/04. Text in the wild_230209_a...     달을    단어  book   \n12  ./data/13.한국어글자체/04. Text in the wild_230209_a...     쫓다    단어  book   \n13  ./data/13.한국어글자체/04. Text in the wild_230209_a...     달이    단어  book   \n14  ./data/13.한국어글자체/04. Text in the wild_230209_a...      된    단어  book   \n15  ./data/13.한국어글자체/04. Text in the wild_230209_a...     사람    단어  book   \n16  ./data/13.한국어글자체/04. Text in the wild_230209_a...   일급비밀    단어  book   \n17  ./data/13.한국어글자체/04. Text in the wild_230209_a...    김선형    단어  book   \n18  ./data/13.한국어글자체/04. Text in the wild_230209_a...     옮김    단어  book   \n19  ./data/13.한국어글자체/04. Text in the wild_230209_a...   츠바이크    단어  book   \n20  ./data/13.한국어글자체/04. Text in the wild_230209_a...    슈테판    단어  book   \n21  ./data/13.한국어글자체/04. Text in the wild_230209_a...   북노마드    단어  book   \n22  ./data/13.한국어글자체/04. Text in the wild_230209_a...     나,    단어  book   \n23  ./data/13.한국어글자체/04. Text in the wild_230209_a...     그대    단어  book   \n24  ./data/13.한국어글자체/04. Text in the wild_230209_a...   사이에,    단어  book   \n25  ./data/13.한국어글자체/04. Text in the wild_230209_a...     꽃이    단어  book   \n26  ./data/13.한국어글자체/04. Text in the wild_230209_a...      필    단어  book   \n27  ./data/13.한국어글자체/04. Text in the wild_230209_a...      때    단어  book   \n28  ./data/13.한국어글자체/04. Text in the wild_230209_a...  고마워요,    단어  book   \n29  ./data/13.한국어글자체/04. Text in the wild_230209_a...     엄마    단어  book   \n\n                       COORD  \n0      (998, 499, 1240, 584)  \n1      (993, 594, 1156, 675)  \n2     (1165, 591, 1345, 678)  \n3      (990, 684, 1090, 771)  \n4     (1100, 684, 1195, 775)  \n5      (985, 822, 1225, 922)  \n6     (982, 927, 1161, 1020)  \n7       (459, 363, 854, 495)  \n8       (574, 467, 792, 580)  \n9       (507, 559, 907, 715)  \n10      (583, 674, 786, 812)  \n11      (473, 309, 611, 410)  \n12      (614, 308, 759, 403)  \n13      (760, 308, 894, 402)  \n14      (912, 311, 975, 405)  \n15     (980, 307, 1129, 403)  \n16     (589, 721, 1066, 851)  \n17    (1046, 873, 1123, 903)  \n18    (1138, 873, 1189, 903)  \n19      (531, 654, 661, 690)  \n20      (427, 654, 514, 690)  \n21      (846, 241, 950, 291)  \n22  (1315, 1451, 1408, 1513)  \n23  (1139, 1459, 1269, 1515)  \n24   (854, 1462, 1088, 1522)  \n25    (678, 1468, 806, 1528)  \n26    (575, 1477, 625, 1530)  \n27    (472, 1478, 520, 1533)  \n28      (384, 327, 839, 470)  \n29     (854, 325, 1060, 462)  ",
      "text/html": "<div>\n<style scoped>\n    .dataframe tbody tr th:only-of-type {\n        vertical-align: middle;\n    }\n\n    .dataframe tbody tr th {\n        vertical-align: top;\n    }\n\n    .dataframe thead th {\n        text-align: right;\n    }\n</style>\n<table border=\"1\" class=\"dataframe\">\n  <thead>\n    <tr style=\"text-align: right;\">\n      <th></th>\n      <th>IMAGE_PATH</th>\n      <th>TEXT</th>\n      <th>CLASS</th>\n      <th>TYPE</th>\n      <th>COORD</th>\n    </tr>\n  </thead>\n  <tbody>\n    <tr>\n      <th>0</th>\n      <td>./data/13.한국어글자체/04. Text in the wild_230209_a...</td>\n      <td>우리가</td>\n      <td>단어</td>\n      <td>book</td>\n      <td>(998, 499, 1240, 584)</td>\n    </tr>\n    <tr>\n      <th>1</th>\n      <td>./data/13.한국어글자체/04. Text in the wild_230209_a...</td>\n      <td>보낸</td>\n      <td>단어</td>\n      <td>book</td>\n      <td>(993, 594, 1156, 675)</td>\n    </tr>\n    <tr>\n      <th>2</th>\n      <td>./data/13.한국어글자체/04. Text in the wild_230209_a...</td>\n      <td>가장</td>\n      <td>단어</td>\n      <td>book</td>\n      <td>(1165, 591, 1345, 678)</td>\n    </tr>\n    <tr>\n      <th>3</th>\n      <td>./data/13.한국어글자체/04. Text in the wild_230209_a...</td>\n      <td>긴</td>\n      <td>단어</td>\n      <td>book</td>\n      <td>(990, 684, 1090, 771)</td>\n    </tr>\n    <tr>\n      <th>4</th>\n      <td>./data/13.한국어글자체/04. Text in the wild_230209_a...</td>\n      <td>밤</td>\n      <td>단어</td>\n      <td>book</td>\n      <td>(1100, 684, 1195, 775)</td>\n    </tr>\n    <tr>\n      <th>5</th>\n      <td>./data/13.한국어글자체/04. Text in the wild_230209_a...</td>\n      <td>이석원</td>\n      <td>단어</td>\n      <td>book</td>\n      <td>(985, 822, 1225, 922)</td>\n    </tr>\n    <tr>\n      <th>6</th>\n      <td>./data/13.한국어글자체/04. Text in the wild_230209_a...</td>\n      <td>산문</td>\n      <td>단어</td>\n      <td>book</td>\n      <td>(982, 927, 1161, 1020)</td>\n    </tr>\n    <tr>\n      <th>7</th>\n      <td>./data/13.한국어글자체/04. Text in the wild_230209_a...</td>\n      <td>이대호처럼</td>\n      <td>단어</td>\n      <td>book</td>\n      <td>(459, 363, 854, 495)</td>\n    </tr>\n    <tr>\n      <th>8</th>\n      <td>./data/13.한국어글자체/04. Text in the wild_230209_a...</td>\n      <td>치고,</td>\n      <td>단어</td>\n      <td>book</td>\n      <td>(574, 467, 792, 580)</td>\n    </tr>\n    <tr>\n      <th>9</th>\n      <td>./data/13.한국어글자체/04. Text in the wild_230209_a...</td>\n      <td>류현진처럼</td>\n      <td>단어</td>\n      <td>book</td>\n      <td>(507, 559, 907, 715)</td>\n    </tr>\n    <tr>\n      <th>10</th>\n      <td>./data/13.한국어글자체/04. Text in the wild_230209_a...</td>\n      <td>던져</td>\n      <td>단어</td>\n      <td>book</td>\n      <td>(583, 674, 786, 812)</td>\n    </tr>\n    <tr>\n      <th>11</th>\n      <td>./data/13.한국어글자체/04. Text in the wild_230209_a...</td>\n      <td>달을</td>\n      <td>단어</td>\n      <td>book</td>\n      <td>(473, 309, 611, 410)</td>\n    </tr>\n    <tr>\n      <th>12</th>\n      <td>./data/13.한국어글자체/04. Text in the wild_230209_a...</td>\n      <td>쫓다</td>\n      <td>단어</td>\n      <td>book</td>\n      <td>(614, 308, 759, 403)</td>\n    </tr>\n    <tr>\n      <th>13</th>\n      <td>./data/13.한국어글자체/04. Text in the wild_230209_a...</td>\n      <td>달이</td>\n      <td>단어</td>\n      <td>book</td>\n      <td>(760, 308, 894, 402)</td>\n    </tr>\n    <tr>\n      <th>14</th>\n      <td>./data/13.한국어글자체/04. Text in the wild_230209_a...</td>\n      <td>된</td>\n      <td>단어</td>\n      <td>book</td>\n      <td>(912, 311, 975, 405)</td>\n    </tr>\n    <tr>\n      <th>15</th>\n      <td>./data/13.한국어글자체/04. Text in the wild_230209_a...</td>\n      <td>사람</td>\n      <td>단어</td>\n      <td>book</td>\n      <td>(980, 307, 1129, 403)</td>\n    </tr>\n    <tr>\n      <th>16</th>\n      <td>./data/13.한국어글자체/04. Text in the wild_230209_a...</td>\n      <td>일급비밀</td>\n      <td>단어</td>\n      <td>book</td>\n      <td>(589, 721, 1066, 851)</td>\n    </tr>\n    <tr>\n      <th>17</th>\n      <td>./data/13.한국어글자체/04. Text in the wild_230209_a...</td>\n      <td>김선형</td>\n      <td>단어</td>\n      <td>book</td>\n      <td>(1046, 873, 1123, 903)</td>\n    </tr>\n    <tr>\n      <th>18</th>\n      <td>./data/13.한국어글자체/04. Text in the wild_230209_a...</td>\n      <td>옮김</td>\n      <td>단어</td>\n      <td>book</td>\n      <td>(1138, 873, 1189, 903)</td>\n    </tr>\n    <tr>\n      <th>19</th>\n      <td>./data/13.한국어글자체/04. Text in the wild_230209_a...</td>\n      <td>츠바이크</td>\n      <td>단어</td>\n      <td>book</td>\n      <td>(531, 654, 661, 690)</td>\n    </tr>\n    <tr>\n      <th>20</th>\n      <td>./data/13.한국어글자체/04. Text in the wild_230209_a...</td>\n      <td>슈테판</td>\n      <td>단어</td>\n      <td>book</td>\n      <td>(427, 654, 514, 690)</td>\n    </tr>\n    <tr>\n      <th>21</th>\n      <td>./data/13.한국어글자체/04. Text in the wild_230209_a...</td>\n      <td>북노마드</td>\n      <td>단어</td>\n      <td>book</td>\n      <td>(846, 241, 950, 291)</td>\n    </tr>\n    <tr>\n      <th>22</th>\n      <td>./data/13.한국어글자체/04. Text in the wild_230209_a...</td>\n      <td>나,</td>\n      <td>단어</td>\n      <td>book</td>\n      <td>(1315, 1451, 1408, 1513)</td>\n    </tr>\n    <tr>\n      <th>23</th>\n      <td>./data/13.한국어글자체/04. Text in the wild_230209_a...</td>\n      <td>그대</td>\n      <td>단어</td>\n      <td>book</td>\n      <td>(1139, 1459, 1269, 1515)</td>\n    </tr>\n    <tr>\n      <th>24</th>\n      <td>./data/13.한국어글자체/04. Text in the wild_230209_a...</td>\n      <td>사이에,</td>\n      <td>단어</td>\n      <td>book</td>\n      <td>(854, 1462, 1088, 1522)</td>\n    </tr>\n    <tr>\n      <th>25</th>\n      <td>./data/13.한국어글자체/04. Text in the wild_230209_a...</td>\n      <td>꽃이</td>\n      <td>단어</td>\n      <td>book</td>\n      <td>(678, 1468, 806, 1528)</td>\n    </tr>\n    <tr>\n      <th>26</th>\n      <td>./data/13.한국어글자체/04. Text in the wild_230209_a...</td>\n      <td>필</td>\n      <td>단어</td>\n      <td>book</td>\n      <td>(575, 1477, 625, 1530)</td>\n    </tr>\n    <tr>\n      <th>27</th>\n      <td>./data/13.한국어글자체/04. Text in the wild_230209_a...</td>\n      <td>때</td>\n      <td>단어</td>\n      <td>book</td>\n      <td>(472, 1478, 520, 1533)</td>\n    </tr>\n    <tr>\n      <th>28</th>\n      <td>./data/13.한국어글자체/04. Text in the wild_230209_a...</td>\n      <td>고마워요,</td>\n      <td>단어</td>\n      <td>book</td>\n      <td>(384, 327, 839, 470)</td>\n    </tr>\n    <tr>\n      <th>29</th>\n      <td>./data/13.한국어글자체/04. Text in the wild_230209_a...</td>\n      <td>엄마</td>\n      <td>단어</td>\n      <td>book</td>\n      <td>(854, 325, 1060, 462)</td>\n    </tr>\n  </tbody>\n</table>\n</div>"
     },
     "execution_count": 18,
     "metadata": {},
     "output_type": "execute_result"
    }
   ],
   "source": [
    "# 경로 검색, 타입 선택\n",
    "# mysql.search_coord_by_path_and_type('한국어글자체', 'book')\n",
    "mysql.search_coord_by_path_and_type('한국어글자체', 'book', '단어')"
   ],
   "metadata": {
    "collapsed": false,
    "ExecuteTime": {
     "end_time": "2024-04-28T10:36:44.903582Z",
     "start_time": "2024-04-28T10:35:55.900388Z"
    }
   },
   "id": "46a4850c6f075aa3",
   "execution_count": 18
  }
 ],
 "metadata": {
  "kernelspec": {
   "display_name": "Python 3",
   "language": "python",
   "name": "python3"
  },
  "language_info": {
   "codemirror_mode": {
    "name": "ipython",
    "version": 2
   },
   "file_extension": ".py",
   "mimetype": "text/x-python",
   "name": "python",
   "nbconvert_exporter": "python",
   "pygments_lexer": "ipython2",
   "version": "2.7.6"
  }
 },
 "nbformat": 4,
 "nbformat_minor": 5
}
