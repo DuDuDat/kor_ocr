{
 "cells": [
  {
   "cell_type": "markdown",
   "source": [
    "\n",
    "# 데이터셋 확인\n",
    "[데이터 출처 확인 링크](https://dududat.github.io/project/003-%ED%95%9C%EA%B8%80OCR/)\n",
    "\n",
    "<br />\n",
    "\n",
    "페이지 맨 하단 데이터 출처에 나와있는 데이터셋은 전부 RDS 에 저장되어 있습니다. 글자색이 검은색이지만 링크 걸어놓은 것이니 참고하시면 될 거 같습니다.\n"
   ],
   "metadata": {
    "collapsed": false
   },
   "id": "c3d800e67a0c8ccc"
  },
  {
   "cell_type": "code",
   "outputs": [],
   "source": [
    "import common_db as db\n",
    "\n",
    "%load_ext autoreload\n",
    "%autoreload 2\n",
    "\n",
    "# 경로에 root_dir 가 자동으로 추가됩니다.\n",
    "root_dir = './data/' # 데이터가 들어가 있는 경로"
   ],
   "metadata": {
    "collapsed": false,
    "ExecuteTime": {
     "end_time": "2024-04-28T10:45:47.499637Z",
     "start_time": "2024-04-28T10:45:47.061590Z"
    }
   },
   "id": "67bb244356906edb",
   "execution_count": 1
  },
  {
   "cell_type": "markdown",
   "source": [
    "# 클래스 객체 기본 설정\n",
    "데이터가 너무 많아 메모리 에러가 발생하는 경우가 있어 개수 설정하시고 사용하시면 됩니다.\n",
    "기본 30만개로 설정해두었으며 500만개까지는 큰 무리없이 데이터를 가져오지만 1000만 단위가 넘어가면 에러가 발생합니다. 이는 툴 세팅 문제이거나 컴퓨터 성능 문제일 수도 있습니다."
   ],
   "metadata": {
    "collapsed": false
   },
   "id": "f2fe77296115b5e0"
  },
  {
   "cell_type": "code",
   "outputs": [],
   "source": [
    "\"\"\" zip 폴더가 압축을 해제한 폴더일 경우 폴더 이름에 .zip을 반드시 붙여 주세요 \"\"\"\n",
    "# mysql = db.DataSelector(root_dir) # 기본 30만개 가져오기\n",
    "# mysql = db.DataSelector(root_dir, 30) # 30개만 가져오기\n",
    "\n",
    "\"\"\" zip 폴더가 압축폴더일 경우 ZIP_PATH 와 IMAGE_PATH 가 나뉘어 출력 \"\"\"\n",
    "# mysql = db.DataSelector(root_dir, is_zip=True) # 기본 30만개 가져오기\n",
    "# mysql = db.DataSelector(root_dir, 300, is_zip=True) # 300개만 가져오기\n",
    "\n",
    "mysql = db.DataSelector(root_dir, 5)"
   ],
   "metadata": {
    "collapsed": false,
    "ExecuteTime": {
     "end_time": "2024-04-28T10:45:47.545687Z",
     "start_time": "2024-04-28T10:45:47.500637Z"
    }
   },
   "id": "4d52cc7c9a6f6902",
   "execution_count": 2
  },
  {
   "cell_type": "markdown",
   "source": [
    "# zip 폴더까지의 경로 확인\n",
    "\n",
    "<br />\n",
    "\n",
    "ZIP_PATH는 ZIP 폴더까지의 경로입니다 몇 개 안되니깐 직접 확인하시고 경로 맞추시면 될 거 같습니다.\n",
    "\n",
    "<br />\n",
    "\n",
    "AI HUB는 전체 다운로드 기준이고 데이콘에서 설치했던 데이터는 이름이 전부 open.zip이라 2023 교원그룹 AI OCR 챌린지.zip과 SW 중심대학 공동 AI 경진대회.zip 으로 수정했습니다. 그 외엔 이름이나 경로를 수정한 것이 없습니다.\n",
    "\n",
    "압축 해제시 폴더이름에 반드시 .zip을 붙여주세요 "
   ],
   "metadata": {
    "collapsed": false
   },
   "id": "6164a7aa597654d6"
  },
  {
   "cell_type": "code",
   "outputs": [
    {
     "data": {
      "text/plain": "                                             ZIP_PATH         KIND\n0   13.한국어글자체/01.손글씨/01_handwriting_sentence_image...          필기체\n1   13.한국어글자체/01.손글씨/01_handwriting_syllable_image...          필기체\n2     13.한국어글자체/01.손글씨/01_handwriting_word_images.zip          필기체\n3   13.한국어글자체/01.손글씨/02_handwriting_sentence_image...          필기체\n4   13.한국어글자체/01.손글씨/02_handwriting_syllable_image...          필기체\n5   13.한국어글자체/02.인쇄체_230721_add/01_printed_sentenc...          인쇄체\n6   13.한국어글자체/02.인쇄체_230721_add/01_printed_syllabl...          인쇄체\n7   13.한국어글자체/02.인쇄체_230721_add/01_printed_word_im...          인쇄체\n8       13.한국어글자체/03.인쇄체 증강데이터/augmentation_data1.zip      인쇄체(증강)\n9      13.한국어글자체/03.인쇄체 증강데이터/augmentation_data10.zip      인쇄체(증강)\n10     13.한국어글자체/03.인쇄체 증강데이터/augmentation_data11.zip      인쇄체(증강)\n11     13.한국어글자체/03.인쇄체 증강데이터/augmentation_data12.zip      인쇄체(증강)\n12      13.한국어글자체/03.인쇄체 증강데이터/augmentation_data2.zip      인쇄체(증강)\n13      13.한국어글자체/03.인쇄체 증강데이터/augmentation_data3.zip      인쇄체(증강)\n14      13.한국어글자체/03.인쇄체 증강데이터/augmentation_data4.zip      인쇄체(증강)\n15      13.한국어글자체/03.인쇄체 증강데이터/augmentation_data5.zip      인쇄체(증강)\n16      13.한국어글자체/03.인쇄체 증강데이터/augmentation_data6.zip      인쇄체(증강)\n17      13.한국어글자체/03.인쇄체 증강데이터/augmentation_data7.zip      인쇄체(증강)\n18      13.한국어글자체/03.인쇄체 증강데이터/augmentation_data8.zip      인쇄체(증강)\n19      13.한국어글자체/03.인쇄체 증강데이터/augmentation_data9.zip      인쇄체(증강)\n20  13.한국어글자체/04. Text in the wild_230209_add/01_t...  인쇄체(다양한 형태)\n21  13.한국어글자체/04. Text in the wild_230209_add/01_t...  인쇄체(다양한 형태)\n22  13.한국어글자체/04. Text in the wild_230209_add/01_t...  인쇄체(다양한 형태)\n23  13.한국어글자체/04. Text in the wild_230209_add/01_t...  인쇄체(다양한 형태)\n24                           2023 교원그룹 AI OCR 챌린지.zip          필기체\n25                             SW 중심대학 공동 AI 경진대회.zip      인쇄체(간판)\n26    다양한 형태의 한글 문자 OCR/Training/[원천]Training_인쇄체.zip  인쇄체(다양한 형태)\n27    다양한 형태의 한글 문자 OCR/Training/[원천]Training_필기체.zip          필기체",
      "text/html": "<div>\n<style scoped>\n    .dataframe tbody tr th:only-of-type {\n        vertical-align: middle;\n    }\n\n    .dataframe tbody tr th {\n        vertical-align: top;\n    }\n\n    .dataframe thead th {\n        text-align: right;\n    }\n</style>\n<table border=\"1\" class=\"dataframe\">\n  <thead>\n    <tr style=\"text-align: right;\">\n      <th></th>\n      <th>ZIP_PATH</th>\n      <th>KIND</th>\n    </tr>\n  </thead>\n  <tbody>\n    <tr>\n      <th>0</th>\n      <td>13.한국어글자체/01.손글씨/01_handwriting_sentence_image...</td>\n      <td>필기체</td>\n    </tr>\n    <tr>\n      <th>1</th>\n      <td>13.한국어글자체/01.손글씨/01_handwriting_syllable_image...</td>\n      <td>필기체</td>\n    </tr>\n    <tr>\n      <th>2</th>\n      <td>13.한국어글자체/01.손글씨/01_handwriting_word_images.zip</td>\n      <td>필기체</td>\n    </tr>\n    <tr>\n      <th>3</th>\n      <td>13.한국어글자체/01.손글씨/02_handwriting_sentence_image...</td>\n      <td>필기체</td>\n    </tr>\n    <tr>\n      <th>4</th>\n      <td>13.한국어글자체/01.손글씨/02_handwriting_syllable_image...</td>\n      <td>필기체</td>\n    </tr>\n    <tr>\n      <th>5</th>\n      <td>13.한국어글자체/02.인쇄체_230721_add/01_printed_sentenc...</td>\n      <td>인쇄체</td>\n    </tr>\n    <tr>\n      <th>6</th>\n      <td>13.한국어글자체/02.인쇄체_230721_add/01_printed_syllabl...</td>\n      <td>인쇄체</td>\n    </tr>\n    <tr>\n      <th>7</th>\n      <td>13.한국어글자체/02.인쇄체_230721_add/01_printed_word_im...</td>\n      <td>인쇄체</td>\n    </tr>\n    <tr>\n      <th>8</th>\n      <td>13.한국어글자체/03.인쇄체 증강데이터/augmentation_data1.zip</td>\n      <td>인쇄체(증강)</td>\n    </tr>\n    <tr>\n      <th>9</th>\n      <td>13.한국어글자체/03.인쇄체 증강데이터/augmentation_data10.zip</td>\n      <td>인쇄체(증강)</td>\n    </tr>\n    <tr>\n      <th>10</th>\n      <td>13.한국어글자체/03.인쇄체 증강데이터/augmentation_data11.zip</td>\n      <td>인쇄체(증강)</td>\n    </tr>\n    <tr>\n      <th>11</th>\n      <td>13.한국어글자체/03.인쇄체 증강데이터/augmentation_data12.zip</td>\n      <td>인쇄체(증강)</td>\n    </tr>\n    <tr>\n      <th>12</th>\n      <td>13.한국어글자체/03.인쇄체 증강데이터/augmentation_data2.zip</td>\n      <td>인쇄체(증강)</td>\n    </tr>\n    <tr>\n      <th>13</th>\n      <td>13.한국어글자체/03.인쇄체 증강데이터/augmentation_data3.zip</td>\n      <td>인쇄체(증강)</td>\n    </tr>\n    <tr>\n      <th>14</th>\n      <td>13.한국어글자체/03.인쇄체 증강데이터/augmentation_data4.zip</td>\n      <td>인쇄체(증강)</td>\n    </tr>\n    <tr>\n      <th>15</th>\n      <td>13.한국어글자체/03.인쇄체 증강데이터/augmentation_data5.zip</td>\n      <td>인쇄체(증강)</td>\n    </tr>\n    <tr>\n      <th>16</th>\n      <td>13.한국어글자체/03.인쇄체 증강데이터/augmentation_data6.zip</td>\n      <td>인쇄체(증강)</td>\n    </tr>\n    <tr>\n      <th>17</th>\n      <td>13.한국어글자체/03.인쇄체 증강데이터/augmentation_data7.zip</td>\n      <td>인쇄체(증강)</td>\n    </tr>\n    <tr>\n      <th>18</th>\n      <td>13.한국어글자체/03.인쇄체 증강데이터/augmentation_data8.zip</td>\n      <td>인쇄체(증강)</td>\n    </tr>\n    <tr>\n      <th>19</th>\n      <td>13.한국어글자체/03.인쇄체 증강데이터/augmentation_data9.zip</td>\n      <td>인쇄체(증강)</td>\n    </tr>\n    <tr>\n      <th>20</th>\n      <td>13.한국어글자체/04. Text in the wild_230209_add/01_t...</td>\n      <td>인쇄체(다양한 형태)</td>\n    </tr>\n    <tr>\n      <th>21</th>\n      <td>13.한국어글자체/04. Text in the wild_230209_add/01_t...</td>\n      <td>인쇄체(다양한 형태)</td>\n    </tr>\n    <tr>\n      <th>22</th>\n      <td>13.한국어글자체/04. Text in the wild_230209_add/01_t...</td>\n      <td>인쇄체(다양한 형태)</td>\n    </tr>\n    <tr>\n      <th>23</th>\n      <td>13.한국어글자체/04. Text in the wild_230209_add/01_t...</td>\n      <td>인쇄체(다양한 형태)</td>\n    </tr>\n    <tr>\n      <th>24</th>\n      <td>2023 교원그룹 AI OCR 챌린지.zip</td>\n      <td>필기체</td>\n    </tr>\n    <tr>\n      <th>25</th>\n      <td>SW 중심대학 공동 AI 경진대회.zip</td>\n      <td>인쇄체(간판)</td>\n    </tr>\n    <tr>\n      <th>26</th>\n      <td>다양한 형태의 한글 문자 OCR/Training/[원천]Training_인쇄체.zip</td>\n      <td>인쇄체(다양한 형태)</td>\n    </tr>\n    <tr>\n      <th>27</th>\n      <td>다양한 형태의 한글 문자 OCR/Training/[원천]Training_필기체.zip</td>\n      <td>필기체</td>\n    </tr>\n  </tbody>\n</table>\n</div>"
     },
     "execution_count": 3,
     "metadata": {},
     "output_type": "execute_result"
    }
   ],
   "source": [
    "# zip 폴더까지의 경로 확인\n",
    "mysql.to_check_zip_path()"
   ],
   "metadata": {
    "collapsed": false,
    "ExecuteTime": {
     "end_time": "2024-04-28T10:45:47.700623Z",
     "start_time": "2024-04-28T10:45:47.546706Z"
    }
   },
   "id": "aee069569da38b2d",
   "execution_count": 3
  },
  {
   "cell_type": "markdown",
   "source": [
    "# unique 값 확인\n",
    "좌표 있는 테이블은 데이터량이 많아 다소 시간이 걸립니다.\n",
    "<br/>\n",
    "\n",
    "KIND \n",
    "좌표 없는 테이블 : '필기체', '인쇄체', '인쇄체(증강)', '인쇄체(간판)'\n",
    "좌표 있는 테이블 : '인쇄체(다양한 형태)', '필기체'\n",
    "\n",
    "CLASS\n",
    "좌표 없는 테이블 : '단어', '문자', '문장'\n",
    "좌표 있는 테이블 : '단어', '문자'\n",
    "\n",
    "TYPE\n",
    "좌표 있는 테이블 : 'book', 'Goods', 'Signboard', 'Traffic_Sign', 'form', 'cursive'"
   ],
   "metadata": {
    "collapsed": false
   },
   "id": "b1fcf2ea63c8f2cc"
  },
  {
   "cell_type": "code",
   "outputs": [
    {
     "data": {
      "text/plain": "[{'KIND': '인쇄체(다양한 형태)'}, {'KIND': '필기체'}]"
     },
     "execution_count": 4,
     "metadata": {},
     "output_type": "execute_result"
    }
   ],
   "source": [
    "# KIND 확인\n",
    "# mysql.to_check_kind_unique('BASIC_INFO') # 좌표 없는 테이블\n",
    "mysql.to_check_kind_unique('COORD_TEXT_INFO') # 좌표 있는 테이블"
   ],
   "metadata": {
    "collapsed": false,
    "ExecuteTime": {
     "end_time": "2024-04-28T10:46:41.779651Z",
     "start_time": "2024-04-28T10:45:47.702127Z"
    }
   },
   "id": "f0b3c4ace2da79bd",
   "execution_count": 4
  },
  {
   "cell_type": "code",
   "outputs": [
    {
     "data": {
      "text/plain": "[{'CLASS': '단어'}, {'CLASS': '문자'}]"
     },
     "execution_count": 5,
     "metadata": {},
     "output_type": "execute_result"
    }
   ],
   "source": [
    "# 클래스 확인\n",
    "# mysql.to_check_unique('BASIC_INFO') # 좌표 없는 테이블\n",
    "mysql.to_check_unique('COORD_TEXT_INFO') # 좌표 있는 테이블"
   ],
   "metadata": {
    "collapsed": false,
    "ExecuteTime": {
     "end_time": "2024-04-28T10:48:43.496935Z",
     "start_time": "2024-04-28T10:46:41.781651Z"
    }
   },
   "id": "9e79476ac4f24b3",
   "execution_count": 5
  },
  {
   "cell_type": "code",
   "outputs": [
    {
     "data": {
      "text/plain": "[{'TYPE': 'book'},\n {'TYPE': 'Goods'},\n {'TYPE': 'Signboard'},\n {'TYPE': 'Traffic_Sign'},\n {'TYPE': 'form'},\n {'TYPE': 'cursive'}]"
     },
     "execution_count": 6,
     "metadata": {},
     "output_type": "execute_result"
    }
   ],
   "source": [
    "# 타입 확인 좌표 없는 테이블 한정\n",
    "mysql.to_check_unique(what='TYPE')"
   ],
   "metadata": {
    "collapsed": false,
    "ExecuteTime": {
     "end_time": "2024-04-28T10:48:44.098069Z",
     "start_time": "2024-04-28T10:48:43.497935Z"
    }
   },
   "id": "d46cadbb93c0a49d",
   "execution_count": 6
  },
  {
   "cell_type": "markdown",
   "source": [
    "# 좌표 없는 데이터 선택"
   ],
   "metadata": {
    "collapsed": false
   },
   "id": "4d9c2ce9ab3b25ba"
  },
  {
   "cell_type": "code",
   "outputs": [
    {
     "data": {
      "text/plain": "                                          IMAGE_PATH  \\\n0  ./data/13.한국어글자체/01.손글씨/01_handwriting_sentenc...   \n1  ./data/13.한국어글자체/01.손글씨/01_handwriting_sentenc...   \n2  ./data/13.한국어글자체/01.손글씨/01_handwriting_sentenc...   \n3  ./data/13.한국어글자체/01.손글씨/01_handwriting_sentenc...   \n4  ./data/13.한국어글자체/01.손글씨/01_handwriting_sentenc...   \n\n                                     TEXT CLASS  \n0   대변인을 맡아 투쟁을 이끌었다. 김 위원장은 7일 내일신문과 통화에    문장  \n1                              기상정보였습니다.\"    문장  \n2     과실의 경중과 평가 결과에 미친 영향을 고려해 평가결과와 성과급    문장  \n3  지급률 수정 등 적절한 조치를 취하라\"고 통보하고, 수공 사장에게 \"    문장  \n4                       줬다. 대구 최세호 장병호 기자    문장  ",
      "text/html": "<div>\n<style scoped>\n    .dataframe tbody tr th:only-of-type {\n        vertical-align: middle;\n    }\n\n    .dataframe tbody tr th {\n        vertical-align: top;\n    }\n\n    .dataframe thead th {\n        text-align: right;\n    }\n</style>\n<table border=\"1\" class=\"dataframe\">\n  <thead>\n    <tr style=\"text-align: right;\">\n      <th></th>\n      <th>IMAGE_PATH</th>\n      <th>TEXT</th>\n      <th>CLASS</th>\n    </tr>\n  </thead>\n  <tbody>\n    <tr>\n      <th>0</th>\n      <td>./data/13.한국어글자체/01.손글씨/01_handwriting_sentenc...</td>\n      <td>대변인을 맡아 투쟁을 이끌었다. 김 위원장은 7일 내일신문과 통화에</td>\n      <td>문장</td>\n    </tr>\n    <tr>\n      <th>1</th>\n      <td>./data/13.한국어글자체/01.손글씨/01_handwriting_sentenc...</td>\n      <td>기상정보였습니다.\"</td>\n      <td>문장</td>\n    </tr>\n    <tr>\n      <th>2</th>\n      <td>./data/13.한국어글자체/01.손글씨/01_handwriting_sentenc...</td>\n      <td>과실의 경중과 평가 결과에 미친 영향을 고려해 평가결과와 성과급</td>\n      <td>문장</td>\n    </tr>\n    <tr>\n      <th>3</th>\n      <td>./data/13.한국어글자체/01.손글씨/01_handwriting_sentenc...</td>\n      <td>지급률 수정 등 적절한 조치를 취하라\"고 통보하고, 수공 사장에게 \"</td>\n      <td>문장</td>\n    </tr>\n    <tr>\n      <th>4</th>\n      <td>./data/13.한국어글자체/01.손글씨/01_handwriting_sentenc...</td>\n      <td>줬다. 대구 최세호 장병호 기자</td>\n      <td>문장</td>\n    </tr>\n  </tbody>\n</table>\n</div>"
     },
     "execution_count": 7,
     "metadata": {},
     "output_type": "execute_result"
    }
   ],
   "source": [
    "# 이미지 종류 고르기\n",
    "\"\"\" '필기체', '인쇄체', '인쇄체(증강)' '인쇄체(간판)' 중 하나 고르기 \"\"\"\n",
    "mysql.search_basic_by_kind('필기체')\n",
    "# mysql.search_basic_by_kind('필기체', '단어') # '문장', '단어', '문자' 중 하나 선택 가능"
   ],
   "metadata": {
    "collapsed": false,
    "ExecuteTime": {
     "end_time": "2024-04-28T10:48:44.237275Z",
     "start_time": "2024-04-28T10:48:44.099069Z"
    }
   },
   "id": "88ac624b9788b7c8",
   "execution_count": 7
  },
  {
   "cell_type": "code",
   "outputs": [
    {
     "data": {
      "text/plain": "                                          IMAGE_PATH TEXT CLASS\n0  ./data/다양한 형태의 한글 문자 OCR/Training/[원천]Training...    가    문자\n1  ./data/다양한 형태의 한글 문자 OCR/Training/[원천]Training...    각    문자\n2  ./data/다양한 형태의 한글 문자 OCR/Training/[원천]Training...    간    문자\n3  ./data/다양한 형태의 한글 문자 OCR/Training/[원천]Training...    갇    문자\n4  ./data/다양한 형태의 한글 문자 OCR/Training/[원천]Training...    갈    문자",
      "text/html": "<div>\n<style scoped>\n    .dataframe tbody tr th:only-of-type {\n        vertical-align: middle;\n    }\n\n    .dataframe tbody tr th {\n        vertical-align: top;\n    }\n\n    .dataframe thead th {\n        text-align: right;\n    }\n</style>\n<table border=\"1\" class=\"dataframe\">\n  <thead>\n    <tr style=\"text-align: right;\">\n      <th></th>\n      <th>IMAGE_PATH</th>\n      <th>TEXT</th>\n      <th>CLASS</th>\n    </tr>\n  </thead>\n  <tbody>\n    <tr>\n      <th>0</th>\n      <td>./data/다양한 형태의 한글 문자 OCR/Training/[원천]Training...</td>\n      <td>가</td>\n      <td>문자</td>\n    </tr>\n    <tr>\n      <th>1</th>\n      <td>./data/다양한 형태의 한글 문자 OCR/Training/[원천]Training...</td>\n      <td>각</td>\n      <td>문자</td>\n    </tr>\n    <tr>\n      <th>2</th>\n      <td>./data/다양한 형태의 한글 문자 OCR/Training/[원천]Training...</td>\n      <td>간</td>\n      <td>문자</td>\n    </tr>\n    <tr>\n      <th>3</th>\n      <td>./data/다양한 형태의 한글 문자 OCR/Training/[원천]Training...</td>\n      <td>갇</td>\n      <td>문자</td>\n    </tr>\n    <tr>\n      <th>4</th>\n      <td>./data/다양한 형태의 한글 문자 OCR/Training/[원천]Training...</td>\n      <td>갈</td>\n      <td>문자</td>\n    </tr>\n  </tbody>\n</table>\n</div>"
     },
     "execution_count": 8,
     "metadata": {},
     "output_type": "execute_result"
    }
   ],
   "source": [
    "# 경로 검색\n",
    "\"\"\"\n",
    "zip 폴더 내부 경로 검색은 너무 느려서 zip 폴더까지의 경로만 검색 가능하도록 했습니다.\n",
    "zip 폴더 까지의 경로에 포함되는 단어 검색입니다\n",
    "\"\"\"\n",
    "mysql.search_basic_by_path('Training')\n",
    "# mysql.search_basic_by_path('Training', '문자') # '문장', '단어', '문자' 중 하나 선택 가능"
   ],
   "metadata": {
    "collapsed": false,
    "ExecuteTime": {
     "end_time": "2024-04-28T10:48:44.771878Z",
     "start_time": "2024-04-28T10:48:44.238779Z"
    }
   },
   "id": "d3fe60eacba383d5",
   "execution_count": 8
  },
  {
   "cell_type": "code",
   "outputs": [
    {
     "data": {
      "text/plain": "                                          IMAGE_PATH TEXT CLASS\n0  ./data/다양한 형태의 한글 문자 OCR/Training/[원천]Training...    가    문자\n1  ./data/다양한 형태의 한글 문자 OCR/Training/[원천]Training...    각    문자\n2  ./data/다양한 형태의 한글 문자 OCR/Training/[원천]Training...    간    문자\n3  ./data/다양한 형태의 한글 문자 OCR/Training/[원천]Training...    갇    문자\n4  ./data/다양한 형태의 한글 문자 OCR/Training/[원천]Training...    갈    문자",
      "text/html": "<div>\n<style scoped>\n    .dataframe tbody tr th:only-of-type {\n        vertical-align: middle;\n    }\n\n    .dataframe tbody tr th {\n        vertical-align: top;\n    }\n\n    .dataframe thead th {\n        text-align: right;\n    }\n</style>\n<table border=\"1\" class=\"dataframe\">\n  <thead>\n    <tr style=\"text-align: right;\">\n      <th></th>\n      <th>IMAGE_PATH</th>\n      <th>TEXT</th>\n      <th>CLASS</th>\n    </tr>\n  </thead>\n  <tbody>\n    <tr>\n      <th>0</th>\n      <td>./data/다양한 형태의 한글 문자 OCR/Training/[원천]Training...</td>\n      <td>가</td>\n      <td>문자</td>\n    </tr>\n    <tr>\n      <th>1</th>\n      <td>./data/다양한 형태의 한글 문자 OCR/Training/[원천]Training...</td>\n      <td>각</td>\n      <td>문자</td>\n    </tr>\n    <tr>\n      <th>2</th>\n      <td>./data/다양한 형태의 한글 문자 OCR/Training/[원천]Training...</td>\n      <td>간</td>\n      <td>문자</td>\n    </tr>\n    <tr>\n      <th>3</th>\n      <td>./data/다양한 형태의 한글 문자 OCR/Training/[원천]Training...</td>\n      <td>갇</td>\n      <td>문자</td>\n    </tr>\n    <tr>\n      <th>4</th>\n      <td>./data/다양한 형태의 한글 문자 OCR/Training/[원천]Training...</td>\n      <td>갈</td>\n      <td>문자</td>\n    </tr>\n  </tbody>\n</table>\n</div>"
     },
     "execution_count": 9,
     "metadata": {},
     "output_type": "execute_result"
    }
   ],
   "source": [
    "# 이미지 종류와 경로 동시에 고르기\n",
    "mysql.search_basic_by_kind_and_path('필기체', 'Training')\n",
    "# mysql.search_basic_by_kind_and_path('필기체', 'Training', '문자') # '문장', '단어', '문자' 중 하나 선택 가능"
   ],
   "metadata": {
    "collapsed": false,
    "ExecuteTime": {
     "end_time": "2024-04-28T10:48:44.911112Z",
     "start_time": "2024-04-28T10:48:44.772917Z"
    }
   },
   "id": "f97bb05c0bc22a51",
   "execution_count": 9
  },
  {
   "cell_type": "markdown",
   "source": [
    "# 좌표 있는 데이터 선택"
   ],
   "metadata": {
    "collapsed": false
   },
   "id": "75031d2c9b0852f5"
  },
  {
   "cell_type": "code",
   "outputs": [
    {
     "data": {
      "text/plain": "                                          IMAGE_PATH   TEXT CLASS  TYPE  \\\n0  ./data/13.한국어글자체/04. Text in the wild_230209_a...  3분딥러닝    단어  book   \n1  ./data/13.한국어글자체/04. Text in the wild_230209_a...  3분딥러닝    단어  book   \n2  ./data/13.한국어글자체/04. Text in the wild_230209_a...  3분딥러닝    단어  book   \n3  ./data/13.한국어글자체/04. Text in the wild_230209_a...  3분딥러닝    단어  book   \n4  ./data/13.한국어글자체/04. Text in the wild_230209_a...  3분딥러닝    단어  book   \n\n                    COORD  \n0  (1693, 252, 1798, 357)  \n1  (1693, 252, 1798, 357)  \n2  (1693, 252, 1798, 357)  \n3  (1693, 252, 1798, 357)  \n4  (1693, 252, 1798, 357)  ",
      "text/html": "<div>\n<style scoped>\n    .dataframe tbody tr th:only-of-type {\n        vertical-align: middle;\n    }\n\n    .dataframe tbody tr th {\n        vertical-align: top;\n    }\n\n    .dataframe thead th {\n        text-align: right;\n    }\n</style>\n<table border=\"1\" class=\"dataframe\">\n  <thead>\n    <tr style=\"text-align: right;\">\n      <th></th>\n      <th>IMAGE_PATH</th>\n      <th>TEXT</th>\n      <th>CLASS</th>\n      <th>TYPE</th>\n      <th>COORD</th>\n    </tr>\n  </thead>\n  <tbody>\n    <tr>\n      <th>0</th>\n      <td>./data/13.한국어글자체/04. Text in the wild_230209_a...</td>\n      <td>3분딥러닝</td>\n      <td>단어</td>\n      <td>book</td>\n      <td>(1693, 252, 1798, 357)</td>\n    </tr>\n    <tr>\n      <th>1</th>\n      <td>./data/13.한국어글자체/04. Text in the wild_230209_a...</td>\n      <td>3분딥러닝</td>\n      <td>단어</td>\n      <td>book</td>\n      <td>(1693, 252, 1798, 357)</td>\n    </tr>\n    <tr>\n      <th>2</th>\n      <td>./data/13.한국어글자체/04. Text in the wild_230209_a...</td>\n      <td>3분딥러닝</td>\n      <td>단어</td>\n      <td>book</td>\n      <td>(1693, 252, 1798, 357)</td>\n    </tr>\n    <tr>\n      <th>3</th>\n      <td>./data/13.한국어글자체/04. Text in the wild_230209_a...</td>\n      <td>3분딥러닝</td>\n      <td>단어</td>\n      <td>book</td>\n      <td>(1693, 252, 1798, 357)</td>\n    </tr>\n    <tr>\n      <th>4</th>\n      <td>./data/13.한국어글자체/04. Text in the wild_230209_a...</td>\n      <td>3분딥러닝</td>\n      <td>단어</td>\n      <td>book</td>\n      <td>(1693, 252, 1798, 357)</td>\n    </tr>\n  </tbody>\n</table>\n</div>"
     },
     "execution_count": 10,
     "metadata": {},
     "output_type": "execute_result"
    }
   ],
   "source": [
    "# 이미지 종류 고르기\n",
    "\"\"\" '필기체', '인쇄체(다양한 형태)' 중 하나 고르기 \"\"\"\n",
    "mysql.search_coord_by_kind('인쇄체(다양한 형태)') \n",
    "# mysql.search_coord_by_kind('인쇄체(다양한 형태)', '단어') # 단어, 문자 중 하나 선택 가능"
   ],
   "metadata": {
    "collapsed": false,
    "ExecuteTime": {
     "end_time": "2024-04-28T10:48:45.069333Z",
     "start_time": "2024-04-28T10:48:44.912113Z"
    }
   },
   "id": "edf5b0b36556491",
   "execution_count": 10
  },
  {
   "cell_type": "code",
   "outputs": [
    {
     "data": {
      "text/plain": "                                          IMAGE_PATH TEXT CLASS  TYPE  \\\n0  ./data/다양한 형태의 한글 문자 OCR/Training/[원천]Training...    ■    문자  form   \n1  ./data/다양한 형태의 한글 문자 OCR/Training/[원천]Training...    【    문자  form   \n2  ./data/다양한 형태의 한글 문자 OCR/Training/[원천]Training...    서    문자  form   \n3  ./data/다양한 형태의 한글 문자 OCR/Training/[원천]Training...    식    문자  form   \n4  ./data/다양한 형태의 한글 문자 OCR/Training/[원천]Training...    8    문자  form   \n\n                  COORD  \n0  (559, 253, 590, 310)  \n1  (286, 254, 308, 309)  \n2  (309, 254, 359, 308)  \n3  (363, 254, 413, 308)  \n4  (444, 255, 475, 306)  ",
      "text/html": "<div>\n<style scoped>\n    .dataframe tbody tr th:only-of-type {\n        vertical-align: middle;\n    }\n\n    .dataframe tbody tr th {\n        vertical-align: top;\n    }\n\n    .dataframe thead th {\n        text-align: right;\n    }\n</style>\n<table border=\"1\" class=\"dataframe\">\n  <thead>\n    <tr style=\"text-align: right;\">\n      <th></th>\n      <th>IMAGE_PATH</th>\n      <th>TEXT</th>\n      <th>CLASS</th>\n      <th>TYPE</th>\n      <th>COORD</th>\n    </tr>\n  </thead>\n  <tbody>\n    <tr>\n      <th>0</th>\n      <td>./data/다양한 형태의 한글 문자 OCR/Training/[원천]Training...</td>\n      <td>■</td>\n      <td>문자</td>\n      <td>form</td>\n      <td>(559, 253, 590, 310)</td>\n    </tr>\n    <tr>\n      <th>1</th>\n      <td>./data/다양한 형태의 한글 문자 OCR/Training/[원천]Training...</td>\n      <td>【</td>\n      <td>문자</td>\n      <td>form</td>\n      <td>(286, 254, 308, 309)</td>\n    </tr>\n    <tr>\n      <th>2</th>\n      <td>./data/다양한 형태의 한글 문자 OCR/Training/[원천]Training...</td>\n      <td>서</td>\n      <td>문자</td>\n      <td>form</td>\n      <td>(309, 254, 359, 308)</td>\n    </tr>\n    <tr>\n      <th>3</th>\n      <td>./data/다양한 형태의 한글 문자 OCR/Training/[원천]Training...</td>\n      <td>식</td>\n      <td>문자</td>\n      <td>form</td>\n      <td>(363, 254, 413, 308)</td>\n    </tr>\n    <tr>\n      <th>4</th>\n      <td>./data/다양한 형태의 한글 문자 OCR/Training/[원천]Training...</td>\n      <td>8</td>\n      <td>문자</td>\n      <td>form</td>\n      <td>(444, 255, 475, 306)</td>\n    </tr>\n  </tbody>\n</table>\n</div>"
     },
     "execution_count": 11,
     "metadata": {},
     "output_type": "execute_result"
    }
   ],
   "source": [
    "# 경로 검색\n",
    "mysql.search_coord_by_path('Training')\n",
    "# mysql.search_coord_by_path('Training', '단어') # '단어', '문자' 중 하나 선택 가능"
   ],
   "metadata": {
    "collapsed": false,
    "ExecuteTime": {
     "end_time": "2024-04-28T10:48:45.221118Z",
     "start_time": "2024-04-28T10:48:45.070333Z"
    }
   },
   "id": "bea62e0772bed21f",
   "execution_count": 11
  },
  {
   "cell_type": "code",
   "outputs": [
    {
     "data": {
      "text/plain": "                                          IMAGE_PATH TEXT CLASS     TYPE  \\\n0  ./data/다양한 형태의 한글 문자 OCR/Training/[원천]Training...    가    문자  cursive   \n1  ./data/다양한 형태의 한글 문자 OCR/Training/[원천]Training...    게    문자  cursive   \n2  ./data/다양한 형태의 한글 문자 OCR/Training/[원천]Training...    가    문자  cursive   \n3  ./data/다양한 형태의 한글 문자 OCR/Training/[원천]Training...    격    문자  cursive   \n4  ./data/다양한 형태의 한글 문자 OCR/Training/[원천]Training...    가    문자  cursive   \n\n                COORD  \n0   (68, 17, 107, 89)  \n1  (113, 25, 171, 91)  \n2   (62, 20, 113, 93)  \n3  (119, 26, 168, 95)  \n4    (38, 22, 87, 88)  ",
      "text/html": "<div>\n<style scoped>\n    .dataframe tbody tr th:only-of-type {\n        vertical-align: middle;\n    }\n\n    .dataframe tbody tr th {\n        vertical-align: top;\n    }\n\n    .dataframe thead th {\n        text-align: right;\n    }\n</style>\n<table border=\"1\" class=\"dataframe\">\n  <thead>\n    <tr style=\"text-align: right;\">\n      <th></th>\n      <th>IMAGE_PATH</th>\n      <th>TEXT</th>\n      <th>CLASS</th>\n      <th>TYPE</th>\n      <th>COORD</th>\n    </tr>\n  </thead>\n  <tbody>\n    <tr>\n      <th>0</th>\n      <td>./data/다양한 형태의 한글 문자 OCR/Training/[원천]Training...</td>\n      <td>가</td>\n      <td>문자</td>\n      <td>cursive</td>\n      <td>(68, 17, 107, 89)</td>\n    </tr>\n    <tr>\n      <th>1</th>\n      <td>./data/다양한 형태의 한글 문자 OCR/Training/[원천]Training...</td>\n      <td>게</td>\n      <td>문자</td>\n      <td>cursive</td>\n      <td>(113, 25, 171, 91)</td>\n    </tr>\n    <tr>\n      <th>2</th>\n      <td>./data/다양한 형태의 한글 문자 OCR/Training/[원천]Training...</td>\n      <td>가</td>\n      <td>문자</td>\n      <td>cursive</td>\n      <td>(62, 20, 113, 93)</td>\n    </tr>\n    <tr>\n      <th>3</th>\n      <td>./data/다양한 형태의 한글 문자 OCR/Training/[원천]Training...</td>\n      <td>격</td>\n      <td>문자</td>\n      <td>cursive</td>\n      <td>(119, 26, 168, 95)</td>\n    </tr>\n    <tr>\n      <th>4</th>\n      <td>./data/다양한 형태의 한글 문자 OCR/Training/[원천]Training...</td>\n      <td>가</td>\n      <td>문자</td>\n      <td>cursive</td>\n      <td>(38, 22, 87, 88)</td>\n    </tr>\n  </tbody>\n</table>\n</div>"
     },
     "execution_count": 12,
     "metadata": {},
     "output_type": "execute_result"
    }
   ],
   "source": [
    "# 이미지 종류와 경로 동시에 고르기\n",
    "# mysql.search_coord_by_kind_and_path('필기체', 'Training')\n",
    "mysql.search_coord_by_kind_and_path('필기체', 'Training', '문자') # '단어', '문자' 중 하나 선택 가능"
   ],
   "metadata": {
    "collapsed": false,
    "ExecuteTime": {
     "end_time": "2024-04-28T10:48:47.136891Z",
     "start_time": "2024-04-28T10:48:45.223280Z"
    }
   },
   "id": "3db804a9048944e4",
   "execution_count": 12
  },
  {
   "cell_type": "code",
   "outputs": [
    {
     "data": {
      "text/plain": "                                          IMAGE_PATH TEXT CLASS  TYPE  \\\n0  ./data/13.한국어글자체/04. Text in the wild_230209_a...  우리가    단어  book   \n1  ./data/13.한국어글자체/04. Text in the wild_230209_a...   보낸    단어  book   \n2  ./data/13.한국어글자체/04. Text in the wild_230209_a...   가장    단어  book   \n3  ./data/13.한국어글자체/04. Text in the wild_230209_a...    긴    단어  book   \n4  ./data/13.한국어글자체/04. Text in the wild_230209_a...    밤    단어  book   \n\n                    COORD  \n0   (998, 499, 1240, 584)  \n1   (993, 594, 1156, 675)  \n2  (1165, 591, 1345, 678)  \n3   (990, 684, 1090, 771)  \n4  (1100, 684, 1195, 775)  ",
      "text/html": "<div>\n<style scoped>\n    .dataframe tbody tr th:only-of-type {\n        vertical-align: middle;\n    }\n\n    .dataframe tbody tr th {\n        vertical-align: top;\n    }\n\n    .dataframe thead th {\n        text-align: right;\n    }\n</style>\n<table border=\"1\" class=\"dataframe\">\n  <thead>\n    <tr style=\"text-align: right;\">\n      <th></th>\n      <th>IMAGE_PATH</th>\n      <th>TEXT</th>\n      <th>CLASS</th>\n      <th>TYPE</th>\n      <th>COORD</th>\n    </tr>\n  </thead>\n  <tbody>\n    <tr>\n      <th>0</th>\n      <td>./data/13.한국어글자체/04. Text in the wild_230209_a...</td>\n      <td>우리가</td>\n      <td>단어</td>\n      <td>book</td>\n      <td>(998, 499, 1240, 584)</td>\n    </tr>\n    <tr>\n      <th>1</th>\n      <td>./data/13.한국어글자체/04. Text in the wild_230209_a...</td>\n      <td>보낸</td>\n      <td>단어</td>\n      <td>book</td>\n      <td>(993, 594, 1156, 675)</td>\n    </tr>\n    <tr>\n      <th>2</th>\n      <td>./data/13.한국어글자체/04. Text in the wild_230209_a...</td>\n      <td>가장</td>\n      <td>단어</td>\n      <td>book</td>\n      <td>(1165, 591, 1345, 678)</td>\n    </tr>\n    <tr>\n      <th>3</th>\n      <td>./data/13.한국어글자체/04. Text in the wild_230209_a...</td>\n      <td>긴</td>\n      <td>단어</td>\n      <td>book</td>\n      <td>(990, 684, 1090, 771)</td>\n    </tr>\n    <tr>\n      <th>4</th>\n      <td>./data/13.한국어글자체/04. Text in the wild_230209_a...</td>\n      <td>밤</td>\n      <td>단어</td>\n      <td>book</td>\n      <td>(1100, 684, 1195, 775)</td>\n    </tr>\n  </tbody>\n</table>\n</div>"
     },
     "execution_count": 13,
     "metadata": {},
     "output_type": "execute_result"
    }
   ],
   "source": [
    "# 타입 선택\n",
    "\"\"\"\n",
    "'book', 'Goods', 'Signboard', 'Traffic_Sign', 'form', 'cursive' 중 하나\n",
    "\"\"\"\n",
    "# mysql.search_coord_by_type('book')\n",
    "mysql.search_coord_by_type('book', '단어')"
   ],
   "metadata": {
    "collapsed": false,
    "ExecuteTime": {
     "end_time": "2024-04-28T10:49:29.161507Z",
     "start_time": "2024-04-28T10:48:47.137892Z"
    }
   },
   "id": "ac04b66e23001659",
   "execution_count": 13
  },
  {
   "cell_type": "code",
   "outputs": [
    {
     "name": "stdout",
     "output_type": "stream",
     "text": [
      "AND T.CLASS = %s ('%한국어글자체%', 'book', '단어')\n"
     ]
    },
    {
     "data": {
      "text/plain": "                                          IMAGE_PATH TEXT CLASS  TYPE  \\\n0  ./data/13.한국어글자체/04. Text in the wild_230209_a...  우리가    단어  book   \n1  ./data/13.한국어글자체/04. Text in the wild_230209_a...   보낸    단어  book   \n2  ./data/13.한국어글자체/04. Text in the wild_230209_a...   가장    단어  book   \n3  ./data/13.한국어글자체/04. Text in the wild_230209_a...    긴    단어  book   \n4  ./data/13.한국어글자체/04. Text in the wild_230209_a...    밤    단어  book   \n\n                    COORD  \n0   (998, 499, 1240, 584)  \n1   (993, 594, 1156, 675)  \n2  (1165, 591, 1345, 678)  \n3   (990, 684, 1090, 771)  \n4  (1100, 684, 1195, 775)  ",
      "text/html": "<div>\n<style scoped>\n    .dataframe tbody tr th:only-of-type {\n        vertical-align: middle;\n    }\n\n    .dataframe tbody tr th {\n        vertical-align: top;\n    }\n\n    .dataframe thead th {\n        text-align: right;\n    }\n</style>\n<table border=\"1\" class=\"dataframe\">\n  <thead>\n    <tr style=\"text-align: right;\">\n      <th></th>\n      <th>IMAGE_PATH</th>\n      <th>TEXT</th>\n      <th>CLASS</th>\n      <th>TYPE</th>\n      <th>COORD</th>\n    </tr>\n  </thead>\n  <tbody>\n    <tr>\n      <th>0</th>\n      <td>./data/13.한국어글자체/04. Text in the wild_230209_a...</td>\n      <td>우리가</td>\n      <td>단어</td>\n      <td>book</td>\n      <td>(998, 499, 1240, 584)</td>\n    </tr>\n    <tr>\n      <th>1</th>\n      <td>./data/13.한국어글자체/04. Text in the wild_230209_a...</td>\n      <td>보낸</td>\n      <td>단어</td>\n      <td>book</td>\n      <td>(993, 594, 1156, 675)</td>\n    </tr>\n    <tr>\n      <th>2</th>\n      <td>./data/13.한국어글자체/04. Text in the wild_230209_a...</td>\n      <td>가장</td>\n      <td>단어</td>\n      <td>book</td>\n      <td>(1165, 591, 1345, 678)</td>\n    </tr>\n    <tr>\n      <th>3</th>\n      <td>./data/13.한국어글자체/04. Text in the wild_230209_a...</td>\n      <td>긴</td>\n      <td>단어</td>\n      <td>book</td>\n      <td>(990, 684, 1090, 771)</td>\n    </tr>\n    <tr>\n      <th>4</th>\n      <td>./data/13.한국어글자체/04. Text in the wild_230209_a...</td>\n      <td>밤</td>\n      <td>단어</td>\n      <td>book</td>\n      <td>(1100, 684, 1195, 775)</td>\n    </tr>\n  </tbody>\n</table>\n</div>"
     },
     "execution_count": 14,
     "metadata": {},
     "output_type": "execute_result"
    }
   ],
   "source": [
    "# 경로 검색, 타입 선택\n",
    "# mysql.search_coord_by_path_and_type('한국어글자체', 'book')\n",
    "mysql.search_coord_by_path_and_type('한국어글자체', 'book', '단어')"
   ],
   "metadata": {
    "collapsed": false,
    "ExecuteTime": {
     "end_time": "2024-04-28T10:50:15.588238Z",
     "start_time": "2024-04-28T10:49:29.163507Z"
    }
   },
   "id": "46a4850c6f075aa3",
   "execution_count": 14
  }
 ],
 "metadata": {
  "kernelspec": {
   "display_name": "Python 3",
   "language": "python",
   "name": "python3"
  },
  "language_info": {
   "codemirror_mode": {
    "name": "ipython",
    "version": 2
   },
   "file_extension": ".py",
   "mimetype": "text/x-python",
   "name": "python",
   "nbconvert_exporter": "python",
   "pygments_lexer": "ipython2",
   "version": "2.7.6"
  }
 },
 "nbformat": 4,
 "nbformat_minor": 5
}
